{
 "cells": [
  {
   "cell_type": "code",
   "execution_count": 1,
   "id": "e74ac332-8c5b-4fcf-a480-9e76bae18cca",
   "metadata": {},
   "outputs": [],
   "source": [
    "import pandas as pd"
   ]
  },
  {
   "cell_type": "code",
   "execution_count": 2,
   "id": "07da9992-cab3-453c-b168-6f60ca2a4cbe",
   "metadata": {},
   "outputs": [],
   "source": [
    "import nltk\n",
    "import numpy as np\n",
    "import re\n",
    "import string\n",
    "\n",
    "import seaborn as sns\n",
    "import matplotlib.pyplot as plt\n",
    "from nltk.chunk import ne_chunk\n",
    "from nltk.corpus import stopwords\n",
    "from nltk.stem import WordNetLemmatizer\n",
    "from nltk.tokenize import word_tokenize\n",
    "from collections import Counter\n",
    "import warnings\n",
    "warnings.filterwarnings(\"ignore\")"
   ]
  },
  {
   "cell_type": "code",
   "execution_count": 3,
   "id": "6450bf89-31dd-4936-bb2d-dcaff0dd426d",
   "metadata": {},
   "outputs": [],
   "source": [
    "from pandarallel import pandarallel\n",
    "import spacy"
   ]
  },
  {
   "cell_type": "code",
   "execution_count": 4,
   "id": "4a0702a0-b0db-4947-bee1-00b44ba73278",
   "metadata": {},
   "outputs": [
    {
     "name": "stdout",
     "output_type": "stream",
     "text": [
      "Bucket nlp_finalproject connected.\n"
     ]
    }
   ],
   "source": [
    "from google.cloud import storage\n",
    "# Instantiates a client\n",
    "storage_client = storage.Client()\n",
    "\n",
    "# The name for the new bucket\n",
    "bucket_name = \"nlp_finalproject\"\n",
    "\n",
    "# Creates the new bucket\n",
    "bucket = storage_client.bucket(bucket_name)\n",
    "print(f\"Bucket {bucket.name} connected.\")"
   ]
  },
  {
   "cell_type": "code",
   "execution_count": 5,
   "id": "daf9459b-5116-48f2-beb5-372f369df1e0",
   "metadata": {},
   "outputs": [
    {
     "data": {
      "text/html": [
       "<div>\n",
       "<style scoped>\n",
       "    .dataframe tbody tr th:only-of-type {\n",
       "        vertical-align: middle;\n",
       "    }\n",
       "\n",
       "    .dataframe tbody tr th {\n",
       "        vertical-align: top;\n",
       "    }\n",
       "\n",
       "    .dataframe thead th {\n",
       "        text-align: right;\n",
       "    }\n",
       "</style>\n",
       "<table border=\"1\" class=\"dataframe\">\n",
       "  <thead>\n",
       "    <tr style=\"text-align: right;\">\n",
       "      <th></th>\n",
       "      <th>date</th>\n",
       "      <th>title</th>\n",
       "      <th>text</th>\n",
       "      <th>year</th>\n",
       "      <th>cleaned</th>\n",
       "      <th>clean_title</th>\n",
       "      <th>ORG_Ent</th>\n",
       "      <th>Person_Ent</th>\n",
       "    </tr>\n",
       "  </thead>\n",
       "  <tbody>\n",
       "    <tr>\n",
       "      <th>0</th>\n",
       "      <td>2020-02-26</td>\n",
       "      <td>LegalTech Artificial Intelligence Market 2019 ...</td>\n",
       "      <td>LegalTech Artificial Intelligence Market 2019 ...</td>\n",
       "      <td>2020</td>\n",
       "      <td>LegalTech Artificial Intelligence Market 2019 ...</td>\n",
       "      <td>LegalTech Artificial Intelligence Market 2019 ...</td>\n",
       "      <td>[LegalTech Artificial Intelligence Market  Tec...</td>\n",
       "      <td>[]</td>\n",
       "    </tr>\n",
       "    <tr>\n",
       "      <th>4</th>\n",
       "      <td>2020-08-07</td>\n",
       "      <td>Two dead as AI Express flight skids off Kozhik...</td>\n",
       "      <td>Two dead as AI Express flight skids off Kozhik...</td>\n",
       "      <td>2020</td>\n",
       "      <td>Two dead as AI Express flight skids off Kozhik...</td>\n",
       "      <td>Two dead as AI Express flight skids off Kozhik...</td>\n",
       "      <td>[AI Express, PostBeyond BygoneEpic PowerIn Ret...</td>\n",
       "      <td>[]</td>\n",
       "    </tr>\n",
       "    <tr>\n",
       "      <th>7</th>\n",
       "      <td>2021-02-25</td>\n",
       "      <td>MulticoreWare Inc. Becomes CEVA’s Trusted Part...</td>\n",
       "      <td>\\n\\nMulticoreWare Inc. Becomes CEVA’s Trusted ...</td>\n",
       "      <td>2021</td>\n",
       "      <td>MulticoreWare Inc. Becomes CEVA s Trusted Part...</td>\n",
       "      <td>MulticoreWare Inc. Becomes CEVA s Trusted Part...</td>\n",
       "      <td>[MulticoreWare Inc., Trusted Partner for Imagi...</td>\n",
       "      <td>[]</td>\n",
       "    </tr>\n",
       "    <tr>\n",
       "      <th>8</th>\n",
       "      <td>2022-10-06</td>\n",
       "      <td>Healthcare Artificial Intelligence Market Anal...</td>\n",
       "      <td>\\n\\nHealthcare Artificial Intelligence Market ...</td>\n",
       "      <td>2022</td>\n",
       "      <td>Healthcare Artificial Intelligence Market Anal...</td>\n",
       "      <td>Healthcare Artificial Intelligence Market Anal...</td>\n",
       "      <td>[Healthcare Artificial Intelligence Market Ana...</td>\n",
       "      <td>[]</td>\n",
       "    </tr>\n",
       "    <tr>\n",
       "      <th>9</th>\n",
       "      <td>2020-04-29</td>\n",
       "      <td>Artificial Intelligence As A Service Market : ...</td>\n",
       "      <td>\\n\\nArtificial Intelligence As A Service Marke...</td>\n",
       "      <td>2020</td>\n",
       "      <td>Artificial Intelligence As A Service Market : ...</td>\n",
       "      <td>Artificial Intelligence As A Service Market : ...</td>\n",
       "      <td>[Artificial Intelligence As A Service Market, ...</td>\n",
       "      <td>[]</td>\n",
       "    </tr>\n",
       "  </tbody>\n",
       "</table>\n",
       "</div>"
      ],
      "text/plain": [
       "        date                                              title  \\\n",
       "0 2020-02-26  LegalTech Artificial Intelligence Market 2019 ...   \n",
       "4 2020-08-07  Two dead as AI Express flight skids off Kozhik...   \n",
       "7 2021-02-25  MulticoreWare Inc. Becomes CEVA’s Trusted Part...   \n",
       "8 2022-10-06  Healthcare Artificial Intelligence Market Anal...   \n",
       "9 2020-04-29  Artificial Intelligence As A Service Market : ...   \n",
       "\n",
       "                                                text  year  \\\n",
       "0  LegalTech Artificial Intelligence Market 2019 ...  2020   \n",
       "4  Two dead as AI Express flight skids off Kozhik...  2020   \n",
       "7  \\n\\nMulticoreWare Inc. Becomes CEVA’s Trusted ...  2021   \n",
       "8  \\n\\nHealthcare Artificial Intelligence Market ...  2022   \n",
       "9  \\n\\nArtificial Intelligence As A Service Marke...  2020   \n",
       "\n",
       "                                             cleaned  \\\n",
       "0  LegalTech Artificial Intelligence Market 2019 ...   \n",
       "4  Two dead as AI Express flight skids off Kozhik...   \n",
       "7  MulticoreWare Inc. Becomes CEVA s Trusted Part...   \n",
       "8  Healthcare Artificial Intelligence Market Anal...   \n",
       "9  Artificial Intelligence As A Service Market : ...   \n",
       "\n",
       "                                         clean_title  \\\n",
       "0  LegalTech Artificial Intelligence Market 2019 ...   \n",
       "4  Two dead as AI Express flight skids off Kozhik...   \n",
       "7  MulticoreWare Inc. Becomes CEVA s Trusted Part...   \n",
       "8  Healthcare Artificial Intelligence Market Anal...   \n",
       "9  Artificial Intelligence As A Service Market : ...   \n",
       "\n",
       "                                             ORG_Ent Person_Ent  \n",
       "0  [LegalTech Artificial Intelligence Market  Tec...         []  \n",
       "4  [AI Express, PostBeyond BygoneEpic PowerIn Ret...         []  \n",
       "7  [MulticoreWare Inc., Trusted Partner for Imagi...         []  \n",
       "8  [Healthcare Artificial Intelligence Market Ana...         []  \n",
       "9  [Artificial Intelligence As A Service Market, ...         []  "
      ]
     },
     "execution_count": 5,
     "metadata": {},
     "output_type": "execute_result"
    }
   ],
   "source": [
    "df_final_NER = pd.read_parquet(\"gs://nlp_finalproject/NER_Clean.parquet\", engine='pyarrow')\n",
    "df_final_NER.head(5)"
   ]
  },
  {
   "cell_type": "code",
   "execution_count": 6,
   "id": "a89ab39f-383f-40fa-a4a8-9bd83d2f0f4c",
   "metadata": {},
   "outputs": [
    {
     "name": "stdout",
     "output_type": "stream",
     "text": [
      "INFO: Pandarallel will run on 8 workers.\n",
      "INFO: Pandarallel will use standard multiprocessing data transfer (pipe) to transfer data between the main process and workers.\n"
     ]
    }
   ],
   "source": [
    "pandarallel.initialize(progress_bar=True, use_memory_fs=False)"
   ]
  },
  {
   "cell_type": "code",
   "execution_count": 9,
   "id": "01b32ade-2ad2-4658-87bd-cf1d48550c80",
   "metadata": {},
   "outputs": [],
   "source": [
    "df_final_NER['NER_title_clean'] = df_final_NER['clean_title'].apply(lambda x: re.sub(r'[^\\w\\s.,]', '', x))"
   ]
  },
  {
   "cell_type": "code",
   "execution_count": 10,
   "id": "d1e3eca9-9efd-4b57-8fe9-fadd943b9ee7",
   "metadata": {},
   "outputs": [],
   "source": [
    "df_final_NER['NER_title_clean'] = df_final_NER['NER_title_clean'].str.replace('\\d+', '', regex=True)"
   ]
  },
  {
   "cell_type": "code",
   "execution_count": 11,
   "id": "3fd9a0ac-590f-48ab-89ef-f5cc3246a51d",
   "metadata": {},
   "outputs": [],
   "source": [
    "df_final_NER['NER_title_clean'] = df_final_NER['NER_title_clean'].apply(lambda x: re.sub(r'{So}', '', x))"
   ]
  },
  {
   "cell_type": "code",
   "execution_count": 12,
   "id": "7c5e12c3-7ee7-45b7-ad90-adfc8d912b13",
   "metadata": {},
   "outputs": [],
   "source": [
    "df_final_NER['NER_title_clean'] = df_final_NER['NER_title_clean'].str.strip()"
   ]
  },
  {
   "cell_type": "code",
   "execution_count": 13,
   "id": "314ba5f4-7f8c-431d-8bf5-441aff7d5ec4",
   "metadata": {},
   "outputs": [
    {
     "name": "stdout",
     "output_type": "stream",
     "text": [
      "Collecting en-core-web-sm==3.6.0\n",
      "  Downloading https://github.com/explosion/spacy-models/releases/download/en_core_web_sm-3.6.0/en_core_web_sm-3.6.0-py3-none-any.whl (12.8 MB)\n",
      "\u001b[2K     \u001b[90m━━━━━━━━━━━━━━━━━━━━━━━━━━━━━━━━━━━━━━━━\u001b[0m \u001b[32m12.8/12.8 MB\u001b[0m \u001b[31m82.2 MB/s\u001b[0m eta \u001b[36m0:00:00\u001b[0m00:01\u001b[0m0:01\u001b[0m\n",
      "\u001b[?25hRequirement already satisfied: spacy<3.7.0,>=3.6.0 in /opt/conda/lib/python3.10/site-packages (from en-core-web-sm==3.6.0) (3.6.0)\n",
      "Requirement already satisfied: spacy-legacy<3.1.0,>=3.0.11 in /opt/conda/lib/python3.10/site-packages (from spacy<3.7.0,>=3.6.0->en-core-web-sm==3.6.0) (3.0.12)\n",
      "Requirement already satisfied: spacy-loggers<2.0.0,>=1.0.0 in /opt/conda/lib/python3.10/site-packages (from spacy<3.7.0,>=3.6.0->en-core-web-sm==3.6.0) (1.0.4)\n",
      "Requirement already satisfied: murmurhash<1.1.0,>=0.28.0 in /opt/conda/lib/python3.10/site-packages (from spacy<3.7.0,>=3.6.0->en-core-web-sm==3.6.0) (1.0.9)\n",
      "Requirement already satisfied: cymem<2.1.0,>=2.0.2 in /opt/conda/lib/python3.10/site-packages (from spacy<3.7.0,>=3.6.0->en-core-web-sm==3.6.0) (2.0.7)\n",
      "Requirement already satisfied: preshed<3.1.0,>=3.0.2 in /opt/conda/lib/python3.10/site-packages (from spacy<3.7.0,>=3.6.0->en-core-web-sm==3.6.0) (3.0.8)\n",
      "Requirement already satisfied: thinc<8.2.0,>=8.1.8 in /opt/conda/lib/python3.10/site-packages (from spacy<3.7.0,>=3.6.0->en-core-web-sm==3.6.0) (8.1.12)\n",
      "Requirement already satisfied: wasabi<1.2.0,>=0.9.1 in /opt/conda/lib/python3.10/site-packages (from spacy<3.7.0,>=3.6.0->en-core-web-sm==3.6.0) (1.1.2)\n",
      "Requirement already satisfied: srsly<3.0.0,>=2.4.3 in /opt/conda/lib/python3.10/site-packages (from spacy<3.7.0,>=3.6.0->en-core-web-sm==3.6.0) (2.4.7)\n",
      "Requirement already satisfied: catalogue<2.1.0,>=2.0.6 in /opt/conda/lib/python3.10/site-packages (from spacy<3.7.0,>=3.6.0->en-core-web-sm==3.6.0) (2.0.9)\n",
      "Requirement already satisfied: typer<0.10.0,>=0.3.0 in /opt/conda/lib/python3.10/site-packages (from spacy<3.7.0,>=3.6.0->en-core-web-sm==3.6.0) (0.9.0)\n",
      "Requirement already satisfied: pathy>=0.10.0 in /opt/conda/lib/python3.10/site-packages (from spacy<3.7.0,>=3.6.0->en-core-web-sm==3.6.0) (0.10.2)\n",
      "Requirement already satisfied: smart-open<7.0.0,>=5.2.1 in /opt/conda/lib/python3.10/site-packages (from spacy<3.7.0,>=3.6.0->en-core-web-sm==3.6.0) (6.3.0)\n",
      "Requirement already satisfied: tqdm<5.0.0,>=4.38.0 in /opt/conda/lib/python3.10/site-packages (from spacy<3.7.0,>=3.6.0->en-core-web-sm==3.6.0) (4.65.0)\n",
      "Requirement already satisfied: numpy>=1.15.0 in /opt/conda/lib/python3.10/site-packages (from spacy<3.7.0,>=3.6.0->en-core-web-sm==3.6.0) (1.24.3)\n",
      "Requirement already satisfied: requests<3.0.0,>=2.13.0 in /opt/conda/lib/python3.10/site-packages (from spacy<3.7.0,>=3.6.0->en-core-web-sm==3.6.0) (2.31.0)\n",
      "Requirement already satisfied: pydantic!=1.8,!=1.8.1,<1.11.0,>=1.7.4 in /opt/conda/lib/python3.10/site-packages (from spacy<3.7.0,>=3.6.0->en-core-web-sm==3.6.0) (1.10.12)\n",
      "Requirement already satisfied: jinja2 in /opt/conda/lib/python3.10/site-packages (from spacy<3.7.0,>=3.6.0->en-core-web-sm==3.6.0) (3.1.2)\n",
      "Requirement already satisfied: setuptools in /opt/conda/lib/python3.10/site-packages (from spacy<3.7.0,>=3.6.0->en-core-web-sm==3.6.0) (68.0.0)\n",
      "Requirement already satisfied: packaging>=20.0 in /opt/conda/lib/python3.10/site-packages (from spacy<3.7.0,>=3.6.0->en-core-web-sm==3.6.0) (23.1)\n",
      "Requirement already satisfied: langcodes<4.0.0,>=3.2.0 in /opt/conda/lib/python3.10/site-packages (from spacy<3.7.0,>=3.6.0->en-core-web-sm==3.6.0) (3.3.0)\n",
      "Requirement already satisfied: typing-extensions>=4.2.0 in /opt/conda/lib/python3.10/site-packages (from pydantic!=1.8,!=1.8.1,<1.11.0,>=1.7.4->spacy<3.7.0,>=3.6.0->en-core-web-sm==3.6.0) (4.5.0)\n",
      "Requirement already satisfied: charset-normalizer<4,>=2 in /opt/conda/lib/python3.10/site-packages (from requests<3.0.0,>=2.13.0->spacy<3.7.0,>=3.6.0->en-core-web-sm==3.6.0) (3.2.0)\n",
      "Requirement already satisfied: idna<4,>=2.5 in /opt/conda/lib/python3.10/site-packages (from requests<3.0.0,>=2.13.0->spacy<3.7.0,>=3.6.0->en-core-web-sm==3.6.0) (3.4)\n",
      "Requirement already satisfied: urllib3<3,>=1.21.1 in /opt/conda/lib/python3.10/site-packages (from requests<3.0.0,>=2.13.0->spacy<3.7.0,>=3.6.0->en-core-web-sm==3.6.0) (1.26.16)\n",
      "Requirement already satisfied: certifi>=2017.4.17 in /opt/conda/lib/python3.10/site-packages (from requests<3.0.0,>=2.13.0->spacy<3.7.0,>=3.6.0->en-core-web-sm==3.6.0) (2023.7.22)\n",
      "Requirement already satisfied: blis<0.8.0,>=0.7.8 in /opt/conda/lib/python3.10/site-packages (from thinc<8.2.0,>=8.1.8->spacy<3.7.0,>=3.6.0->en-core-web-sm==3.6.0) (0.7.10)\n",
      "Requirement already satisfied: confection<1.0.0,>=0.0.1 in /opt/conda/lib/python3.10/site-packages (from thinc<8.2.0,>=8.1.8->spacy<3.7.0,>=3.6.0->en-core-web-sm==3.6.0) (0.1.1)\n",
      "Requirement already satisfied: click<9.0.0,>=7.1.1 in /opt/conda/lib/python3.10/site-packages (from typer<0.10.0,>=0.3.0->spacy<3.7.0,>=3.6.0->en-core-web-sm==3.6.0) (8.1.6)\n",
      "Requirement already satisfied: MarkupSafe>=2.0 in /opt/conda/lib/python3.10/site-packages (from jinja2->spacy<3.7.0,>=3.6.0->en-core-web-sm==3.6.0) (2.1.3)\n",
      "Installing collected packages: en-core-web-sm\n",
      "Successfully installed en-core-web-sm-3.6.0\n",
      "\u001b[33mWARNING: Running pip as the 'root' user can result in broken permissions and conflicting behaviour with the system package manager. It is recommended to use a virtual environment instead: https://pip.pypa.io/warnings/venv\u001b[0m\u001b[33m\n",
      "\u001b[0m\u001b[38;5;2m✔ Download and installation successful\u001b[0m\n",
      "You can now load the package via spacy.load('en_core_web_sm')\n"
     ]
    }
   ],
   "source": [
    "!python -m spacy download en_core_web_sm"
   ]
  },
  {
   "cell_type": "markdown",
   "id": "8c867b92-70b3-4b42-82a2-1603c5e317ff",
   "metadata": {},
   "source": [
    "### NER to Find ORG and Person in Titles"
   ]
  },
  {
   "cell_type": "code",
   "execution_count": 14,
   "id": "37db730b-d921-4bac-8c88-1bab615cebfc",
   "metadata": {},
   "outputs": [],
   "source": [
    "nlp = spacy.load(\"en_core_web_sm\")"
   ]
  },
  {
   "cell_type": "code",
   "execution_count": 15,
   "id": "2acf11e9-0207-436a-b860-784824c4e582",
   "metadata": {},
   "outputs": [
    {
     "data": {
      "application/vnd.jupyter.widget-view+json": {
       "model_id": "fbd62109698c423283fdca0faf113825",
       "version_major": 2,
       "version_minor": 0
      },
      "text/plain": [
       "VBox(children=(HBox(children=(IntProgress(value=0, description='0.00%', max=20416), Label(value='0 / 20416')))…"
      ]
     },
     "metadata": {},
     "output_type": "display_data"
    }
   ],
   "source": [
    "def extract_entities(text):\n",
    "    doc = nlp(text)\n",
    "    entities = [ent.text for ent in doc.ents if ent.label_ == \"ORG\"]\n",
    "    return entities\n",
    "\n",
    "df_final_NER['title_ORG_Ent'] = df_final_NER['NER_title_clean'].parallel_apply(extract_entities)"
   ]
  },
  {
   "cell_type": "code",
   "execution_count": null,
   "id": "2a66c16e-936b-4321-9c7b-670d64359357",
   "metadata": {},
   "outputs": [
    {
     "data": {
      "application/vnd.jupyter.widget-view+json": {
       "model_id": "32784b5405aa4c5ea6e3d7c1764a7234",
       "version_major": 2,
       "version_minor": 0
      },
      "text/plain": [
       "VBox(children=(HBox(children=(IntProgress(value=0, description='0.00%', max=20416), Label(value='0 / 20416')))…"
      ]
     },
     "metadata": {},
     "output_type": "display_data"
    }
   ],
   "source": [
    "# %%time\n",
    "# def extract_entities(text):\n",
    "#     doc = nlp(text)\n",
    "#     entities = [ent.text for ent in doc.ents if ent.label_ == \"Person\"]\n",
    "#     return entities\n",
    "\n",
    "# df_final_NER['Person_ORG_Ent'] = df_final_NER['NER_title_clean'].parallel_apply(extract_entities)"
   ]
  },
  {
   "cell_type": "code",
   "execution_count": 24,
   "id": "23cf98a6-fc08-47c4-a665-823377d16c8e",
   "metadata": {},
   "outputs": [
    {
     "data": {
      "text/plain": [
       "ORG_Ent\n",
       "AI                  1115677\n",
       "Microsoft            114279\n",
       "Gray Media Group     102416\n",
       "Google                98442\n",
       "PRNewswire            50668\n",
       "GPT                   38059\n",
       "Amazon                32284\n",
       "IBM                   28285\n",
       "AP                    24415\n",
       "ML                    23908\n",
       "Name: count, dtype: int64"
      ]
     },
     "execution_count": 24,
     "metadata": {},
     "output_type": "execute_result"
    }
   ],
   "source": [
    "tmp = df_final_NER[['ORG_Ent','year']]\n",
    "plot_tmp = tmp.explode('ORG_Ent')\n",
    "ORG_counts = plot_tmp['ORG_Ent'].value_counts()"
   ]
  },
  {
   "cell_type": "code",
   "execution_count": 27,
   "id": "54cdb188-b5d7-47c0-8d85-8e9e17efcac6",
   "metadata": {},
   "outputs": [
    {
     "data": {
      "text/plain": [
       "ORG_Ent\n",
       "AI                         1115677\n",
       "Microsoft                   114279\n",
       "Gray Media Group            102416\n",
       "Google                       98442\n",
       "PRNewswire                   50668\n",
       "GPT                          38059\n",
       "Amazon                       32284\n",
       "IBM                          28285\n",
       "AP                           24415\n",
       "ML                           23908\n",
       "Apple                        23454\n",
       "COVID                        22102\n",
       "Android                      19819\n",
       "Bard                         19304\n",
       "EU                           17998\n",
       "Altman                       16569\n",
       "Intel                        16373\n",
       "Artificial Intelligence      16098\n",
       "Meta                         15386\n",
       "Gray Media Group, Inc.       12308\n",
       "The Associated Press         12216\n",
       "Forecast                     11558\n",
       "Nvidia                       11543\n",
       "PredictionsHow               11363\n",
       "Environ                      11355\n",
       "Name: count, dtype: int64"
      ]
     },
     "execution_count": 27,
     "metadata": {},
     "output_type": "execute_result"
    }
   ],
   "source": [
    "ORG_counts.head(25)"
   ]
  }
 ],
 "metadata": {
  "environment": {
   "kernel": "python3",
   "name": ".m117",
   "type": "gcloud",
   "uri": "us-docker.pkg.dev/deeplearning-platform-release/gcr.io/:m117"
  },
  "kernelspec": {
   "display_name": "Python 3 (ipykernel)",
   "language": "python",
   "name": "python3"
  },
  "language_info": {
   "codemirror_mode": {
    "name": "ipython",
    "version": 3
   },
   "file_extension": ".py",
   "mimetype": "text/x-python",
   "name": "python",
   "nbconvert_exporter": "python",
   "pygments_lexer": "ipython3",
   "version": "3.10.12"
  }
 },
 "nbformat": 4,
 "nbformat_minor": 5
}
