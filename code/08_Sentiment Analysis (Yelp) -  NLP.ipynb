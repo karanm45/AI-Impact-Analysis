{
 "cells": [
  {
   "cell_type": "code",
   "execution_count": 4,
   "id": "ba488bdd-afce-4233-a600-6f585da0d565",
   "metadata": {},
   "outputs": [],
   "source": [
    "import pandas as pd"
   ]
  },
  {
   "cell_type": "code",
   "execution_count": 5,
   "id": "247394a6-bdc2-4740-979d-20fff77e1600",
   "metadata": {},
   "outputs": [],
   "source": [
    "import nltk\n",
    "import numpy as np\n",
    "import re\n",
    "import string\n",
    "\n",
    "import seaborn as sns\n",
    "import matplotlib.pyplot as plt\n",
    "from collections import Counter\n",
    "import warnings\n",
    "warnings.filterwarnings(\"ignore\")"
   ]
  },
  {
   "cell_type": "code",
   "execution_count": 1,
   "id": "dad3e125-a97f-458b-be4c-f60fd8f9dbbb",
   "metadata": {},
   "outputs": [],
   "source": [
    "import multiprocessing\n",
    "from pandarallel import pandarallel\n",
    "import spacy"
   ]
  },
  {
   "cell_type": "code",
   "execution_count": 2,
   "id": "b1f43919-4449-4950-b314-10baf8e892e9",
   "metadata": {},
   "outputs": [],
   "source": [
    "from sklearn.model_selection import train_test_split\n",
    "from sklearn.feature_extraction.text import CountVectorizer\n",
    "from sklearn.linear_model import SGDClassifier\n",
    "from sklearn.pipeline import make_pipeline\n",
    "from sklearn.metrics import classification_report, confusion_matrix, accuracy_score\n",
    "from sklearn.linear_model import LogisticRegression\n",
    "from sklearn import metrics"
   ]
  },
  {
   "cell_type": "code",
   "execution_count": 3,
   "id": "c3779921-6ec3-4e78-9d06-b8fbb8dfcb52",
   "metadata": {},
   "outputs": [
    {
     "name": "stderr",
     "output_type": "stream",
     "text": [
      "[nltk_data] Downloading package punkt to /root/nltk_data...\n",
      "[nltk_data]   Unzipping tokenizers/punkt.zip.\n"
     ]
    },
    {
     "data": {
      "text/plain": [
       "True"
      ]
     },
     "execution_count": 3,
     "metadata": {},
     "output_type": "execute_result"
    }
   ],
   "source": [
    "import nltk\n",
    "from nltk.tokenize import sent_tokenize\n",
    "nltk.download('punkt')"
   ]
  },
  {
   "cell_type": "code",
   "execution_count": 6,
   "id": "0755bf5b-4616-4b98-83c9-30db99d3432c",
   "metadata": {},
   "outputs": [
    {
     "name": "stdout",
     "output_type": "stream",
     "text": [
      "Bucket nlp_finalproject connected.\n"
     ]
    }
   ],
   "source": [
    "from google.cloud import storage\n",
    "storage_client = storage.Client()\n",
    "\n",
    "bucket_name = \"nlp_finalproject\"\n",
    "\n",
    "bucket = storage_client.bucket(bucket_name)\n",
    "print(f\"Bucket {bucket.name} connected.\")"
   ]
  },
  {
   "cell_type": "code",
   "execution_count": 7,
   "id": "ee3480e9-2fdd-4ed3-844a-f03e08392b0f",
   "metadata": {},
   "outputs": [
    {
     "data": {
      "text/html": [
       "<div>\n",
       "<style scoped>\n",
       "    .dataframe tbody tr th:only-of-type {\n",
       "        vertical-align: middle;\n",
       "    }\n",
       "\n",
       "    .dataframe tbody tr th {\n",
       "        vertical-align: top;\n",
       "    }\n",
       "\n",
       "    .dataframe thead th {\n",
       "        text-align: right;\n",
       "    }\n",
       "</style>\n",
       "<table border=\"1\" class=\"dataframe\">\n",
       "  <thead>\n",
       "    <tr style=\"text-align: right;\">\n",
       "      <th></th>\n",
       "      <th>date</th>\n",
       "      <th>title</th>\n",
       "      <th>text</th>\n",
       "      <th>year</th>\n",
       "      <th>cleaned</th>\n",
       "      <th>clean_title</th>\n",
       "      <th>ORG_Ent</th>\n",
       "      <th>sentiment</th>\n",
       "      <th>sentiment_score</th>\n",
       "      <th>Person_Ent</th>\n",
       "    </tr>\n",
       "  </thead>\n",
       "  <tbody>\n",
       "    <tr>\n",
       "      <th>0</th>\n",
       "      <td>2020-02-26</td>\n",
       "      <td>LegalTech Artificial Intelligence Market 2019 ...</td>\n",
       "      <td>LegalTech Artificial Intelligence Market 2019 ...</td>\n",
       "      <td>2020</td>\n",
       "      <td>LegalTech Artificial Intelligence Market 2019 ...</td>\n",
       "      <td>LegalTech Artificial Intelligence Market 2019 ...</td>\n",
       "      <td>[LegalTech Artificial Intelligence Market  Tec...</td>\n",
       "      <td>Positive</td>\n",
       "      <td>0.9991</td>\n",
       "      <td>[Aristocrat Leisure, Thermo Fisher, Woodley Eq...</td>\n",
       "    </tr>\n",
       "    <tr>\n",
       "      <th>4</th>\n",
       "      <td>2020-08-07</td>\n",
       "      <td>Two dead as AI Express flight skids off Kozhik...</td>\n",
       "      <td>Two dead as AI Express flight skids off Kozhik...</td>\n",
       "      <td>2020</td>\n",
       "      <td>Two dead as AI Express flight skids off Kozhik...</td>\n",
       "      <td>Two dead as AI Express flight skids off Kozhik...</td>\n",
       "      <td>[AI Express, PostBeyond BygoneEpic PowerIn Ret...</td>\n",
       "      <td>Negative</td>\n",
       "      <td>-0.9728</td>\n",
       "      <td>[Kozhikode airportTop  Toggle, Safari, safari,...</td>\n",
       "    </tr>\n",
       "    <tr>\n",
       "      <th>7</th>\n",
       "      <td>2021-02-25</td>\n",
       "      <td>MulticoreWare Inc. Becomes CEVA’s Trusted Part...</td>\n",
       "      <td>\\n\\nMulticoreWare Inc. Becomes CEVA’s Trusted ...</td>\n",
       "      <td>2021</td>\n",
       "      <td>MulticoreWare Inc. Becomes CEVA s Trusted Part...</td>\n",
       "      <td>MulticoreWare Inc. Becomes CEVA s Trusted Part...</td>\n",
       "      <td>[MulticoreWare Inc., Trusted Partner for Imagi...</td>\n",
       "      <td>Positive</td>\n",
       "      <td>0.9981</td>\n",
       "      <td>[Erez Natan, Soumendra Mohanty]</td>\n",
       "    </tr>\n",
       "    <tr>\n",
       "      <th>8</th>\n",
       "      <td>2022-10-06</td>\n",
       "      <td>Healthcare Artificial Intelligence Market Anal...</td>\n",
       "      <td>\\n\\nHealthcare Artificial Intelligence Market ...</td>\n",
       "      <td>2022</td>\n",
       "      <td>Healthcare Artificial Intelligence Market Anal...</td>\n",
       "      <td>Healthcare Artificial Intelligence Market Anal...</td>\n",
       "      <td>[Healthcare Artificial Intelligence Market Ana...</td>\n",
       "      <td>Positive</td>\n",
       "      <td>0.9993</td>\n",
       "      <td>[AiCure, Web                , Profile Follow]</td>\n",
       "    </tr>\n",
       "    <tr>\n",
       "      <th>9</th>\n",
       "      <td>2020-04-29</td>\n",
       "      <td>Artificial Intelligence As A Service Market : ...</td>\n",
       "      <td>\\n\\nArtificial Intelligence As A Service Marke...</td>\n",
       "      <td>2020</td>\n",
       "      <td>Artificial Intelligence As A Service Market : ...</td>\n",
       "      <td>Artificial Intelligence As A Service Market : ...</td>\n",
       "      <td>[Artificial Intelligence As A Service Market, ...</td>\n",
       "      <td>Positive</td>\n",
       "      <td>0.9996</td>\n",
       "      <td>[Emerging Trends, IRIS AI, Get Sample PDF, Pur...</td>\n",
       "    </tr>\n",
       "  </tbody>\n",
       "</table>\n",
       "</div>"
      ],
      "text/plain": [
       "        date                                              title  \\\n",
       "0 2020-02-26  LegalTech Artificial Intelligence Market 2019 ...   \n",
       "4 2020-08-07  Two dead as AI Express flight skids off Kozhik...   \n",
       "7 2021-02-25  MulticoreWare Inc. Becomes CEVA’s Trusted Part...   \n",
       "8 2022-10-06  Healthcare Artificial Intelligence Market Anal...   \n",
       "9 2020-04-29  Artificial Intelligence As A Service Market : ...   \n",
       "\n",
       "                                                text  year  \\\n",
       "0  LegalTech Artificial Intelligence Market 2019 ...  2020   \n",
       "4  Two dead as AI Express flight skids off Kozhik...  2020   \n",
       "7  \\n\\nMulticoreWare Inc. Becomes CEVA’s Trusted ...  2021   \n",
       "8  \\n\\nHealthcare Artificial Intelligence Market ...  2022   \n",
       "9  \\n\\nArtificial Intelligence As A Service Marke...  2020   \n",
       "\n",
       "                                             cleaned  \\\n",
       "0  LegalTech Artificial Intelligence Market 2019 ...   \n",
       "4  Two dead as AI Express flight skids off Kozhik...   \n",
       "7  MulticoreWare Inc. Becomes CEVA s Trusted Part...   \n",
       "8  Healthcare Artificial Intelligence Market Anal...   \n",
       "9  Artificial Intelligence As A Service Market : ...   \n",
       "\n",
       "                                         clean_title  \\\n",
       "0  LegalTech Artificial Intelligence Market 2019 ...   \n",
       "4  Two dead as AI Express flight skids off Kozhik...   \n",
       "7  MulticoreWare Inc. Becomes CEVA s Trusted Part...   \n",
       "8  Healthcare Artificial Intelligence Market Anal...   \n",
       "9  Artificial Intelligence As A Service Market : ...   \n",
       "\n",
       "                                             ORG_Ent sentiment  \\\n",
       "0  [LegalTech Artificial Intelligence Market  Tec...  Positive   \n",
       "4  [AI Express, PostBeyond BygoneEpic PowerIn Ret...  Negative   \n",
       "7  [MulticoreWare Inc., Trusted Partner for Imagi...  Positive   \n",
       "8  [Healthcare Artificial Intelligence Market Ana...  Positive   \n",
       "9  [Artificial Intelligence As A Service Market, ...  Positive   \n",
       "\n",
       "   sentiment_score                                         Person_Ent  \n",
       "0           0.9991  [Aristocrat Leisure, Thermo Fisher, Woodley Eq...  \n",
       "4          -0.9728  [Kozhikode airportTop  Toggle, Safari, safari,...  \n",
       "7           0.9981                    [Erez Natan, Soumendra Mohanty]  \n",
       "8           0.9993      [AiCure, Web                , Profile Follow]  \n",
       "9           0.9996  [Emerging Trends, IRIS AI, Get Sample PDF, Pur...  "
      ]
     },
     "execution_count": 7,
     "metadata": {},
     "output_type": "execute_result"
    }
   ],
   "source": [
    "df_yelp_sent = pd.read_parquet(\"gs://nlp_finalproject/SentimentAnalysis_Clean.parquet\", engine='pyarrow')\n",
    "df_yelp_sent.head(5)"
   ]
  },
  {
   "cell_type": "code",
   "execution_count": 8,
   "id": "2485a5aa-7b3a-4f69-95dc-0fa0e6df606d",
   "metadata": {},
   "outputs": [
    {
     "name": "stdout",
     "output_type": "stream",
     "text": [
      "INFO: Pandarallel will run on 15 workers.\n",
      "INFO: Pandarallel will use standard multiprocessing data transfer (pipe) to transfer data between the main process and workers.\n"
     ]
    }
   ],
   "source": [
    "num_processors = multiprocessing.cpu_count()\n",
    "pandarallel.initialize(nb_workers=num_processors-1, use_memory_fs=False, progress_bar = True)"
   ]
  },
  {
   "cell_type": "code",
   "execution_count": 9,
   "id": "3b09a074-cd48-4061-bdd3-3b4799827380",
   "metadata": {},
   "outputs": [],
   "source": [
    "directory = 'https://storage.googleapis.com/msca-bdp-data-open/yelp/'\n",
    "fileName = 'yelp_train_sentiment.json'\n",
    "\n",
    "path = directory + fileName\n",
    "\n",
    "yelp = pd.read_json(path, orient='records', lines=True)"
   ]
  },
  {
   "cell_type": "code",
   "execution_count": 10,
   "id": "6d80a310-fffa-46cb-8fc7-37f02585e278",
   "metadata": {},
   "outputs": [],
   "source": [
    "X = yelp['text']\n",
    "y = yelp['label']\n",
    "\n",
    "# split X and y into training and testing sets\n",
    "X_train, X_test, y_train, y_test = train_test_split(X, y, random_state=1)\n",
    "\n",
    "pipe_svm = make_pipeline(\n",
    "    CountVectorizer(lowercase=False, stop_words='english', ngram_range=(1,3)),\n",
    "    SGDClassifier(max_iter=100, tol=None,loss='log_loss') \n",
    ")\n",
    "\n",
    "pipe_svm.fit(X_train, y_train)\n",
    "\n",
    "y_pred = pipe_svm.predict(X_test)\n",
    "\n",
    "probabilities = pipe_svm.predict_proba(X_test)"
   ]
  },
  {
   "cell_type": "code",
   "execution_count": 11,
   "id": "23b0a4b5-e9b2-4b52-9384-8d436bf80b98",
   "metadata": {},
   "outputs": [
    {
     "data": {
      "application/vnd.jupyter.widget-view+json": {
       "model_id": "f170def4508d4e98abf400bf4f14e18d",
       "version_major": 2,
       "version_minor": 0
      },
      "text/plain": [
       "VBox(children=(HBox(children=(IntProgress(value=0, description='0.00%', max=10889), Label(value='0 / 10889')))…"
      ]
     },
     "metadata": {},
     "output_type": "display_data"
    }
   ],
   "source": [
    "def sentiment_score(text):\n",
    "    prob = pipe_svm.predict_proba([text]) \n",
    "    return prob[0]\n",
    "\n",
    "df_yelp_sent['yelp_sent_score'] = df_yelp_sent['cleaned'].parallel_apply(sentiment_score)"
   ]
  },
  {
   "cell_type": "code",
   "execution_count": 12,
   "id": "a0cdae18-9fca-47e4-b618-5d23898320a2",
   "metadata": {},
   "outputs": [
    {
     "data": {
      "application/vnd.jupyter.widget-view+json": {
       "model_id": "6cefd4d4fc004c9d9641259956b34f8e",
       "version_major": 2,
       "version_minor": 0
      },
      "text/plain": [
       "VBox(children=(HBox(children=(IntProgress(value=0, description='0.00%', max=10889), Label(value='0 / 10889')))…"
      ]
     },
     "metadata": {},
     "output_type": "display_data"
    }
   ],
   "source": [
    "def sentiment(probabilities):\n",
    "    if probabilities[0] >= 0.85:\n",
    "        return 'Negative'\n",
    "    elif probabilities[1] >= 0.85:\n",
    "        return 'Positive'\n",
    "    else:\n",
    "        return 'Neutral'\n",
    "        \n",
    "df_yelp_sent['sentiment_yelp'] = df_yelp_sent['yelp_sent_score'].parallel_apply(sentiment)"
   ]
  },
  {
   "cell_type": "code",
   "execution_count": 13,
   "id": "a8a01ca2-5034-40d5-a742-34c3fc686c55",
   "metadata": {},
   "outputs": [
    {
     "data": {
      "text/plain": [
       "sentiment_yelp\n",
       "Negative    94440\n",
       "Positive    40630\n",
       "Neutral     28251\n",
       "Name: count, dtype: int64"
      ]
     },
     "execution_count": 13,
     "metadata": {},
     "output_type": "execute_result"
    }
   ],
   "source": [
    "df_yelp_sent['sentiment_yelp'].value_counts()"
   ]
  },
  {
   "cell_type": "code",
   "execution_count": 14,
   "id": "87c19917-d48d-4a26-b543-cb300c593e18",
   "metadata": {},
   "outputs": [
    {
     "name": "stdout",
     "output_type": "stream",
     "text": [
      "Collecting en-core-web-sm==3.6.0\n",
      "  Downloading https://github.com/explosion/spacy-models/releases/download/en_core_web_sm-3.6.0/en_core_web_sm-3.6.0-py3-none-any.whl (12.8 MB)\n",
      "\u001b[2K     \u001b[90m━━━━━━━━━━━━━━━━━━━━━━━━━━━━━━━━━━━━━━━━\u001b[0m \u001b[32m12.8/12.8 MB\u001b[0m \u001b[31m67.7 MB/s\u001b[0m eta \u001b[36m0:00:00\u001b[0m00:01\u001b[0m0:01\u001b[0m\n",
      "\u001b[?25hRequirement already satisfied: spacy<3.7.0,>=3.6.0 in /opt/conda/lib/python3.10/site-packages (from en-core-web-sm==3.6.0) (3.6.0)\n",
      "Requirement already satisfied: spacy-legacy<3.1.0,>=3.0.11 in /opt/conda/lib/python3.10/site-packages (from spacy<3.7.0,>=3.6.0->en-core-web-sm==3.6.0) (3.0.12)\n",
      "Requirement already satisfied: spacy-loggers<2.0.0,>=1.0.0 in /opt/conda/lib/python3.10/site-packages (from spacy<3.7.0,>=3.6.0->en-core-web-sm==3.6.0) (1.0.4)\n",
      "Requirement already satisfied: murmurhash<1.1.0,>=0.28.0 in /opt/conda/lib/python3.10/site-packages (from spacy<3.7.0,>=3.6.0->en-core-web-sm==3.6.0) (1.0.9)\n",
      "Requirement already satisfied: cymem<2.1.0,>=2.0.2 in /opt/conda/lib/python3.10/site-packages (from spacy<3.7.0,>=3.6.0->en-core-web-sm==3.6.0) (2.0.7)\n",
      "Requirement already satisfied: preshed<3.1.0,>=3.0.2 in /opt/conda/lib/python3.10/site-packages (from spacy<3.7.0,>=3.6.0->en-core-web-sm==3.6.0) (3.0.8)\n",
      "Requirement already satisfied: thinc<8.2.0,>=8.1.8 in /opt/conda/lib/python3.10/site-packages (from spacy<3.7.0,>=3.6.0->en-core-web-sm==3.6.0) (8.1.12)\n",
      "Requirement already satisfied: wasabi<1.2.0,>=0.9.1 in /opt/conda/lib/python3.10/site-packages (from spacy<3.7.0,>=3.6.0->en-core-web-sm==3.6.0) (1.1.2)\n",
      "Requirement already satisfied: srsly<3.0.0,>=2.4.3 in /opt/conda/lib/python3.10/site-packages (from spacy<3.7.0,>=3.6.0->en-core-web-sm==3.6.0) (2.4.7)\n",
      "Requirement already satisfied: catalogue<2.1.0,>=2.0.6 in /opt/conda/lib/python3.10/site-packages (from spacy<3.7.0,>=3.6.0->en-core-web-sm==3.6.0) (2.0.9)\n",
      "Requirement already satisfied: typer<0.10.0,>=0.3.0 in /opt/conda/lib/python3.10/site-packages (from spacy<3.7.0,>=3.6.0->en-core-web-sm==3.6.0) (0.9.0)\n",
      "Requirement already satisfied: pathy>=0.10.0 in /opt/conda/lib/python3.10/site-packages (from spacy<3.7.0,>=3.6.0->en-core-web-sm==3.6.0) (0.10.2)\n",
      "Requirement already satisfied: smart-open<7.0.0,>=5.2.1 in /opt/conda/lib/python3.10/site-packages (from spacy<3.7.0,>=3.6.0->en-core-web-sm==3.6.0) (6.3.0)\n",
      "Requirement already satisfied: tqdm<5.0.0,>=4.38.0 in /opt/conda/lib/python3.10/site-packages (from spacy<3.7.0,>=3.6.0->en-core-web-sm==3.6.0) (4.65.0)\n",
      "Requirement already satisfied: numpy>=1.15.0 in /opt/conda/lib/python3.10/site-packages (from spacy<3.7.0,>=3.6.0->en-core-web-sm==3.6.0) (1.24.3)\n",
      "Requirement already satisfied: requests<3.0.0,>=2.13.0 in /opt/conda/lib/python3.10/site-packages (from spacy<3.7.0,>=3.6.0->en-core-web-sm==3.6.0) (2.31.0)\n",
      "Requirement already satisfied: pydantic!=1.8,!=1.8.1,<1.11.0,>=1.7.4 in /opt/conda/lib/python3.10/site-packages (from spacy<3.7.0,>=3.6.0->en-core-web-sm==3.6.0) (1.10.12)\n",
      "Requirement already satisfied: jinja2 in /opt/conda/lib/python3.10/site-packages (from spacy<3.7.0,>=3.6.0->en-core-web-sm==3.6.0) (3.1.2)\n",
      "Requirement already satisfied: setuptools in /opt/conda/lib/python3.10/site-packages (from spacy<3.7.0,>=3.6.0->en-core-web-sm==3.6.0) (68.0.0)\n",
      "Requirement already satisfied: packaging>=20.0 in /opt/conda/lib/python3.10/site-packages (from spacy<3.7.0,>=3.6.0->en-core-web-sm==3.6.0) (23.1)\n",
      "Requirement already satisfied: langcodes<4.0.0,>=3.2.0 in /opt/conda/lib/python3.10/site-packages (from spacy<3.7.0,>=3.6.0->en-core-web-sm==3.6.0) (3.3.0)\n",
      "Requirement already satisfied: typing-extensions>=4.2.0 in /opt/conda/lib/python3.10/site-packages (from pydantic!=1.8,!=1.8.1,<1.11.0,>=1.7.4->spacy<3.7.0,>=3.6.0->en-core-web-sm==3.6.0) (4.5.0)\n",
      "Requirement already satisfied: charset-normalizer<4,>=2 in /opt/conda/lib/python3.10/site-packages (from requests<3.0.0,>=2.13.0->spacy<3.7.0,>=3.6.0->en-core-web-sm==3.6.0) (3.2.0)\n",
      "Requirement already satisfied: idna<4,>=2.5 in /opt/conda/lib/python3.10/site-packages (from requests<3.0.0,>=2.13.0->spacy<3.7.0,>=3.6.0->en-core-web-sm==3.6.0) (3.4)\n",
      "Requirement already satisfied: urllib3<3,>=1.21.1 in /opt/conda/lib/python3.10/site-packages (from requests<3.0.0,>=2.13.0->spacy<3.7.0,>=3.6.0->en-core-web-sm==3.6.0) (1.26.16)\n",
      "Requirement already satisfied: certifi>=2017.4.17 in /opt/conda/lib/python3.10/site-packages (from requests<3.0.0,>=2.13.0->spacy<3.7.0,>=3.6.0->en-core-web-sm==3.6.0) (2023.7.22)\n",
      "Requirement already satisfied: blis<0.8.0,>=0.7.8 in /opt/conda/lib/python3.10/site-packages (from thinc<8.2.0,>=8.1.8->spacy<3.7.0,>=3.6.0->en-core-web-sm==3.6.0) (0.7.10)\n",
      "Requirement already satisfied: confection<1.0.0,>=0.0.1 in /opt/conda/lib/python3.10/site-packages (from thinc<8.2.0,>=8.1.8->spacy<3.7.0,>=3.6.0->en-core-web-sm==3.6.0) (0.1.1)\n",
      "Requirement already satisfied: click<9.0.0,>=7.1.1 in /opt/conda/lib/python3.10/site-packages (from typer<0.10.0,>=0.3.0->spacy<3.7.0,>=3.6.0->en-core-web-sm==3.6.0) (8.1.6)\n",
      "Requirement already satisfied: MarkupSafe>=2.0 in /opt/conda/lib/python3.10/site-packages (from jinja2->spacy<3.7.0,>=3.6.0->en-core-web-sm==3.6.0) (2.1.3)\n",
      "Installing collected packages: en-core-web-sm\n",
      "Successfully installed en-core-web-sm-3.6.0\n",
      "\u001b[33mWARNING: Running pip as the 'root' user can result in broken permissions and conflicting behaviour with the system package manager. It is recommended to use a virtual environment instead: https://pip.pypa.io/warnings/venv\u001b[0m\u001b[33m\n",
      "\u001b[0m\u001b[38;5;2m✔ Download and installation successful\u001b[0m\n",
      "You can now load the package via spacy.load('en_core_web_sm')\n"
     ]
    }
   ],
   "source": [
    "!python -m spacy download en_core_web_sm"
   ]
  },
  {
   "cell_type": "code",
   "execution_count": 15,
   "id": "06f2cebd-5417-4e07-a140-f58ab55be196",
   "metadata": {},
   "outputs": [],
   "source": [
    "nlp = spacy.load(\"en_core_web_sm\")"
   ]
  },
  {
   "cell_type": "code",
   "execution_count": 16,
   "id": "d4f000f5-51e5-47cb-8cd2-815c5a580a5b",
   "metadata": {},
   "outputs": [
    {
     "data": {
      "application/vnd.jupyter.widget-view+json": {
       "model_id": "9e8269ba04e84940b7520ebfe63de679",
       "version_major": 2,
       "version_minor": 0
      },
      "text/plain": [
       "VBox(children=(HBox(children=(IntProgress(value=0, description='0.00%', max=10889), Label(value='0 / 10889')))…"
      ]
     },
     "metadata": {},
     "output_type": "display_data"
    }
   ],
   "source": [
    "def extract_entities(text):\n",
    "    doc = nlp(text)\n",
    "    entities = [ent.text for ent in doc.ents if ent.label_ == \"GPE\"]\n",
    "    return entities\n",
    "\n",
    "df_yelp_sent['GPE_Ent'] = df_yelp_sent['cleaned'].parallel_apply(extract_entities)"
   ]
  },
  {
   "cell_type": "code",
   "execution_count": 18,
   "id": "a0e994df-5870-40e9-b688-cf952d9fa4b1",
   "metadata": {},
   "outputs": [
    {
     "data": {
      "application/vnd.jupyter.widget-view+json": {
       "model_id": "cf57b1d90d70408290389a0c165e1132",
       "version_major": 2,
       "version_minor": 0
      },
      "text/plain": [
       "VBox(children=(HBox(children=(IntProgress(value=0, description='0.00%', max=10889), Label(value='0 / 10889')))…"
      ]
     },
     "metadata": {},
     "output_type": "display_data"
    }
   ],
   "source": [
    "def extract_entities(text):\n",
    "    doc = nlp(text)\n",
    "    entities = [ent.text for ent in doc.ents if ent.label_ == \"PRODUCT\"]\n",
    "    return entities\n",
    "\n",
    "df_yelp_sent['PROD_Ent'] = df_yelp_sent['cleaned'].parallel_apply(extract_entities)"
   ]
  },
  {
   "cell_type": "code",
   "execution_count": 20,
   "id": "c95f7f5a-db30-49a6-9f13-6b7606634ce6",
   "metadata": {},
   "outputs": [],
   "source": [
    "df_yelp_sent.to_parquet('gs://nlp_finalproject/FinalData.parquet')"
   ]
  },
  {
   "cell_type": "markdown",
   "id": "9b8d5c26-0fec-45de-aff9-8f6d48f61df4",
   "metadata": {},
   "source": [
    "### Result for Yelp Sentiment Analysis Using SVM\n",
    "\n",
    "- Negative    94440\n",
    "- Positive    40630\n",
    "- Neutral     28251"
   ]
  },
  {
   "cell_type": "markdown",
   "id": "cd645e10-0142-41e4-886b-15e3b4ae21e9",
   "metadata": {},
   "source": [
    "### Result for Yelp Sentiment Analysis Using Logistic Regression\n",
    "\n",
    "- Negative    103568\n",
    "- Positive     45077\n",
    "- Neutral      14676"
   ]
  }
 ],
 "metadata": {
  "environment": {
   "kernel": "python3",
   "name": ".m117",
   "type": "gcloud",
   "uri": "us-docker.pkg.dev/deeplearning-platform-release/gcr.io/:m117"
  },
  "kernelspec": {
   "display_name": "Python 3 (ipykernel)",
   "language": "python",
   "name": "python3"
  },
  "language_info": {
   "codemirror_mode": {
    "name": "ipython",
    "version": 3
   },
   "file_extension": ".py",
   "mimetype": "text/x-python",
   "name": "python",
   "nbconvert_exporter": "python",
   "pygments_lexer": "ipython3",
   "version": "3.10.12"
  }
 },
 "nbformat": 4,
 "nbformat_minor": 5
}
