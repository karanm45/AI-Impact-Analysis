{
 "cells": [
  {
   "cell_type": "markdown",
   "id": "6cd0e473",
   "metadata": {},
   "source": [
    "### Filtering Dataset"
   ]
  },
  {
   "cell_type": "code",
   "execution_count": 1,
   "id": "b3239c54",
   "metadata": {},
   "outputs": [
    {
     "name": "stderr",
     "output_type": "stream",
     "text": [
      "C:\\Users\\Karan Mehta\\anaconda3\\Lib\\site-packages\\pandas\\core\\arrays\\masked.py:60: UserWarning: Pandas requires version '1.3.6' or newer of 'bottleneck' (version '1.3.5' currently installed).\n",
      "  from pandas.core import (\n"
     ]
    }
   ],
   "source": [
    "import pandas as pd\n",
    "import warnings\n",
    "warnings.filterwarnings(\"ignore\")\n",
    "\n",
    "import re\n",
    "import nltk\n",
    "from nltk.tokenize import word_tokenize\n",
    "import matplotlib.pyplot as plt\n",
    "\n",
    "pd.set_option('display.max_rows', 50)\n",
    "pd.set_option('display.max_columns', None)\n",
    "pd.set_option('display.max_colwidth', 200)"
   ]
  },
  {
   "cell_type": "code",
   "execution_count": 2,
   "id": "b902bbde",
   "metadata": {},
   "outputs": [
    {
     "data": {
      "text/html": [
       "<div>\n",
       "<style scoped>\n",
       "    .dataframe tbody tr th:only-of-type {\n",
       "        vertical-align: middle;\n",
       "    }\n",
       "\n",
       "    .dataframe tbody tr th {\n",
       "        vertical-align: top;\n",
       "    }\n",
       "\n",
       "    .dataframe thead th {\n",
       "        text-align: right;\n",
       "    }\n",
       "</style>\n",
       "<table border=\"1\" class=\"dataframe\">\n",
       "  <thead>\n",
       "    <tr style=\"text-align: right;\">\n",
       "      <th></th>\n",
       "      <th>url</th>\n",
       "      <th>date</th>\n",
       "      <th>language</th>\n",
       "      <th>title</th>\n",
       "      <th>text</th>\n",
       "      <th>year</th>\n",
       "      <th>cleaned</th>\n",
       "      <th>clean_title</th>\n",
       "      <th>relevant</th>\n",
       "      <th>tokens</th>\n",
       "      <th>no_tokens</th>\n",
       "    </tr>\n",
       "  </thead>\n",
       "  <tbody>\n",
       "    <tr>\n",
       "      <th>0</th>\n",
       "      <td>http://galusaustralis.com/2020/02/486473/legaltech-artificial-intelligence-market-2019-technology-advancement-and-future-scope-casetext-inc-catalyst-repository-systems-ebrevia/</td>\n",
       "      <td>2020-02-26</td>\n",
       "      <td>en</td>\n",
       "      <td>LegalTech Artificial Intelligence Market 2019 Technology Advancement and Future Scope – Casetext Inc., Catalyst Repository Systems, eBREVIA – Galus Australis</td>\n",
       "      <td>LegalTech Artificial Intelligence Market 2019 Technology Advancement and Future Scope – Casetext Inc., Catalyst Repository Systems, eBREVIA – Galus Australis          \\n\\nGalus Australis\\n\\nBusine...</td>\n",
       "      <td>2020</td>\n",
       "      <td>LegalTech Artificial Intelligence Market 2019 Technology Advancement and Future Scope   Casetext Inc., Catalyst Repository Systems, eBREVIA   Galus Australis           Galus Australis BusinessGene...</td>\n",
       "      <td>LegalTech Artificial Intelligence Market 2019 Technology Advancement and Future Scope   Casetext Inc., Catalyst Repository Systems, eBREVIA   Galus Australis           Galus Australis BusinessGene...</td>\n",
       "      <td>1</td>\n",
       "      <td>[LegalTech, Artificial, Intelligence, Market, 2019, Technology, Advancement, and, Future, Scope, Casetext, Inc., ,, Catalyst, Repository, Systems, ,, eBREVIA, Galus, Australis, Galus, Australis, B...</td>\n",
       "      <td>1087</td>\n",
       "    </tr>\n",
       "    <tr>\n",
       "      <th>2</th>\n",
       "      <td>http://www.agoravox.it/Covid-19-un-messaggio-dai.html</td>\n",
       "      <td>2020-03-13</td>\n",
       "      <td>en</td>\n",
       "      <td>Covid-19: un messaggio dai ricercatori italiani ai colleghi stranieri - AgoraVox Italia</td>\n",
       "      <td>\\n\\n\\nCovid-19: un messaggio dai ricercatori italiani ai colleghi stranieri - AgoraVox Italia\\n\\nAccedi\\n\\nPartecipa ad AgoraVox!\\nIscriviti e proponi un articolo\\nHome page\\n\\n\\nAttualitÃ \\n\\n\\nA...</td>\n",
       "      <td>2020</td>\n",
       "      <td>Covid-19: un messaggio dai ricercatori italiani ai colleghi stranieri - AgoraVox Italia Accedi Partecipa ad AgoraVox! Iscriviti e proponi un articolo Home page Attualit   Ambiente Cronaca Cronaca ...</td>\n",
       "      <td>Covid-19: un messaggio dai ricercatori italiani ai colleghi stranieri - AgoraVox Italia Accedi Partecipa ad AgoraVox! Iscriviti e proponi un articolo Home page Attualit   Ambiente Cronaca Cronaca ...</td>\n",
       "      <td>1</td>\n",
       "      <td>[Covid-19, :, un, messaggio, dai, ricercatori, italiani, ai, colleghi, stranieri, -, AgoraVox, Italia, Accedi, Partecipa, ad, AgoraVox, !, Iscriviti, e, proponi, un, articolo, Home, page, Attualit...</td>\n",
       "      <td>2455</td>\n",
       "    </tr>\n",
       "    <tr>\n",
       "      <th>4</th>\n",
       "      <td>http://www.millenniumpost.in/big-stories/ai-express-aircraft-skids-off-runaway-in-kozhikode-rescue-ops-on-414926</td>\n",
       "      <td>2020-08-07</td>\n",
       "      <td>en</td>\n",
       "      <td>Two dead as AI Express flight skids off Kozhikode airport</td>\n",
       "      <td>Two dead as AI Express flight skids off Kozhikode airportTopLoginSubscribeToggle navigationFeaturesDelhiKolkataNationOpinionEditorialBusinessSportsSunday PostBeyond BygoneEpic PowerIn RetrospectGl...</td>\n",
       "      <td>2020</td>\n",
       "      <td>Two dead as AI Express flight skids off Kozhikode airportTop  Toggle navigationFeaturesDelhiKolkataNationOpinionEditorialBusinessSportsSunday PostBeyond BygoneEpic PowerIn RetrospectGlobal EyeInla...</td>\n",
       "      <td>Two dead as AI Express flight skids off Kozhikode airportTopLoginSubscribeToggle navigationFeaturesDelhiKolkataNationOpinionEditorialBusinessSportsSunday PostBeyond BygoneEpic PowerIn RetrospectGl...</td>\n",
       "      <td>1</td>\n",
       "      <td>[Two, dead, as, AI, Express, flight, skids, off, Kozhikode, airportTop, Toggle, navigationFeaturesDelhiKolkataNationOpinionEditorialBusinessSportsSunday, PostBeyond, BygoneEpic, PowerIn, Retrospec...</td>\n",
       "      <td>280</td>\n",
       "    </tr>\n",
       "    <tr>\n",
       "      <th>7</th>\n",
       "      <td>http://www.peripherals.consumerelectronicsnet.com/multicoreware-inc-becomes-cevas-trusted-partner-for-imaging-computer-vision/</td>\n",
       "      <td>2021-02-25</td>\n",
       "      <td>en</td>\n",
       "      <td>MulticoreWare Inc. Becomes CEVA’s Trusted Partner for Imaging &amp; Computer Vision – Consumer Electronics Net</td>\n",
       "      <td>\\n\\nMulticoreWare Inc. Becomes CEVA’s Trusted Partner for Imaging &amp; Computer Vision – Consumer Electronics Net\\n\\n \\nSkip to content\\n\\nConsumer Electronics Net\\n\\nPrimary Menu\\n\\nConsumer Electro...</td>\n",
       "      <td>2021</td>\n",
       "      <td>MulticoreWare Inc. Becomes CEVA s Trusted Partner for Imaging &amp; Computer Vision   Consumer Electronics Net   Skip to content Consumer Electronics Net Primary Menu Consumer Electronics Net   for:  ...</td>\n",
       "      <td>MulticoreWare Inc. Becomes CEVA s Trusted Partner for Imaging &amp; Computer Vision   Consumer Electronics Net   Skip to content Consumer Electronics Net Primary Menu Consumer Electronics Net Search f...</td>\n",
       "      <td>1</td>\n",
       "      <td>[MulticoreWare, Inc., Becomes, CEVA, s, Trusted, Partner, for, Imaging, &amp;, Computer, Vision, Consumer, Electronics, Net, Skip, to, content, Consumer, Electronics, Net, Primary, Menu, Consumer, Ele...</td>\n",
       "      <td>848</td>\n",
       "    </tr>\n",
       "    <tr>\n",
       "      <th>8</th>\n",
       "      <td>http://www.sbwire.com/press-releases/healthcare-artificial-intelligence-market-next-big-thing-major-giants-general-electric-medtronic-aicure-apixio-1363690.htm</td>\n",
       "      <td>2022-10-06</td>\n",
       "      <td>en</td>\n",
       "      <td>Healthcare Artificial Intelligence Market Analysis and Forecast for Next 5 Years</td>\n",
       "      <td>\\n\\nHealthcare Artificial Intelligence Market Analysis and Forecast for Next 5 Years\\n \\n\\n \\n\\nSBWire\\nSign Up\\nLogin\\n\\nOur Service\\nPlans &amp; Pricing\\nNewsroom\\nHelp\\nAbout\\n\\nAMA Research &amp;amp; ...</td>\n",
       "      <td>2022</td>\n",
       "      <td>Healthcare Artificial Intelligence Market Analysis and Forecast for Next 5 Years     SBWire Sign Up   Our Service Plans &amp; Pricing Newsroom Help About AMA Re  &amp;amp; Media LLP Email Alerts| RSS   He...</td>\n",
       "      <td>Healthcare Artificial Intelligence Market Analysis and Forecast for Next 5 Years     SBWire Sign Up Login Our Service Plans &amp; Pricing Newsroom Help About AMA Research &amp;amp; Media LLP Email Alerts|...</td>\n",
       "      <td>1</td>\n",
       "      <td>[Healthcare, Artificial, Intelligence, Market, Analysis, and, Forecast, for, Next, 5, Years, SBWire, Sign, Up, Our, Service, Plans, &amp;, Pricing, Newsroom, Help, About, AMA, Re, &amp;, amp, ;, Media, LL...</td>\n",
       "      <td>977</td>\n",
       "    </tr>\n",
       "  </tbody>\n",
       "</table>\n",
       "</div>"
      ],
      "text/plain": [
       "                                                                                                                                                                                url  \\\n",
       "0  http://galusaustralis.com/2020/02/486473/legaltech-artificial-intelligence-market-2019-technology-advancement-and-future-scope-casetext-inc-catalyst-repository-systems-ebrevia/   \n",
       "2                                                                                                                             http://www.agoravox.it/Covid-19-un-messaggio-dai.html   \n",
       "4                                                                  http://www.millenniumpost.in/big-stories/ai-express-aircraft-skids-off-runaway-in-kozhikode-rescue-ops-on-414926   \n",
       "7                                                    http://www.peripherals.consumerelectronicsnet.com/multicoreware-inc-becomes-cevas-trusted-partner-for-imaging-computer-vision/   \n",
       "8                   http://www.sbwire.com/press-releases/healthcare-artificial-intelligence-market-next-big-thing-major-giants-general-electric-medtronic-aicure-apixio-1363690.htm   \n",
       "\n",
       "        date language  \\\n",
       "0 2020-02-26       en   \n",
       "2 2020-03-13       en   \n",
       "4 2020-08-07       en   \n",
       "7 2021-02-25       en   \n",
       "8 2022-10-06       en   \n",
       "\n",
       "                                                                                                                                                           title  \\\n",
       "0  LegalTech Artificial Intelligence Market 2019 Technology Advancement and Future Scope – Casetext Inc., Catalyst Repository Systems, eBREVIA – Galus Australis   \n",
       "2                                                                        Covid-19: un messaggio dai ricercatori italiani ai colleghi stranieri - AgoraVox Italia   \n",
       "4                                                                                                      Two dead as AI Express flight skids off Kozhikode airport   \n",
       "7                                                     MulticoreWare Inc. Becomes CEVA’s Trusted Partner for Imaging & Computer Vision – Consumer Electronics Net   \n",
       "8                                                                               Healthcare Artificial Intelligence Market Analysis and Forecast for Next 5 Years   \n",
       "\n",
       "                                                                                                                                                                                                      text  \\\n",
       "0  LegalTech Artificial Intelligence Market 2019 Technology Advancement and Future Scope – Casetext Inc., Catalyst Repository Systems, eBREVIA – Galus Australis          \\n\\nGalus Australis\\n\\nBusine...   \n",
       "2  \\n\\n\\nCovid-19: un messaggio dai ricercatori italiani ai colleghi stranieri - AgoraVox Italia\\n\\nAccedi\\n\\nPartecipa ad AgoraVox!\\nIscriviti e proponi un articolo\\nHome page\\n\\n\\nAttualitÃ \\n\\n\\nA...   \n",
       "4  Two dead as AI Express flight skids off Kozhikode airportTopLoginSubscribeToggle navigationFeaturesDelhiKolkataNationOpinionEditorialBusinessSportsSunday PostBeyond BygoneEpic PowerIn RetrospectGl...   \n",
       "7  \\n\\nMulticoreWare Inc. Becomes CEVA’s Trusted Partner for Imaging & Computer Vision – Consumer Electronics Net\\n\\n \\nSkip to content\\n\\nConsumer Electronics Net\\n\\nPrimary Menu\\n\\nConsumer Electro...   \n",
       "8  \\n\\nHealthcare Artificial Intelligence Market Analysis and Forecast for Next 5 Years\\n \\n\\n \\n\\nSBWire\\nSign Up\\nLogin\\n\\nOur Service\\nPlans & Pricing\\nNewsroom\\nHelp\\nAbout\\n\\nAMA Research &amp; ...   \n",
       "\n",
       "   year  \\\n",
       "0  2020   \n",
       "2  2020   \n",
       "4  2020   \n",
       "7  2021   \n",
       "8  2022   \n",
       "\n",
       "                                                                                                                                                                                                   cleaned  \\\n",
       "0  LegalTech Artificial Intelligence Market 2019 Technology Advancement and Future Scope   Casetext Inc., Catalyst Repository Systems, eBREVIA   Galus Australis           Galus Australis BusinessGene...   \n",
       "2  Covid-19: un messaggio dai ricercatori italiani ai colleghi stranieri - AgoraVox Italia Accedi Partecipa ad AgoraVox! Iscriviti e proponi un articolo Home page Attualit   Ambiente Cronaca Cronaca ...   \n",
       "4  Two dead as AI Express flight skids off Kozhikode airportTop  Toggle navigationFeaturesDelhiKolkataNationOpinionEditorialBusinessSportsSunday PostBeyond BygoneEpic PowerIn RetrospectGlobal EyeInla...   \n",
       "7  MulticoreWare Inc. Becomes CEVA s Trusted Partner for Imaging & Computer Vision   Consumer Electronics Net   Skip to content Consumer Electronics Net Primary Menu Consumer Electronics Net   for:  ...   \n",
       "8  Healthcare Artificial Intelligence Market Analysis and Forecast for Next 5 Years     SBWire Sign Up   Our Service Plans & Pricing Newsroom Help About AMA Re  &amp; Media LLP Email Alerts| RSS   He...   \n",
       "\n",
       "                                                                                                                                                                                               clean_title  \\\n",
       "0  LegalTech Artificial Intelligence Market 2019 Technology Advancement and Future Scope   Casetext Inc., Catalyst Repository Systems, eBREVIA   Galus Australis           Galus Australis BusinessGene...   \n",
       "2  Covid-19: un messaggio dai ricercatori italiani ai colleghi stranieri - AgoraVox Italia Accedi Partecipa ad AgoraVox! Iscriviti e proponi un articolo Home page Attualit   Ambiente Cronaca Cronaca ...   \n",
       "4  Two dead as AI Express flight skids off Kozhikode airportTopLoginSubscribeToggle navigationFeaturesDelhiKolkataNationOpinionEditorialBusinessSportsSunday PostBeyond BygoneEpic PowerIn RetrospectGl...   \n",
       "7  MulticoreWare Inc. Becomes CEVA s Trusted Partner for Imaging & Computer Vision   Consumer Electronics Net   Skip to content Consumer Electronics Net Primary Menu Consumer Electronics Net Search f...   \n",
       "8  Healthcare Artificial Intelligence Market Analysis and Forecast for Next 5 Years     SBWire Sign Up Login Our Service Plans & Pricing Newsroom Help About AMA Research &amp; Media LLP Email Alerts|...   \n",
       "\n",
       "   relevant  \\\n",
       "0         1   \n",
       "2         1   \n",
       "4         1   \n",
       "7         1   \n",
       "8         1   \n",
       "\n",
       "                                                                                                                                                                                                    tokens  \\\n",
       "0  [LegalTech, Artificial, Intelligence, Market, 2019, Technology, Advancement, and, Future, Scope, Casetext, Inc., ,, Catalyst, Repository, Systems, ,, eBREVIA, Galus, Australis, Galus, Australis, B...   \n",
       "2  [Covid-19, :, un, messaggio, dai, ricercatori, italiani, ai, colleghi, stranieri, -, AgoraVox, Italia, Accedi, Partecipa, ad, AgoraVox, !, Iscriviti, e, proponi, un, articolo, Home, page, Attualit...   \n",
       "4  [Two, dead, as, AI, Express, flight, skids, off, Kozhikode, airportTop, Toggle, navigationFeaturesDelhiKolkataNationOpinionEditorialBusinessSportsSunday, PostBeyond, BygoneEpic, PowerIn, Retrospec...   \n",
       "7  [MulticoreWare, Inc., Becomes, CEVA, s, Trusted, Partner, for, Imaging, &, Computer, Vision, Consumer, Electronics, Net, Skip, to, content, Consumer, Electronics, Net, Primary, Menu, Consumer, Ele...   \n",
       "8  [Healthcare, Artificial, Intelligence, Market, Analysis, and, Forecast, for, Next, 5, Years, SBWire, Sign, Up, Our, Service, Plans, &, Pricing, Newsroom, Help, About, AMA, Re, &, amp, ;, Media, LL...   \n",
       "\n",
       "   no_tokens  \n",
       "0       1087  \n",
       "2       2455  \n",
       "4        280  \n",
       "7        848  \n",
       "8        977  "
      ]
     },
     "execution_count": 2,
     "metadata": {},
     "output_type": "execute_result"
    }
   ],
   "source": [
    "df_final2 = pd.read_parquet(\"C:/Users/Karan Mehta/Downloads/NLP Final/CleanedDataset.parquet\")\n",
    "df_final2.head(5)"
   ]
  },
  {
   "cell_type": "code",
   "execution_count": 3,
   "id": "5beb5677",
   "metadata": {},
   "outputs": [],
   "source": [
    "duplicate_rows = df_final2[df_final2.duplicated(subset='text')]"
   ]
  },
  {
   "cell_type": "code",
   "execution_count": 4,
   "id": "701440f4",
   "metadata": {},
   "outputs": [
    {
     "name": "stdout",
     "output_type": "stream",
     "text": [
      "<class 'pandas.core.frame.DataFrame'>\n",
      "Index: 185245 entries, 0 to 200434\n",
      "Data columns (total 11 columns):\n",
      " #   Column       Non-Null Count   Dtype         \n",
      "---  ------       --------------   -----         \n",
      " 0   url          185245 non-null  object        \n",
      " 1   date         185245 non-null  datetime64[ns]\n",
      " 2   language     185245 non-null  object        \n",
      " 3   title        185245 non-null  object        \n",
      " 4   text         185245 non-null  object        \n",
      " 5   year         185245 non-null  int32         \n",
      " 6   cleaned      185245 non-null  object        \n",
      " 7   clean_title  185245 non-null  object        \n",
      " 8   relevant     185245 non-null  int32         \n",
      " 9   tokens       185245 non-null  object        \n",
      " 10  no_tokens    185245 non-null  int64         \n",
      "dtypes: datetime64[ns](1), int32(2), int64(1), object(7)\n",
      "memory usage: 15.5+ MB\n"
     ]
    }
   ],
   "source": [
    "df_final2.info()"
   ]
  },
  {
   "cell_type": "code",
   "execution_count": 5,
   "id": "f99d6a9f",
   "metadata": {},
   "outputs": [],
   "source": [
    "# Dropping duplicate articles (638 articles)\n",
    "df_final2 = df_final2.drop_duplicates(subset='text')"
   ]
  },
  {
   "cell_type": "code",
   "execution_count": 6,
   "id": "94cb313f",
   "metadata": {},
   "outputs": [
    {
     "data": {
      "image/png": "[encoded data removed]",
      "text/plain": [
       "<Figure size 1000x600 with 1 Axes>"
      ]
     },
     "metadata": {},
     "output_type": "display_data"
    }
   ],
   "source": [
    "token_counts = df_final2['no_tokens']\n",
    "\n",
    "plt.figure(figsize=(10, 6))\n",
    "plt.hist(token_counts, bins=50, color='skyblue', edgecolor='black')\n",
    "plt.xlabel('Number of Tokens')\n",
    "plt.ylabel('Frequency')\n",
    "plt.title('Distribution of Token Counts')\n",
    "plt.show()"
   ]
  },
  {
   "cell_type": "code",
   "execution_count": 7,
   "id": "d55b39d7",
   "metadata": {},
   "outputs": [
    {
     "name": "stdout",
     "output_type": "stream",
     "text": [
      "Mean number of tokens: 1389.2543457182014\n"
     ]
    }
   ],
   "source": [
    "mean_num_tokens = df_final2['tokens'].apply(len).mean()\n",
    "print(\"Mean number of tokens:\", mean_num_tokens)"
   ]
  },
  {
   "cell_type": "code",
   "execution_count": 8,
   "id": "36afd3d2",
   "metadata": {},
   "outputs": [
    {
     "data": {
      "text/plain": [
       "count    184607.000000\n",
       "mean       1389.254346\n",
       "std        1113.813258\n",
       "min           5.000000\n",
       "25%         835.000000\n",
       "50%        1159.000000\n",
       "75%        1672.000000\n",
       "max      122704.000000\n",
       "Name: tokens, dtype: float64"
      ]
     },
     "execution_count": 8,
     "metadata": {},
     "output_type": "execute_result"
    }
   ],
   "source": [
    "tmp = df_final2['tokens'].apply(len)\n",
    "tmp.describe()"
   ]
  },
  {
   "cell_type": "code",
   "execution_count": 9,
   "id": "32b973d7",
   "metadata": {},
   "outputs": [
    {
     "name": "stdout",
     "output_type": "stream",
     "text": [
      "Count of rows with no_tokens: 1088\n"
     ]
    }
   ],
   "source": [
    "count_tokens_greater_than_threshold = (df_final2['no_tokens'] >= 7000).sum()\n",
    "print(\"Count of rows with no_tokens:\", count_tokens_greater_than_threshold)"
   ]
  },
  {
   "cell_type": "code",
   "execution_count": 10,
   "id": "d6b0f839",
   "metadata": {},
   "outputs": [
    {
     "data": {
      "text/html": [
       "<div>\n",
       "<style scoped>\n",
       "    .dataframe tbody tr th:only-of-type {\n",
       "        vertical-align: middle;\n",
       "    }\n",
       "\n",
       "    .dataframe tbody tr th {\n",
       "        vertical-align: top;\n",
       "    }\n",
       "\n",
       "    .dataframe thead th {\n",
       "        text-align: right;\n",
       "    }\n",
       "</style>\n",
       "<table border=\"1\" class=\"dataframe\">\n",
       "  <thead>\n",
       "    <tr style=\"text-align: right;\">\n",
       "      <th></th>\n",
       "      <th>url</th>\n",
       "      <th>date</th>\n",
       "      <th>language</th>\n",
       "      <th>title</th>\n",
       "      <th>text</th>\n",
       "      <th>year</th>\n",
       "      <th>cleaned</th>\n",
       "      <th>clean_title</th>\n",
       "      <th>relevant</th>\n",
       "      <th>tokens</th>\n",
       "      <th>no_tokens</th>\n",
       "    </tr>\n",
       "  </thead>\n",
       "  <tbody>\n",
       "    <tr>\n",
       "      <th>211</th>\n",
       "      <td>https://techreport.com/artificial-intelligence/writesonic-review/</td>\n",
       "      <td>2023-10-27</td>\n",
       "      <td>en</td>\n",
       "      <td>Complete Writesonic Review for 2023 — Better Than ChatGPT</td>\n",
       "      <td>\\n\\nComplete Writesonic Review for 2023 — Better Than ChatGPT\\n \\n\\nNews\\n\\nMain menuNews\\nTech News\\nCrypto News\\n\\n\\nSoftware\\n\\nMain menuSoftware\\nSpy Apps\\n\\nMain menuSpy Apps\\nBest Spy Apps\\n...</td>\n",
       "      <td>2023</td>\n",
       "      <td>Complete Writesonic Review for 2023   Better Than ChatGPT   News Main menuNews Tech News Crypto News Software Main menuSoftware Spy Apps Main menuSpy Apps Best Spy Apps Main menuBest Spy Apps Best...</td>\n",
       "      <td>Complete Writesonic Review for 2023   Better Than ChatGPT   News Main menuNews Tech News Crypto News Software Main menuSoftware Spy Apps Main menuSpy Apps Best Spy Apps Main menuBest Spy Apps Best...</td>\n",
       "      <td>1</td>\n",
       "      <td>[Complete, Writesonic, Review, for, 2023, Better, Than, ChatGPT, News, Main, menuNews, Tech, News, Crypto, News, Software, Main, menuSoftware, Spy, Apps, Main, menuSpy, Apps, Best, Spy, Apps, Main...</td>\n",
       "      <td>7818</td>\n",
       "    </tr>\n",
       "    <tr>\n",
       "      <th>233</th>\n",
       "      <td>https://vc.ru/hr/936085-microsoft-poluchit-mesto-nablyudatelya-bez-prava-golosa-v-obnovlennom-sovete-direktorov-openai?from=rss</td>\n",
       "      <td>2023-11-30</td>\n",
       "      <td>en</td>\n",
       "      <td>Microsoft получит место «наблюдателя без права голоса» в обновлённом совете директоров OpenAI — Карьера на vc.ru</td>\n",
       "      <td>\\n\\n\\nMicrosoft получит место «наблюдателя без права голоса» в обновлённом совете директоров OpenAI — Карьера на vc.ru\\n\\n            {\"isRegardCpuComplete\":false,\"hasAccess\":false}        \\n\\n   ...</td>\n",
       "      <td>2023</td>\n",
       "      <td>Microsoft                                                                              OpenAI              vc.ru             {\"isRegardCpuComplete\":false,\"hasAccess\":false}                        ...</td>\n",
       "      <td>Microsoft                                                                              OpenAI              vc.ru             {\"isRegardCpuComplete\":false,\"hasAccess\":false}                        ...</td>\n",
       "      <td>1</td>\n",
       "      <td>[Microsoft, OpenAI, vc.ru, {, ``, isRegardCpuComplete, '', :, false, ,, '', hasAccess, '', :, false, }, 1, Microsoft, OpenAI, ,, ., OpenAI, ,, ,, The, Verge, ., ,, ,, ., ., Microsoft, ., ., ,, Quo...</td>\n",
       "      <td>7811</td>\n",
       "    </tr>\n",
       "    <tr>\n",
       "      <th>361</th>\n",
       "      <td>https://www.dailymail.co.uk/health/article-12093681/The-BEST-weight-loss-diet-according-AI-week-long-plan-came-with.html</td>\n",
       "      <td>2023-05-27</td>\n",
       "      <td>en</td>\n",
       "      <td>The BEST weight loss diet, according to AI (and the week-long plan it came up with!)  | Daily Mail Online</td>\n",
       "      <td>\\nThe BEST weight loss diet, according to AI (and the week-long plan it came up with!)  | Daily Mail Online\\n\\n \\n\\n \\nHome\\n\\nShowbiz\\n\\nFemail\\n\\nRoyals\\n\\nHealth\\n\\nScience\\n\\nSports\\n\\nPolitic...</td>\n",
       "      <td>2023</td>\n",
       "      <td>The BEST weight loss diet, according to AI (and the week-long plan it came up with!)  | Daily Mail Online     Home Showbiz Femail Royals Health Science Sports Politics U.K. Money Video Travel Shop...</td>\n",
       "      <td>The BEST weight loss diet, according to AI (and the week-long plan it came up with!)  | Daily Mail Online     Home Showbiz Femail Royals Health Science Sports Politics U.K. Money Video Travel Shop...</td>\n",
       "      <td>1</td>\n",
       "      <td>[The, BEST, weight, loss, diet, ,, according, to, AI, (, and, the, week-long, plan, it, came, up, with, !, ), |, Daily, Mail, Online, Home, Showbiz, Femail, Royals, Health, Science, Sports, Politi...</td>\n",
       "      <td>14039</td>\n",
       "    </tr>\n",
       "    <tr>\n",
       "      <th>362</th>\n",
       "      <td>https://www.dailymail.co.uk/news/article-12500291/Headteacher-elite-girls-public-school-says-pupils-use-AI-homework-insists-fears-children-teaching-exaggerated.html?ns_mchannel=rss&amp;ns_campaign=149...</td>\n",
       "      <td>2023-09-10</td>\n",
       "      <td>en</td>\n",
       "      <td>Headteacher at elite girls' public school says pupils should use AI to do their homework and insists fears of children cheating are exaggerated | Daily Mail Online</td>\n",
       "      <td>Headteacher at elite girls' public school says pupils should use AI to do their homework and insists fears of children cheating are exaggerated | Daily Mail Online\\n\\n \\n\\n \\nHome\\n\\nShowbiz\\n\\nFe...</td>\n",
       "      <td>2023</td>\n",
       "      <td>Headteacher at elite girls' public school says pupils should use AI to do their homework and insists fears of children cheating are exaggerated | Daily Mail Online     Home Showbiz Femail Royals H...</td>\n",
       "      <td>Headteacher at elite girls' public school says pupils should use AI to do their homework and insists fears of children cheating are exaggerated | Daily Mail Online     Home Showbiz Femail Royals H...</td>\n",
       "      <td>1</td>\n",
       "      <td>[Headteacher, at, elite, girls, ', public, school, says, pupils, should, use, AI, to, do, their, homework, and, insists, fears, of, children, cheating, are, exaggerated, |, Daily, Mail, Online, Ho...</td>\n",
       "      <td>13460</td>\n",
       "    </tr>\n",
       "    <tr>\n",
       "      <th>433</th>\n",
       "      <td>https://www.forbes.com/sites/lanceeliot/2023/12/18/do-we-want-generative-ai-that-backs-down-when-giving-personalized-mental-health-advice-or-lean-instead-into-brazen-boldness/</td>\n",
       "      <td>2023-12-18</td>\n",
       "      <td>en</td>\n",
       "      <td>Do We Want Generative AI That Backs Down When Giving Personalized Mental Health Advice Or Lean Instead Into Brazen Boldness?</td>\n",
       "      <td>Do We Want Generative AI That Backs Down When Giving Personalized Mental Health Advice Or Lean Instead Into Brazen Boldness?Subscribe to newslettersSign InBETAThis is a BETA experience. You may op...</td>\n",
       "      <td>2023</td>\n",
       "      <td>Do We Want Generative AI That Backs Down When Giving Personalized Mental Health Advice Or Lean Instead Into Brazen Boldness?  to  sSign InBETAThis is a BETA experience. You may opt-out by clicking...</td>\n",
       "      <td>Do We Want Generative AI That Backs Down When Giving Personalized Mental Health Advice Or Lean Instead Into Brazen Boldness?Subscribe to newslettersSign InBETAThis is a BETA experience. You may op...</td>\n",
       "      <td>1</td>\n",
       "      <td>[Do, We, Want, Generative, AI, That, Backs, Down, When, Giving, Personalized, Mental, Health, Advice, Or, Lean, Instead, Into, Brazen, Boldness, ?, to, sSign, InBETAThis, is, a, BETA, experience, ...</td>\n",
       "      <td>7611</td>\n",
       "    </tr>\n",
       "  </tbody>\n",
       "</table>\n",
       "</div>"
      ],
      "text/plain": [
       "                                                                                                                                                                                                         url  \\\n",
       "211                                                                                                                                        https://techreport.com/artificial-intelligence/writesonic-review/   \n",
       "233                                                                          https://vc.ru/hr/936085-microsoft-poluchit-mesto-nablyudatelya-bez-prava-golosa-v-obnovlennom-sovete-direktorov-openai?from=rss   \n",
       "361                                                                                 https://www.dailymail.co.uk/health/article-12093681/The-BEST-weight-loss-diet-according-AI-week-long-plan-came-with.html   \n",
       "362  https://www.dailymail.co.uk/news/article-12500291/Headteacher-elite-girls-public-school-says-pupils-use-AI-homework-insists-fears-children-teaching-exaggerated.html?ns_mchannel=rss&ns_campaign=149...   \n",
       "433                          https://www.forbes.com/sites/lanceeliot/2023/12/18/do-we-want-generative-ai-that-backs-down-when-giving-personalized-mental-health-advice-or-lean-instead-into-brazen-boldness/   \n",
       "\n",
       "          date language  \\\n",
       "211 2023-10-27       en   \n",
       "233 2023-11-30       en   \n",
       "361 2023-05-27       en   \n",
       "362 2023-09-10       en   \n",
       "433 2023-12-18       en   \n",
       "\n",
       "                                                                                                                                                                   title  \\\n",
       "211                                                                                                            Complete Writesonic Review for 2023 — Better Than ChatGPT   \n",
       "233                                                     Microsoft получит место «наблюдателя без права голоса» в обновлённом совете директоров OpenAI — Карьера на vc.ru   \n",
       "361                                                            The BEST weight loss diet, according to AI (and the week-long plan it came up with!)  | Daily Mail Online   \n",
       "362  Headteacher at elite girls' public school says pupils should use AI to do their homework and insists fears of children cheating are exaggerated | Daily Mail Online   \n",
       "433                                         Do We Want Generative AI That Backs Down When Giving Personalized Mental Health Advice Or Lean Instead Into Brazen Boldness?   \n",
       "\n",
       "                                                                                                                                                                                                        text  \\\n",
       "211  \\n\\nComplete Writesonic Review for 2023 — Better Than ChatGPT\\n \\n\\nNews\\n\\nMain menuNews\\nTech News\\nCrypto News\\n\\n\\nSoftware\\n\\nMain menuSoftware\\nSpy Apps\\n\\nMain menuSpy Apps\\nBest Spy Apps\\n...   \n",
       "233  \\n\\n\\nMicrosoft получит место «наблюдателя без права голоса» в обновлённом совете директоров OpenAI — Карьера на vc.ru\\n\\n            {\"isRegardCpuComplete\":false,\"hasAccess\":false}        \\n\\n   ...   \n",
       "361  \\nThe BEST weight loss diet, according to AI (and the week-long plan it came up with!)  | Daily Mail Online\\n\\n \\n\\n \\nHome\\n\\nShowbiz\\n\\nFemail\\n\\nRoyals\\n\\nHealth\\n\\nScience\\n\\nSports\\n\\nPolitic...   \n",
       "362  Headteacher at elite girls' public school says pupils should use AI to do their homework and insists fears of children cheating are exaggerated | Daily Mail Online\\n\\n \\n\\n \\nHome\\n\\nShowbiz\\n\\nFe...   \n",
       "433  Do We Want Generative AI That Backs Down When Giving Personalized Mental Health Advice Or Lean Instead Into Brazen Boldness?Subscribe to newslettersSign InBETAThis is a BETA experience. You may op...   \n",
       "\n",
       "     year  \\\n",
       "211  2023   \n",
       "233  2023   \n",
       "361  2023   \n",
       "362  2023   \n",
       "433  2023   \n",
       "\n",
       "                                                                                                                                                                                                     cleaned  \\\n",
       "211  Complete Writesonic Review for 2023   Better Than ChatGPT   News Main menuNews Tech News Crypto News Software Main menuSoftware Spy Apps Main menuSpy Apps Best Spy Apps Main menuBest Spy Apps Best...   \n",
       "233  Microsoft                                                                              OpenAI              vc.ru             {\"isRegardCpuComplete\":false,\"hasAccess\":false}                        ...   \n",
       "361  The BEST weight loss diet, according to AI (and the week-long plan it came up with!)  | Daily Mail Online     Home Showbiz Femail Royals Health Science Sports Politics U.K. Money Video Travel Shop...   \n",
       "362  Headteacher at elite girls' public school says pupils should use AI to do their homework and insists fears of children cheating are exaggerated | Daily Mail Online     Home Showbiz Femail Royals H...   \n",
       "433  Do We Want Generative AI That Backs Down When Giving Personalized Mental Health Advice Or Lean Instead Into Brazen Boldness?  to  sSign InBETAThis is a BETA experience. You may opt-out by clicking...   \n",
       "\n",
       "                                                                                                                                                                                                 clean_title  \\\n",
       "211  Complete Writesonic Review for 2023   Better Than ChatGPT   News Main menuNews Tech News Crypto News Software Main menuSoftware Spy Apps Main menuSpy Apps Best Spy Apps Main menuBest Spy Apps Best...   \n",
       "233  Microsoft                                                                              OpenAI              vc.ru             {\"isRegardCpuComplete\":false,\"hasAccess\":false}                        ...   \n",
       "361  The BEST weight loss diet, according to AI (and the week-long plan it came up with!)  | Daily Mail Online     Home Showbiz Femail Royals Health Science Sports Politics U.K. Money Video Travel Shop...   \n",
       "362  Headteacher at elite girls' public school says pupils should use AI to do their homework and insists fears of children cheating are exaggerated | Daily Mail Online     Home Showbiz Femail Royals H...   \n",
       "433  Do We Want Generative AI That Backs Down When Giving Personalized Mental Health Advice Or Lean Instead Into Brazen Boldness?Subscribe to newslettersSign InBETAThis is a BETA experience. You may op...   \n",
       "\n",
       "     relevant  \\\n",
       "211         1   \n",
       "233         1   \n",
       "361         1   \n",
       "362         1   \n",
       "433         1   \n",
       "\n",
       "                                                                                                                                                                                                      tokens  \\\n",
       "211  [Complete, Writesonic, Review, for, 2023, Better, Than, ChatGPT, News, Main, menuNews, Tech, News, Crypto, News, Software, Main, menuSoftware, Spy, Apps, Main, menuSpy, Apps, Best, Spy, Apps, Main...   \n",
       "233  [Microsoft, OpenAI, vc.ru, {, ``, isRegardCpuComplete, '', :, false, ,, '', hasAccess, '', :, false, }, 1, Microsoft, OpenAI, ,, ., OpenAI, ,, ,, The, Verge, ., ,, ,, ., ., Microsoft, ., ., ,, Quo...   \n",
       "361  [The, BEST, weight, loss, diet, ,, according, to, AI, (, and, the, week-long, plan, it, came, up, with, !, ), |, Daily, Mail, Online, Home, Showbiz, Femail, Royals, Health, Science, Sports, Politi...   \n",
       "362  [Headteacher, at, elite, girls, ', public, school, says, pupils, should, use, AI, to, do, their, homework, and, insists, fears, of, children, cheating, are, exaggerated, |, Daily, Mail, Online, Ho...   \n",
       "433  [Do, We, Want, Generative, AI, That, Backs, Down, When, Giving, Personalized, Mental, Health, Advice, Or, Lean, Instead, Into, Brazen, Boldness, ?, to, sSign, InBETAThis, is, a, BETA, experience, ...   \n",
       "\n",
       "     no_tokens  \n",
       "211       7818  \n",
       "233       7811  \n",
       "361      14039  \n",
       "362      13460  \n",
       "433       7611  "
      ]
     },
     "execution_count": 10,
     "metadata": {},
     "output_type": "execute_result"
    }
   ],
   "source": [
    "# Analysing relevance of articles with tokens more than 7000\n",
    "df_more_than_threshold = df_final2[df_final2['no_tokens'] >= 7000]\n",
    "df_more_than_threshold.head(5)"
   ]
  },
  {
   "cell_type": "code",
   "execution_count": 11,
   "id": "f94409e8",
   "metadata": {},
   "outputs": [
    {
     "name": "stdout",
     "output_type": "stream",
     "text": [
      "Count of rows with no_tokens less than threshold: 2047\n"
     ]
    }
   ],
   "source": [
    "count_token_lessthan_threshold = (df_final2['no_tokens'] < 240).sum()\n",
    "print(\"Count of rows with no_tokens less than threshold:\", count_token_lessthan_threshold)"
   ]
  },
  {
   "cell_type": "code",
   "execution_count": 12,
   "id": "70f42496",
   "metadata": {},
   "outputs": [
    {
     "data": {
      "text/html": [
       "<div>\n",
       "<style scoped>\n",
       "    .dataframe tbody tr th:only-of-type {\n",
       "        vertical-align: middle;\n",
       "    }\n",
       "\n",
       "    .dataframe tbody tr th {\n",
       "        vertical-align: top;\n",
       "    }\n",
       "\n",
       "    .dataframe thead th {\n",
       "        text-align: right;\n",
       "    }\n",
       "</style>\n",
       "<table border=\"1\" class=\"dataframe\">\n",
       "  <thead>\n",
       "    <tr style=\"text-align: right;\">\n",
       "      <th></th>\n",
       "      <th>url</th>\n",
       "      <th>date</th>\n",
       "      <th>language</th>\n",
       "      <th>title</th>\n",
       "      <th>text</th>\n",
       "      <th>year</th>\n",
       "      <th>cleaned</th>\n",
       "      <th>clean_title</th>\n",
       "      <th>relevant</th>\n",
       "      <th>tokens</th>\n",
       "      <th>no_tokens</th>\n",
       "    </tr>\n",
       "  </thead>\n",
       "  <tbody>\n",
       "    <tr>\n",
       "      <th>27</th>\n",
       "      <td>https://boxofficebuz.com/movie/je-vous-ai-compris</td>\n",
       "      <td>2022-11-23</td>\n",
       "      <td>en</td>\n",
       "      <td>Je vous ai compris | Box Office Buz</td>\n",
       "      <td>\\nJe vous ai compris | Box Office Buz\\nHomeMoviesShowsTrailersNewsMore LoginNot AvailableJe vous ai comprisDirectorNot AvailableScreenwriterNot AvailableRelease DateNot AvailableStudioNot Availabl...</td>\n",
       "      <td>2022</td>\n",
       "      <td>Je vous ai compris | Box Office Buz HomeMoviesShowsTrailersNewsMore  Not AvailableJe vous ai comprisDirectorNot AvailableScreenwriterNot AvailableRelease DateNot AvailableStudioNot AvailableCastVi...</td>\n",
       "      <td>Je vous ai compris | Box Office Buz HomeMoviesShowsTrailersNewsMore LoginNot AvailableJe vous ai comprisDirectorNot AvailableScreenwriterNot AvailableRelease DateNot AvailableStudioNot AvailableCa...</td>\n",
       "      <td>1</td>\n",
       "      <td>[Je, vous, ai, compris, |, Box, Office, Buz, HomeMoviesShowsTrailersNewsMore, Not, AvailableJe, vous, ai, comprisDirectorNot, AvailableScreenwriterNot, AvailableRelease, DateNot, AvailableStudioNo...</td>\n",
       "      <td>38</td>\n",
       "    </tr>\n",
       "    <tr>\n",
       "      <th>155</th>\n",
       "      <td>https://news.sky.com/story/just-how-risky-is-artificial-intelligence-12998980</td>\n",
       "      <td>2023-11-02</td>\n",
       "      <td>en</td>\n",
       "      <td>Just how risky is artificial intelligence? | Science &amp; Tech News | Sky News</td>\n",
       "      <td>\\n\\nJust how risky is artificial intelligence? | Science &amp; Tech News | Sky News\\n\\n \\n\\nSkip to content\\nSky News - back to home\\n\\nWatch Live\\n\\nHome\\n\\n\\nUK\\n\\n\\nWorld\\n\\n\\nIsrael-Hamas War\\n\\n\\...</td>\n",
       "      <td>2023</td>\n",
       "      <td>Just how risky is artificial intelligence? | Science &amp; Tech News | Sky News   Skip to content Sky News - back to home Watch Live Home UK World Israel-Hamas War Politics US Climate Science &amp; Tech B...</td>\n",
       "      <td>Just how risky is artificial intelligence? | Science &amp; Tech News | Sky News   Skip to content Sky News - back to home Watch Live Home UK World Israel-Hamas War Politics US Climate Science &amp; Tech B...</td>\n",
       "      <td>1</td>\n",
       "      <td>[Just, how, risky, is, artificial, intelligence, ?, |, Science, &amp;, Tech, News, |, Sky, News, Skip, to, content, Sky, News, -, back, to, home, Watch, Live, Home, UK, World, Israel-Hamas, War, Polit...</td>\n",
       "      <td>185</td>\n",
       "    </tr>\n",
       "    <tr>\n",
       "      <th>412</th>\n",
       "      <td>https://www.fiercebiotech.com/medtech/mammography-ai-maker-icad-lays-another-28-workers-losses-grow-revenues-shrink</td>\n",
       "      <td>2023-03-28</td>\n",
       "      <td>en</td>\n",
       "      <td>Mammography AI maker iCad lays off 28% of workers</td>\n",
       "      <td>\\nMammography AI maker iCad lays off 28% of workers\\nFierce Pharma\\n\\n\\nFierce Biotech\\n\\n\\nFierce Healthcare\\n\\n\\nFierce Life Sciences Events\\n\\n \\n\\n \\n \\n\\nResearch\\n\\n\\nBiotech\\n\\n\\nClinical D...</td>\n",
       "      <td>2023</td>\n",
       "      <td>Mammography AI maker iCad lays off 28% of workers Fierce Pharma Fierce Biotech Fierce Healthcare Fierce Life Sciences Events       Re  Biotech Clinical Data Venture Capital Deals Medtech Devices D...</td>\n",
       "      <td>Mammography AI maker iCad lays off 28% of workers Fierce Pharma Fierce Biotech Fierce Healthcare Fierce Life Sciences Events       Research Biotech Clinical Data Venture Capital Deals Medtech Devi...</td>\n",
       "      <td>1</td>\n",
       "      <td>[Mammography, AI, maker, iCad, lays, off, 28, %, of, workers, Fierce, Pharma, Fierce, Biotech, Fierce, Healthcare, Fierce, Life, Sciences, Events, Re, Biotech, Clinical, Data, Venture, Capital, De...</td>\n",
       "      <td>159</td>\n",
       "    </tr>\n",
       "    <tr>\n",
       "      <th>413</th>\n",
       "      <td>https://www.fiercebiotech.com/medtech/merck-selects-saama-add-machine-learning-tech-drug-development-process</td>\n",
       "      <td>2022-08-11</td>\n",
       "      <td>en</td>\n",
       "      <td>Merck taps Saama to add AI to drug development process</td>\n",
       "      <td>\\nMerck taps Saama to add AI to drug development process\\nFierce Pharma\\n\\n\\nFierce Biotech\\n\\n\\nFierce Healthcare\\n\\n\\nFierce Life Sciences Events\\n\\n \\n\\n \\n \\n\\nResearch\\n\\n\\nBiotech\\n\\n\\nClini...</td>\n",
       "      <td>2022</td>\n",
       "      <td>Merck taps Saama to add AI to drug development process Fierce Pharma Fierce Biotech Fierce Healthcare Fierce Life Sciences Events       Re  Biotech Clinical Data Venture Capital Deals Medtech Devi...</td>\n",
       "      <td>Merck taps Saama to add AI to drug development process Fierce Pharma Fierce Biotech Fierce Healthcare Fierce Life Sciences Events       Research Biotech Clinical Data Venture Capital Deals Medtech...</td>\n",
       "      <td>1</td>\n",
       "      <td>[Merck, taps, Saama, to, add, AI, to, drug, development, process, Fierce, Pharma, Fierce, Biotech, Fierce, Healthcare, Fierce, Life, Sciences, Events, Re, Biotech, Clinical, Data, Venture, Capital...</td>\n",
       "      <td>149</td>\n",
       "    </tr>\n",
       "    <tr>\n",
       "      <th>609</th>\n",
       "      <td>https://www.law.com/radar/card/dealname-107a2ec3-b980-4ac7-a441-b6556a082a4f/</td>\n",
       "      <td>2022-12-29</td>\n",
       "      <td>en</td>\n",
       "      <td>Advent International Ropes &amp; Gray Investment Firms AI &amp; Auto...</td>\n",
       "      <td>\\n\\nAdvent International Ropes &amp; Gray Investment Firms AI &amp; Auto...\\nCorporate Deal\\n\\nTredence Inc., a data science and AI business, has secured $175 million from Advent International in a Series...</td>\n",
       "      <td>2022</td>\n",
       "      <td>Advent International Ropes &amp; Gray Investment Firms AI &amp; Auto... Corporate Deal Tredence Inc., a data science and AI business, has secured $175 million from Advent International in a Series B fundi...</td>\n",
       "      <td>Advent International Ropes &amp; Gray Investment Firms AI &amp; Auto... Corporate Deal Tredence Inc., a data science and AI business, has secured $175 million from Advent International in a Series B fundi...</td>\n",
       "      <td>1</td>\n",
       "      <td>[Advent, International, Ropes, &amp;, Gray, Investment, Firms, AI, &amp;, Auto, ..., Corporate, Deal, Tredence, Inc., ,, a, data, science, and, AI, business, ,, has, secured, $, 175, million, from, Advent...</td>\n",
       "      <td>75</td>\n",
       "    </tr>\n",
       "  </tbody>\n",
       "</table>\n",
       "</div>"
      ],
      "text/plain": [
       "                                                                                                                     url  \\\n",
       "27                                                                     https://boxofficebuz.com/movie/je-vous-ai-compris   \n",
       "155                                        https://news.sky.com/story/just-how-risky-is-artificial-intelligence-12998980   \n",
       "412  https://www.fiercebiotech.com/medtech/mammography-ai-maker-icad-lays-another-28-workers-losses-grow-revenues-shrink   \n",
       "413         https://www.fiercebiotech.com/medtech/merck-selects-saama-add-machine-learning-tech-drug-development-process   \n",
       "609                                        https://www.law.com/radar/card/dealname-107a2ec3-b980-4ac7-a441-b6556a082a4f/   \n",
       "\n",
       "          date language  \\\n",
       "27  2022-11-23       en   \n",
       "155 2023-11-02       en   \n",
       "412 2023-03-28       en   \n",
       "413 2022-08-11       en   \n",
       "609 2022-12-29       en   \n",
       "\n",
       "                                                                           title  \\\n",
       "27                                           Je vous ai compris | Box Office Buz   \n",
       "155  Just how risky is artificial intelligence? | Science & Tech News | Sky News   \n",
       "412                            Mammography AI maker iCad lays off 28% of workers   \n",
       "413                       Merck taps Saama to add AI to drug development process   \n",
       "609              Advent International Ropes & Gray Investment Firms AI & Auto...   \n",
       "\n",
       "                                                                                                                                                                                                        text  \\\n",
       "27   \\nJe vous ai compris | Box Office Buz\\nHomeMoviesShowsTrailersNewsMore LoginNot AvailableJe vous ai comprisDirectorNot AvailableScreenwriterNot AvailableRelease DateNot AvailableStudioNot Availabl...   \n",
       "155  \\n\\nJust how risky is artificial intelligence? | Science & Tech News | Sky News\\n\\n \\n\\nSkip to content\\nSky News - back to home\\n\\nWatch Live\\n\\nHome\\n\\n\\nUK\\n\\n\\nWorld\\n\\n\\nIsrael-Hamas War\\n\\n\\...   \n",
       "412  \\nMammography AI maker iCad lays off 28% of workers\\nFierce Pharma\\n\\n\\nFierce Biotech\\n\\n\\nFierce Healthcare\\n\\n\\nFierce Life Sciences Events\\n\\n \\n\\n \\n \\n\\nResearch\\n\\n\\nBiotech\\n\\n\\nClinical D...   \n",
       "413  \\nMerck taps Saama to add AI to drug development process\\nFierce Pharma\\n\\n\\nFierce Biotech\\n\\n\\nFierce Healthcare\\n\\n\\nFierce Life Sciences Events\\n\\n \\n\\n \\n \\n\\nResearch\\n\\n\\nBiotech\\n\\n\\nClini...   \n",
       "609  \\n\\nAdvent International Ropes & Gray Investment Firms AI & Auto...\\nCorporate Deal\\n\\nTredence Inc., a data science and AI business, has secured $175 million from Advent International in a Series...   \n",
       "\n",
       "     year  \\\n",
       "27   2022   \n",
       "155  2023   \n",
       "412  2023   \n",
       "413  2022   \n",
       "609  2022   \n",
       "\n",
       "                                                                                                                                                                                                     cleaned  \\\n",
       "27   Je vous ai compris | Box Office Buz HomeMoviesShowsTrailersNewsMore  Not AvailableJe vous ai comprisDirectorNot AvailableScreenwriterNot AvailableRelease DateNot AvailableStudioNot AvailableCastVi...   \n",
       "155  Just how risky is artificial intelligence? | Science & Tech News | Sky News   Skip to content Sky News - back to home Watch Live Home UK World Israel-Hamas War Politics US Climate Science & Tech B...   \n",
       "412  Mammography AI maker iCad lays off 28% of workers Fierce Pharma Fierce Biotech Fierce Healthcare Fierce Life Sciences Events       Re  Biotech Clinical Data Venture Capital Deals Medtech Devices D...   \n",
       "413  Merck taps Saama to add AI to drug development process Fierce Pharma Fierce Biotech Fierce Healthcare Fierce Life Sciences Events       Re  Biotech Clinical Data Venture Capital Deals Medtech Devi...   \n",
       "609  Advent International Ropes & Gray Investment Firms AI & Auto... Corporate Deal Tredence Inc., a data science and AI business, has secured $175 million from Advent International in a Series B fundi...   \n",
       "\n",
       "                                                                                                                                                                                                 clean_title  \\\n",
       "27   Je vous ai compris | Box Office Buz HomeMoviesShowsTrailersNewsMore LoginNot AvailableJe vous ai comprisDirectorNot AvailableScreenwriterNot AvailableRelease DateNot AvailableStudioNot AvailableCa...   \n",
       "155  Just how risky is artificial intelligence? | Science & Tech News | Sky News   Skip to content Sky News - back to home Watch Live Home UK World Israel-Hamas War Politics US Climate Science & Tech B...   \n",
       "412  Mammography AI maker iCad lays off 28% of workers Fierce Pharma Fierce Biotech Fierce Healthcare Fierce Life Sciences Events       Research Biotech Clinical Data Venture Capital Deals Medtech Devi...   \n",
       "413  Merck taps Saama to add AI to drug development process Fierce Pharma Fierce Biotech Fierce Healthcare Fierce Life Sciences Events       Research Biotech Clinical Data Venture Capital Deals Medtech...   \n",
       "609  Advent International Ropes & Gray Investment Firms AI & Auto... Corporate Deal Tredence Inc., a data science and AI business, has secured $175 million from Advent International in a Series B fundi...   \n",
       "\n",
       "     relevant  \\\n",
       "27          1   \n",
       "155         1   \n",
       "412         1   \n",
       "413         1   \n",
       "609         1   \n",
       "\n",
       "                                                                                                                                                                                                      tokens  \\\n",
       "27   [Je, vous, ai, compris, |, Box, Office, Buz, HomeMoviesShowsTrailersNewsMore, Not, AvailableJe, vous, ai, comprisDirectorNot, AvailableScreenwriterNot, AvailableRelease, DateNot, AvailableStudioNo...   \n",
       "155  [Just, how, risky, is, artificial, intelligence, ?, |, Science, &, Tech, News, |, Sky, News, Skip, to, content, Sky, News, -, back, to, home, Watch, Live, Home, UK, World, Israel-Hamas, War, Polit...   \n",
       "412  [Mammography, AI, maker, iCad, lays, off, 28, %, of, workers, Fierce, Pharma, Fierce, Biotech, Fierce, Healthcare, Fierce, Life, Sciences, Events, Re, Biotech, Clinical, Data, Venture, Capital, De...   \n",
       "413  [Merck, taps, Saama, to, add, AI, to, drug, development, process, Fierce, Pharma, Fierce, Biotech, Fierce, Healthcare, Fierce, Life, Sciences, Events, Re, Biotech, Clinical, Data, Venture, Capital...   \n",
       "609  [Advent, International, Ropes, &, Gray, Investment, Firms, AI, &, Auto, ..., Corporate, Deal, Tredence, Inc., ,, a, data, science, and, AI, business, ,, has, secured, $, 175, million, from, Advent...   \n",
       "\n",
       "     no_tokens  \n",
       "27          38  \n",
       "155        185  \n",
       "412        159  \n",
       "413        149  \n",
       "609         75  "
      ]
     },
     "execution_count": 12,
     "metadata": {},
     "output_type": "execute_result"
    }
   ],
   "source": [
    "# Analysing relevance of articles with tokens less than 240\n",
    "df_less_than_threshold = df_final2[df_final2['no_tokens'] < 240]\n",
    "df_less_than_threshold.head(5)"
   ]
  },
  {
   "cell_type": "code",
   "execution_count": 13,
   "id": "bf1416b7",
   "metadata": {},
   "outputs": [
    {
     "data": {
      "text/plain": [
       "181456"
      ]
     },
     "execution_count": 13,
     "metadata": {},
     "output_type": "execute_result"
    }
   ],
   "source": [
    "count_rows = ((df_final2['no_tokens'] < 7000) & (df_final2['no_tokens'] > 240)).sum()\n",
    "count_rows"
   ]
  },
  {
   "cell_type": "code",
   "execution_count": 14,
   "id": "778b369b",
   "metadata": {},
   "outputs": [],
   "source": [
    "df_final2 = df_final2[(df_final2['no_tokens'] < 7000) & (df_final2['no_tokens'] > 240)]"
   ]
  },
  {
   "cell_type": "code",
   "execution_count": 15,
   "id": "31988382",
   "metadata": {},
   "outputs": [],
   "source": [
    "key_tokens = ['artificial intelligence', 'machine learning', 'analytics', 'openai', 'chatgpt', \n",
    "              'nlp', 'data', 'llm', 'Autoencoders', 'Predictive model']\n",
    "\n",
    "def calculate_percentage(text):\n",
    "    count = sum(text.lower().count(token.lower()) for token in key_tokens)\n",
    "    total_tokens = len(text.split())\n",
    "    return (count / total_tokens) * 100 if total_tokens > 0 else 0\n",
    "\n",
    "df_final2['percentage'] = df_final2['text'].apply(calculate_percentage)"
   ]
  },
  {
   "cell_type": "code",
   "execution_count": 16,
   "id": "7d0e2e36",
   "metadata": {},
   "outputs": [
    {
     "data": {
      "image/png": "[encoded data removed]",
      "text/plain": [
       "<Figure size 1000x600 with 1 Axes>"
      ]
     },
     "metadata": {},
     "output_type": "display_data"
    }
   ],
   "source": [
    "plt.figure(figsize=(10, 6))\n",
    "plt.hist(df_final2['percentage'], bins=20, color='skyblue', edgecolor='black')\n",
    "plt.xlabel('Percentage of Key Tokens')\n",
    "plt.ylabel('Frequency')\n",
    "plt.title('Distribution of Percentage of Key Tokens')\n",
    "plt.grid(True)\n",
    "plt.show()"
   ]
  },
  {
   "cell_type": "code",
   "execution_count": 17,
   "id": "f0370315",
   "metadata": {},
   "outputs": [
    {
     "data": {
      "text/plain": [
       "count    181456.000000\n",
       "mean          1.029488\n",
       "std           1.021275\n",
       "min           0.000000\n",
       "25%           0.339439\n",
       "50%           0.695479\n",
       "75%           1.359388\n",
       "max          20.301624\n",
       "Name: percentage, dtype: float64"
      ]
     },
     "execution_count": 17,
     "metadata": {},
     "output_type": "execute_result"
    }
   ],
   "source": [
    "df_final2['percentage'].describe()"
   ]
  },
  {
   "cell_type": "code",
   "execution_count": 18,
   "id": "4115cb64",
   "metadata": {},
   "outputs": [
    {
     "name": "stdout",
     "output_type": "stream",
     "text": [
      "Number of rows with percentage below the 25th percentile: 18135\n"
     ]
    }
   ],
   "source": [
    "percentile_threshold = df_final2['percentage'].quantile(0.10)\n",
    "\n",
    "rows_below_threshold_percentile = df_final2[df_final2['percentage'] < percentile_threshold]\n",
    "\n",
    "num_rows_below_threshold_percentile = len(rows_below_threshold_percentile)\n",
    "print(\"Number of rows with percentage below the 25th percentile:\", num_rows_below_threshold_percentile)"
   ]
  },
  {
   "cell_type": "code",
   "execution_count": 19,
   "id": "c5a261db",
   "metadata": {},
   "outputs": [],
   "source": [
    "# Remove articles where mention of key words is below 10 percentile\n",
    "df_final2 = df_final2[~df_final2.index.isin(rows_below_threshold_percentile.index)]"
   ]
  },
  {
   "cell_type": "code",
   "execution_count": 20,
   "id": "ecd35ad0",
   "metadata": {},
   "outputs": [
    {
     "name": "stdout",
     "output_type": "stream",
     "text": [
      "<class 'pandas.core.frame.DataFrame'>\n",
      "Index: 163321 entries, 0 to 200434\n",
      "Data columns (total 12 columns):\n",
      " #   Column       Non-Null Count   Dtype         \n",
      "---  ------       --------------   -----         \n",
      " 0   url          163321 non-null  object        \n",
      " 1   date         163321 non-null  datetime64[ns]\n",
      " 2   language     163321 non-null  object        \n",
      " 3   title        163321 non-null  object        \n",
      " 4   text         163321 non-null  object        \n",
      " 5   year         163321 non-null  int32         \n",
      " 6   cleaned      163321 non-null  object        \n",
      " 7   clean_title  163321 non-null  object        \n",
      " 8   relevant     163321 non-null  int32         \n",
      " 9   tokens       163321 non-null  object        \n",
      " 10  no_tokens    163321 non-null  int64         \n",
      " 11  percentage   163321 non-null  float64       \n",
      "dtypes: datetime64[ns](1), float64(1), int32(2), int64(1), object(7)\n",
      "memory usage: 15.0+ MB\n"
     ]
    }
   ],
   "source": [
    "df_final2.info()"
   ]
  },
  {
   "cell_type": "code",
   "execution_count": 21,
   "id": "a05b51a5",
   "metadata": {},
   "outputs": [],
   "source": [
    "df_final2.to_parquet('FilteredDataset.parquet')"
   ]
  }
 ],
 "metadata": {
  "kernelspec": {
   "display_name": "Python 3 (ipykernel)",
   "language": "python",
   "name": "python3"
  },
  "language_info": {
   "codemirror_mode": {
    "name": "ipython",
    "version": 3
   },
   "file_extension": ".py",
   "mimetype": "text/x-python",
   "name": "python",
   "nbconvert_exporter": "python",
   "pygments_lexer": "ipython3",
   "version": "3.11.4"
  }
 },
 "nbformat": 4,
 "nbformat_minor": 5
}
