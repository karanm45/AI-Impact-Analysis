{
 "cells": [
  {
   "cell_type": "markdown",
   "id": "227ea82b",
   "metadata": {},
   "source": [
    "## Natural Language Processing\n",
    "## Final Project - Karan Mehta"
   ]
  },
  {
   "cell_type": "code",
   "execution_count": 1,
   "id": "cf7b50d8",
   "metadata": {},
   "outputs": [
    {
     "name": "stderr",
     "output_type": "stream",
     "text": [
      "C:\\Users\\Karan Mehta\\anaconda3\\Lib\\site-packages\\pandas\\core\\arrays\\masked.py:60: UserWarning: Pandas requires version '1.3.6' or newer of 'bottleneck' (version '1.3.5' currently installed).\n",
      "  from pandas.core import (\n"
     ]
    }
   ],
   "source": [
    "import pandas as pd\n",
    "import warnings\n",
    "warnings.filterwarnings(\"ignore\")\n",
    "\n",
    "import re\n",
    "import nltk\n",
    "from nltk.tokenize import word_tokenize\n",
    "import matplotlib.pyplot as plt\n",
    "import multiprocessing\n",
    "\n",
    "pd.set_option('display.max_rows', 100)\n",
    "pd.set_option('display.max_columns', None)\n",
    "pd.set_option('display.max_colwidth', 200)"
   ]
  },
  {
   "cell_type": "code",
   "execution_count": 2,
   "id": "361f54ad",
   "metadata": {},
   "outputs": [
    {
     "name": "stdout",
     "output_type": "stream",
     "text": [
      "CPU times: total: 5.45 s\n",
      "Wall time: 16.7 s\n"
     ]
    },
    {
     "data": {
      "text/plain": [
       "(200435, 5)"
      ]
     },
     "execution_count": 2,
     "metadata": {},
     "output_type": "execute_result"
    }
   ],
   "source": [
    "%%time\n",
    "df_news_final_project = pd.read_parquet(\"D:/University of Chicago/Courses/ADSP 32018 IP02 (Winter 2024) Natural Language Processing and Cognitive Computing/Final Project/news_final_project.parquet\", engine='pyarrow')\n",
    "df_news_final_project.shape"
   ]
  },
  {
   "cell_type": "code",
   "execution_count": 3,
   "id": "f07bf7dc",
   "metadata": {},
   "outputs": [
    {
     "data": {
      "text/html": [
       "<div>\n",
       "<style scoped>\n",
       "    .dataframe tbody tr th:only-of-type {\n",
       "        vertical-align: middle;\n",
       "    }\n",
       "\n",
       "    .dataframe tbody tr th {\n",
       "        vertical-align: top;\n",
       "    }\n",
       "\n",
       "    .dataframe thead th {\n",
       "        text-align: right;\n",
       "    }\n",
       "</style>\n",
       "<table border=\"1\" class=\"dataframe\">\n",
       "  <thead>\n",
       "    <tr style=\"text-align: right;\">\n",
       "      <th></th>\n",
       "      <th>url</th>\n",
       "      <th>date</th>\n",
       "      <th>language</th>\n",
       "      <th>title</th>\n",
       "      <th>text</th>\n",
       "    </tr>\n",
       "  </thead>\n",
       "  <tbody>\n",
       "    <tr>\n",
       "      <th>0</th>\n",
       "      <td>http://galusaustralis.com/2020/02/486473/legaltech-artificial-intelligence-market-2019-technology-advancement-and-future-scope-casetext-inc-catalyst-repository-systems-ebrevia/</td>\n",
       "      <td>2020-02-26</td>\n",
       "      <td>en</td>\n",
       "      <td>LegalTech Artificial Intelligence Market 2019 Technology Advancement and Future Scope – Casetext Inc., Catalyst Repository Systems, eBREVIA – Galus Australis</td>\n",
       "      <td>LegalTech Artificial Intelligence Market 2019 Technology Advancement and Future Scope – Casetext Inc., Catalyst Repository Systems, eBREVIA – Galus Australis          \\n\\nGalus Australis\\n\\nBusine...</td>\n",
       "    </tr>\n",
       "    <tr>\n",
       "      <th>1</th>\n",
       "      <td>http://newsparliament.com/2020/02/27/children-with-autism-saw-their-learning-and-social-skills-boosted-after-playing-with-this-ai-robot/</td>\n",
       "      <td>2020-02-27</td>\n",
       "      <td>en</td>\n",
       "      <td>Children With Autism Saw Their Learning and Social Skills Boosted After Playing With This AI Robot – News Parliament</td>\n",
       "      <td>\\nChildren With Autism Saw Their Learning and Social Skills Boosted After Playing With This AI Robot – News Parliament\\n \\n\\nSkip to content\\n\\t\\t\\tThursday, February 27, 2020\\t\\t\\n\\nLatest:\\n\\n\\n...</td>\n",
       "    </tr>\n",
       "    <tr>\n",
       "      <th>2</th>\n",
       "      <td>http://www.agoravox.it/Covid-19-un-messaggio-dai.html</td>\n",
       "      <td>2020-03-13</td>\n",
       "      <td>en</td>\n",
       "      <td>Covid-19: un messaggio dai ricercatori italiani ai colleghi stranieri - AgoraVox Italia</td>\n",
       "      <td>\\n\\n\\nCovid-19: un messaggio dai ricercatori italiani ai colleghi stranieri - AgoraVox Italia\\n\\nAccedi\\n\\nPartecipa ad AgoraVox!\\nIscriviti e proponi un articolo\\nHome page\\n\\n\\nAttualitÃ \\n\\n\\nA...</td>\n",
       "    </tr>\n",
       "    <tr>\n",
       "      <th>3</th>\n",
       "      <td>http://www.desototimes.com/news/child-actor-claude-jarman-jr-looks-back-on-his-movie-career-during-the-golden-days/article_0b310fae-e767-11ec-982e-a380305dda2f.html</td>\n",
       "      <td>2022-06-09</td>\n",
       "      <td>en</td>\n",
       "      <td>Child actor Claude Jarman Jr. looks back on his movie career during the “Golden Days” of Hollywood | News | desototimes.com</td>\n",
       "      <td>\\nChild actor Claude Jarman Jr. looks back on his movie career during the “Golden Days” of Hollywood | News | desototimes.com\\nSkip to main content\\n\\nYou have permission to edit this article.\\n\\n...</td>\n",
       "    </tr>\n",
       "    <tr>\n",
       "      <th>4</th>\n",
       "      <td>http://www.millenniumpost.in/big-stories/ai-express-aircraft-skids-off-runaway-in-kozhikode-rescue-ops-on-414926</td>\n",
       "      <td>2020-08-07</td>\n",
       "      <td>en</td>\n",
       "      <td>Two dead as AI Express flight skids off Kozhikode airport</td>\n",
       "      <td>Two dead as AI Express flight skids off Kozhikode airportTopLoginSubscribeToggle navigationFeaturesDelhiKolkataNationOpinionEditorialBusinessSportsSunday PostBeyond BygoneEpic PowerIn RetrospectGl...</td>\n",
       "    </tr>\n",
       "    <tr>\n",
       "      <th>5</th>\n",
       "      <td>http://www.nativestew.com/2023/11/ai-took-my-job.html</td>\n",
       "      <td>2023-11-20</td>\n",
       "      <td>en</td>\n",
       "      <td>Native Stew - Bahamas AI Art, Photos, Videos: AI Took My Job</td>\n",
       "      <td>\\nNative Stew - Bahamas AI Art, Photos, Videos: AI Took My Job\\nPages\\nHome\\n\\n\\nPeople\\n\\n\\nPlaces\\n\\n\\nThings\\n\\nMonday, November 20, 2023\\n\\nAI Took My Job\\n \"AI Took My Job\" - AI art©A. Derek ...</td>\n",
       "    </tr>\n",
       "    <tr>\n",
       "      <th>6</th>\n",
       "      <td>http://www.pentictonherald.ca/entertainment/national_entertainment/article_33071177-695b-5c1c-bccf-f24c3ca132f0.html</td>\n",
       "      <td>2020-12-08</td>\n",
       "      <td>en</td>\n",
       "      <td>From the Bard to broadcaster: Stratford Festival builds new identity with streamer | National Entertainment | pentictonherald.ca</td>\n",
       "      <td>\\n\\nFrom the Bard to broadcaster: Stratford Festival builds new identity with streamer | National Entertainment | pentictonherald.ca\\n\\nYou have permission to edit this article.\\n\\n Edit\\nClose\\n\\...</td>\n",
       "    </tr>\n",
       "    <tr>\n",
       "      <th>7</th>\n",
       "      <td>http://www.peripherals.consumerelectronicsnet.com/multicoreware-inc-becomes-cevas-trusted-partner-for-imaging-computer-vision/</td>\n",
       "      <td>2021-02-25</td>\n",
       "      <td>en</td>\n",
       "      <td>MulticoreWare Inc. Becomes CEVA’s Trusted Partner for Imaging &amp; Computer Vision – Consumer Electronics Net</td>\n",
       "      <td>\\n\\nMulticoreWare Inc. Becomes CEVA’s Trusted Partner for Imaging &amp; Computer Vision – Consumer Electronics Net\\n\\n \\nSkip to content\\n\\nConsumer Electronics Net\\n\\nPrimary Menu\\n\\nConsumer Electro...</td>\n",
       "    </tr>\n",
       "    <tr>\n",
       "      <th>8</th>\n",
       "      <td>http://www.sbwire.com/press-releases/healthcare-artificial-intelligence-market-next-big-thing-major-giants-general-electric-medtronic-aicure-apixio-1363690.htm</td>\n",
       "      <td>2022-10-06</td>\n",
       "      <td>en</td>\n",
       "      <td>Healthcare Artificial Intelligence Market Analysis and Forecast for Next 5 Years</td>\n",
       "      <td>\\n\\nHealthcare Artificial Intelligence Market Analysis and Forecast for Next 5 Years\\n \\n\\n \\n\\nSBWire\\nSign Up\\nLogin\\n\\nOur Service\\nPlans &amp; Pricing\\nNewsroom\\nHelp\\nAbout\\n\\nAMA Research &amp;amp; ...</td>\n",
       "    </tr>\n",
       "    <tr>\n",
       "      <th>9</th>\n",
       "      <td>https://3wnews.org/industry/704499/artificial-intelligence-as-a-service-market-opportunities-market-analysis-outlook-to-2027/</td>\n",
       "      <td>2020-04-29</td>\n",
       "      <td>en</td>\n",
       "      <td>Artificial Intelligence As A Service Market : Opportunities, Market Analysis &amp; Outlook To 2027 – 3w Market News Reports</td>\n",
       "      <td>\\n\\nArtificial Intelligence As A Service Market : Opportunities, Market Analysis &amp; Outlook To 2027 – 3w Market News Reports\\n\\n \\n\\n \\nContact Us\\nAbout Us\\n \\n3w Market News Reports\\n3rd Market R...</td>\n",
       "    </tr>\n",
       "  </tbody>\n",
       "</table>\n",
       "</div>"
      ],
      "text/plain": [
       "                                                                                                                                                                                url  \\\n",
       "0  http://galusaustralis.com/2020/02/486473/legaltech-artificial-intelligence-market-2019-technology-advancement-and-future-scope-casetext-inc-catalyst-repository-systems-ebrevia/   \n",
       "1                                          http://newsparliament.com/2020/02/27/children-with-autism-saw-their-learning-and-social-skills-boosted-after-playing-with-this-ai-robot/   \n",
       "2                                                                                                                             http://www.agoravox.it/Covid-19-un-messaggio-dai.html   \n",
       "3              http://www.desototimes.com/news/child-actor-claude-jarman-jr-looks-back-on-his-movie-career-during-the-golden-days/article_0b310fae-e767-11ec-982e-a380305dda2f.html   \n",
       "4                                                                  http://www.millenniumpost.in/big-stories/ai-express-aircraft-skids-off-runaway-in-kozhikode-rescue-ops-on-414926   \n",
       "5                                                                                                                             http://www.nativestew.com/2023/11/ai-took-my-job.html   \n",
       "6                                                              http://www.pentictonherald.ca/entertainment/national_entertainment/article_33071177-695b-5c1c-bccf-f24c3ca132f0.html   \n",
       "7                                                    http://www.peripherals.consumerelectronicsnet.com/multicoreware-inc-becomes-cevas-trusted-partner-for-imaging-computer-vision/   \n",
       "8                   http://www.sbwire.com/press-releases/healthcare-artificial-intelligence-market-next-big-thing-major-giants-general-electric-medtronic-aicure-apixio-1363690.htm   \n",
       "9                                                     https://3wnews.org/industry/704499/artificial-intelligence-as-a-service-market-opportunities-market-analysis-outlook-to-2027/   \n",
       "\n",
       "         date language  \\\n",
       "0  2020-02-26       en   \n",
       "1  2020-02-27       en   \n",
       "2  2020-03-13       en   \n",
       "3  2022-06-09       en   \n",
       "4  2020-08-07       en   \n",
       "5  2023-11-20       en   \n",
       "6  2020-12-08       en   \n",
       "7  2021-02-25       en   \n",
       "8  2022-10-06       en   \n",
       "9  2020-04-29       en   \n",
       "\n",
       "                                                                                                                                                           title  \\\n",
       "0  LegalTech Artificial Intelligence Market 2019 Technology Advancement and Future Scope – Casetext Inc., Catalyst Repository Systems, eBREVIA – Galus Australis   \n",
       "1                                           Children With Autism Saw Their Learning and Social Skills Boosted After Playing With This AI Robot – News Parliament   \n",
       "2                                                                        Covid-19: un messaggio dai ricercatori italiani ai colleghi stranieri - AgoraVox Italia   \n",
       "3                                    Child actor Claude Jarman Jr. looks back on his movie career during the “Golden Days” of Hollywood | News | desototimes.com   \n",
       "4                                                                                                      Two dead as AI Express flight skids off Kozhikode airport   \n",
       "5                                                                                                   Native Stew - Bahamas AI Art, Photos, Videos: AI Took My Job   \n",
       "6                               From the Bard to broadcaster: Stratford Festival builds new identity with streamer | National Entertainment | pentictonherald.ca   \n",
       "7                                                     MulticoreWare Inc. Becomes CEVA’s Trusted Partner for Imaging & Computer Vision – Consumer Electronics Net   \n",
       "8                                                                               Healthcare Artificial Intelligence Market Analysis and Forecast for Next 5 Years   \n",
       "9                                        Artificial Intelligence As A Service Market : Opportunities, Market Analysis & Outlook To 2027 – 3w Market News Reports   \n",
       "\n",
       "                                                                                                                                                                                                      text  \n",
       "0  LegalTech Artificial Intelligence Market 2019 Technology Advancement and Future Scope – Casetext Inc., Catalyst Repository Systems, eBREVIA – Galus Australis          \\n\\nGalus Australis\\n\\nBusine...  \n",
       "1  \\nChildren With Autism Saw Their Learning and Social Skills Boosted After Playing With This AI Robot – News Parliament\\n \\n\\nSkip to content\\n\\t\\t\\tThursday, February 27, 2020\\t\\t\\n\\nLatest:\\n\\n\\n...  \n",
       "2  \\n\\n\\nCovid-19: un messaggio dai ricercatori italiani ai colleghi stranieri - AgoraVox Italia\\n\\nAccedi\\n\\nPartecipa ad AgoraVox!\\nIscriviti e proponi un articolo\\nHome page\\n\\n\\nAttualitÃ \\n\\n\\nA...  \n",
       "3  \\nChild actor Claude Jarman Jr. looks back on his movie career during the “Golden Days” of Hollywood | News | desototimes.com\\nSkip to main content\\n\\nYou have permission to edit this article.\\n\\n...  \n",
       "4  Two dead as AI Express flight skids off Kozhikode airportTopLoginSubscribeToggle navigationFeaturesDelhiKolkataNationOpinionEditorialBusinessSportsSunday PostBeyond BygoneEpic PowerIn RetrospectGl...  \n",
       "5  \\nNative Stew - Bahamas AI Art, Photos, Videos: AI Took My Job\\nPages\\nHome\\n\\n\\nPeople\\n\\n\\nPlaces\\n\\n\\nThings\\n\\nMonday, November 20, 2023\\n\\nAI Took My Job\\n \"AI Took My Job\" - AI art©A. Derek ...  \n",
       "6  \\n\\nFrom the Bard to broadcaster: Stratford Festival builds new identity with streamer | National Entertainment | pentictonherald.ca\\n\\nYou have permission to edit this article.\\n\\n Edit\\nClose\\n\\...  \n",
       "7  \\n\\nMulticoreWare Inc. Becomes CEVA’s Trusted Partner for Imaging & Computer Vision – Consumer Electronics Net\\n\\n \\nSkip to content\\n\\nConsumer Electronics Net\\n\\nPrimary Menu\\n\\nConsumer Electro...  \n",
       "8  \\n\\nHealthcare Artificial Intelligence Market Analysis and Forecast for Next 5 Years\\n \\n\\n \\n\\nSBWire\\nSign Up\\nLogin\\n\\nOur Service\\nPlans & Pricing\\nNewsroom\\nHelp\\nAbout\\n\\nAMA Research &amp; ...  \n",
       "9  \\n\\nArtificial Intelligence As A Service Market : Opportunities, Market Analysis & Outlook To 2027 – 3w Market News Reports\\n\\n \\n\\n \\nContact Us\\nAbout Us\\n \\n3w Market News Reports\\n3rd Market R...  "
      ]
     },
     "execution_count": 3,
     "metadata": {},
     "output_type": "execute_result"
    }
   ],
   "source": [
    "df_news_final_project.head(10)"
   ]
  },
  {
   "cell_type": "code",
   "execution_count": 4,
   "id": "0c5e3c5b",
   "metadata": {},
   "outputs": [],
   "source": [
    "df_news_final_project['date'] = pd.to_datetime(df_news_final_project['date'])\n",
    "df_news_final_project['year'] = df_news_final_project['date'].dt.year"
   ]
  },
  {
   "cell_type": "code",
   "execution_count": 5,
   "id": "af2d3f95",
   "metadata": {},
   "outputs": [
    {
     "data": {
      "text/plain": [
       "year\n",
       "2023    119663\n",
       "2022     30083\n",
       "2021     24094\n",
       "2020     18948\n",
       "2024      7647\n",
       "Name: count, dtype: int64"
      ]
     },
     "execution_count": 5,
     "metadata": {},
     "output_type": "execute_result"
    }
   ],
   "source": [
    "df_news_final_project['year'].value_counts()"
   ]
  },
  {
   "cell_type": "markdown",
   "id": "73d1cf18",
   "metadata": {},
   "source": [
    "### News Article (Text) Cleaning"
   ]
  },
  {
   "cell_type": "code",
   "execution_count": 6,
   "id": "ecc879f3",
   "metadata": {},
   "outputs": [
    {
     "name": "stdout",
     "output_type": "stream",
     "text": [
      "Using 11 workers\n"
     ]
    }
   ],
   "source": [
    "num_processors = multiprocessing.cpu_count()\n",
    "num_processors\n",
    "\n",
    "workers = num_processors-1\n",
    "\n",
    "print(f'Using {workers} workers')"
   ]
  },
  {
   "cell_type": "code",
   "execution_count": 7,
   "id": "17c5a250",
   "metadata": {},
   "outputs": [
    {
     "name": "stdout",
     "output_type": "stream",
     "text": [
      "CPU times: total: 1min 23s\n",
      "Wall time: 1min 52s\n"
     ]
    }
   ],
   "source": [
    "%%time\n",
    "# Removing urls\n",
    "df_news_final_project['cleaned'] = df_news_final_project['text'].replace(to_replace=r'\\b(?:https?://)?(?:www\\.)?\\w+\\.(?:com|net|io|edu|gov|org|co)\\b', value='', regex=True)"
   ]
  },
  {
   "cell_type": "code",
   "execution_count": 8,
   "id": "0d850dbc",
   "metadata": {},
   "outputs": [
    {
     "name": "stdout",
     "output_type": "stream",
     "text": [
      "CPU times: total: 22.5 s\n",
      "Wall time: 28 s\n"
     ]
    }
   ],
   "source": [
    "%%time\n",
    "# Removing new line character\n",
    "df_news_final_project['cleaned'] = df_news_final_project['cleaned'].apply(lambda x: re.sub(r'(?:[\\n]+)',' ',str(x)))"
   ]
  },
  {
   "cell_type": "code",
   "execution_count": 9,
   "id": "0c9b34d0",
   "metadata": {},
   "outputs": [
    {
     "name": "stdout",
     "output_type": "stream",
     "text": [
      "CPU times: total: 19.2 s\n",
      "Wall time: 21.7 s\n"
     ]
    }
   ],
   "source": [
    "%%time\n",
    "# Removing tab\n",
    "df_news_final_project['cleaned'] = df_news_final_project['cleaned'].apply(lambda x: re.sub(r'(?:[\\t]+)',' ',str(x)))"
   ]
  },
  {
   "cell_type": "code",
   "execution_count": 10,
   "id": "b5e8d8b7",
   "metadata": {},
   "outputs": [],
   "source": [
    "# Removing HTMl tags\n",
    "df_news_final_project['cleaned'] = df_news_final_project['cleaned'].apply(lambda x: re.sub('<[^>]*>',' ',str(x)))"
   ]
  },
  {
   "cell_type": "code",
   "execution_count": 11,
   "id": "4812b689",
   "metadata": {},
   "outputs": [],
   "source": [
    "# Removing CSS tags\n",
    "df_news_final_project['cleaned'] = df_news_final_project['cleaned'].apply(lambda x: re.sub('<style[^>]*>.*?</style>',' ',str(x)))"
   ]
  },
  {
   "cell_type": "code",
   "execution_count": 12,
   "id": "472b959b",
   "metadata": {},
   "outputs": [],
   "source": [
    "# Removing Javascript tags\n",
    "df_news_final_project['cleaned'] = df_news_final_project['cleaned'].apply(lambda x: re.sub('<script[^>]*>.*?</script>',' ',str(x)))"
   ]
  },
  {
   "cell_type": "code",
   "execution_count": 13,
   "id": "49ed31ff",
   "metadata": {},
   "outputs": [],
   "source": [
    "# Remove all non-ascii characters\n",
    "df_news_final_project['cleaned'] = df_news_final_project['cleaned'].apply(lambda x: re.sub(r'[^\\x00-\\x7F]',' ',str(x)))"
   ]
  },
  {
   "cell_type": "code",
   "execution_count": 14,
   "id": "df1158ed",
   "metadata": {},
   "outputs": [],
   "source": [
    "# Remove all emojis and symbols characters\n",
    "df_news_final_project['cleaned'] = df_news_final_project['cleaned'].apply(lambda x: re.sub('[\\U0001F300-\\U0001F5FF\\U0001F600-\\U0001F64F\\U0001F680-\\U0001F6FF\\U0001F700-\\U0001F77F\\U0001F780-\\U0001F7FF\\U0001F800-\\U0001F8FF\\U0001F900-\\U0001F9FF\\U0001FA00-\\U0001FA6F\\U0001FA70-\\U0001FAFF\\u2600-\\u26FF\\u2700-\\u27BF]',' ',str(x)))"
   ]
  },
  {
   "cell_type": "code",
   "execution_count": 15,
   "id": "9eaae45d",
   "metadata": {},
   "outputs": [],
   "source": [
    "df_news_final_project['cleaned'] = df_news_final_project['cleaned'].apply(lambda x: re.sub('#\\w+',' ',str(x)))"
   ]
  },
  {
   "cell_type": "markdown",
   "id": "68f313a0",
   "metadata": {},
   "source": [
    "### News Article (Title) Cleaning"
   ]
  },
  {
   "cell_type": "code",
   "execution_count": 16,
   "id": "9aebe148",
   "metadata": {},
   "outputs": [],
   "source": [
    "df_news_final_project['clean_title'] = df_news_final_project['title'].apply(lambda x: re.sub(r'[^\\w\\s.,]', '', x))"
   ]
  },
  {
   "cell_type": "code",
   "execution_count": 17,
   "id": "a30a04e0",
   "metadata": {},
   "outputs": [
    {
     "name": "stdout",
     "output_type": "stream",
     "text": [
      "CPU times: total: 1min 19s\n",
      "Wall time: 1min 40s\n"
     ]
    }
   ],
   "source": [
    "%%time\n",
    "# Removing \n",
    "df_news_final_project['clean_title'] = df_news_final_project['text'].replace(to_replace=r'\\b(?:https?://)?(?:www\\.)?\\w+\\.(?:com|net|io|edu|gov|org|co)\\b', value='', regex=True)"
   ]
  },
  {
   "cell_type": "code",
   "execution_count": 18,
   "id": "7a4bf118",
   "metadata": {},
   "outputs": [
    {
     "name": "stdout",
     "output_type": "stream",
     "text": [
      "CPU times: total: 25.7 s\n",
      "Wall time: 36 s\n"
     ]
    }
   ],
   "source": [
    "%%time\n",
    "# Removing new line character\n",
    "df_news_final_project['clean_title'] = df_news_final_project['clean_title'].apply(lambda x: re.sub(r'(?:[\\n]+)',' ',str(x)))"
   ]
  },
  {
   "cell_type": "code",
   "execution_count": 19,
   "id": "9785da91",
   "metadata": {},
   "outputs": [
    {
     "name": "stdout",
     "output_type": "stream",
     "text": [
      "CPU times: total: 16.7 s\n",
      "Wall time: 22.1 s\n"
     ]
    }
   ],
   "source": [
    "%%time\n",
    "# Removing tab\n",
    "df_news_final_project['clean_title'] = df_news_final_project['clean_title'].apply(lambda x: re.sub(r'(?:[\\t]+)',' ',str(x)))"
   ]
  },
  {
   "cell_type": "code",
   "execution_count": 20,
   "id": "3e2ffe14",
   "metadata": {},
   "outputs": [],
   "source": [
    "# Removing HTMl tags\n",
    "df_news_final_project['clean_title'] = df_news_final_project['clean_title'].apply(lambda x: re.sub('<[^>]*>',' ',str(x)))"
   ]
  },
  {
   "cell_type": "code",
   "execution_count": 21,
   "id": "38e30c10",
   "metadata": {},
   "outputs": [],
   "source": [
    "# Remove all non-ascii characters\n",
    "df_news_final_project['clean_title'] = df_news_final_project['clean_title'].apply(lambda x: re.sub(r'[^\\x00-\\x7F]',' ',str(x)))"
   ]
  },
  {
   "cell_type": "code",
   "execution_count": 22,
   "id": "579a7079",
   "metadata": {},
   "outputs": [],
   "source": [
    "# Remove all emojis and symbols characters\n",
    "df_news_final_project['clean_title'] = df_news_final_project['clean_title'].apply(lambda x: re.sub('[\\U0001F300-\\U0001F5FF\\U0001F600-\\U0001F64F\\U0001F680-\\U0001F6FF\\U0001F700-\\U0001F77F\\U0001F780-\\U0001F7FF\\U0001F800-\\U0001F8FF\\U0001F900-\\U0001F9FF\\U0001FA00-\\U0001FA6F\\U0001FA70-\\U0001FAFF\\u2600-\\u26FF\\u2700-\\u27BF]',' ',str(x)))"
   ]
  },
  {
   "cell_type": "code",
   "execution_count": 23,
   "id": "5f72bb14",
   "metadata": {},
   "outputs": [],
   "source": [
    "df_news_final_project['clean_title'] = df_news_final_project['clean_title'].apply(lambda x: re.sub('#\\w+',' ',str(x)))"
   ]
  },
  {
   "cell_type": "code",
   "execution_count": 24,
   "id": "80ba6ce7",
   "metadata": {},
   "outputs": [],
   "source": [
    "df_news_final_project['clean_title'] = df_news_final_project['clean_title'].str.strip()"
   ]
  },
  {
   "cell_type": "markdown",
   "id": "cc9bf894",
   "metadata": {},
   "source": [
    "### Finding Relevant Articles"
   ]
  },
  {
   "cell_type": "code",
   "execution_count": 25,
   "id": "5082982a",
   "metadata": {},
   "outputs": [
    {
     "name": "stdout",
     "output_type": "stream",
     "text": [
      "CPU times: total: 28.8 s\n",
      "Wall time: 45.2 s\n"
     ]
    }
   ],
   "source": [
    "%%time\n",
    "# Finding all the relevant articles \n",
    "key_tokens = ['artificial intelligence', 'machine learning', 'analytics', 'openai', 'chatgpt', \n",
    "              'nlp', 'data', 'llm', 'Autoencoders', 'Predictive model']\n",
    "\n",
    "pattern = '|'.join(map(re.escape, key_tokens))\n",
    "\n",
    "df_news_final_project['relevant'] = df_news_final_project['cleaned'].str.contains(pattern, flags=re.IGNORECASE).astype(int)"
   ]
  },
  {
   "cell_type": "code",
   "execution_count": 26,
   "id": "486e957f",
   "metadata": {},
   "outputs": [
    {
     "data": {
      "text/plain": [
       "relevant\n",
       "1    185245\n",
       "0     15190\n",
       "Name: count, dtype: int64"
      ]
     },
     "execution_count": 26,
     "metadata": {},
     "output_type": "execute_result"
    }
   ],
   "source": [
    "df_news_final_project['relevant'].value_counts()"
   ]
  },
  {
   "cell_type": "code",
   "execution_count": 27,
   "id": "3d774be2",
   "metadata": {},
   "outputs": [],
   "source": [
    "df_relevant = df_news_final_project[df_news_final_project['relevant'] == 1]"
   ]
  },
  {
   "cell_type": "code",
   "execution_count": 28,
   "id": "2b4e0da9",
   "metadata": {},
   "outputs": [
    {
     "name": "stdout",
     "output_type": "stream",
     "text": [
      "CPU times: total: 7min 34s\n",
      "Wall time: 11min 41s\n"
     ]
    }
   ],
   "source": [
    "%%time\n",
    "# Below words exist at the bottom of most news articles and are not relevant (remnants of the web crawler)\n",
    "webcrawl_remnants = ['Advertisement', 'Sponsored', 'Copyright', 'Terms of Service', 'Privacy Policy', 'About Us', \n",
    "                     'Contact Us', 'Subscribe', 'Share', 'Recommended Reading', 'Follow Us', 'Tag Cloud', 'Archive',\n",
    "                     'Search', 'Disclaimer', 'Cookies', 'Sitemap', 'Loading', 'Error', 'All rights reserved', \n",
    "                     'Newsletter', 'Press Release', 'Banner', 'Login',  'Policy', 'Feedback', 'Join', 'T&C']\n",
    "\n",
    "pattern = '|'.join(map(re.escape, webcrawl_remnants))\n",
    "\n",
    "df_relevant['cleaned'] = df_relevant['cleaned'].str.replace(pattern, ' ', regex=True, flags=re.IGNORECASE)"
   ]
  },
  {
   "cell_type": "code",
   "execution_count": 29,
   "id": "9ea17c56",
   "metadata": {},
   "outputs": [],
   "source": [
    "df_relevant['cleaned'] = df_relevant['cleaned'].str.strip()"
   ]
  },
  {
   "cell_type": "code",
   "execution_count": 30,
   "id": "26a95a02",
   "metadata": {},
   "outputs": [
    {
     "name": "stdout",
     "output_type": "stream",
     "text": [
      "CPU times: total: 11min 26s\n",
      "Wall time: 20min 5s\n"
     ]
    }
   ],
   "source": [
    "%%time\n",
    "df_relevant['tokens'] = df_relevant['cleaned'].apply(lambda x: word_tokenize(x))"
   ]
  },
  {
   "cell_type": "code",
   "execution_count": 31,
   "id": "d4537e14",
   "metadata": {},
   "outputs": [],
   "source": [
    "#%%time\n",
    "#df_relevant['title_token'] = df_relevant['clean_title'].apply(lambda x: word_tokenize(x))"
   ]
  },
  {
   "cell_type": "code",
   "execution_count": 32,
   "id": "3eb8b865",
   "metadata": {},
   "outputs": [],
   "source": [
    "df_relevant['no_tokens'] = df_relevant['tokens'].apply(len)"
   ]
  },
  {
   "cell_type": "code",
   "execution_count": 33,
   "id": "d8b8da0a",
   "metadata": {},
   "outputs": [
    {
     "data": {
      "text/html": [
       "<div>\n",
       "<style scoped>\n",
       "    .dataframe tbody tr th:only-of-type {\n",
       "        vertical-align: middle;\n",
       "    }\n",
       "\n",
       "    .dataframe tbody tr th {\n",
       "        vertical-align: top;\n",
       "    }\n",
       "\n",
       "    .dataframe thead th {\n",
       "        text-align: right;\n",
       "    }\n",
       "</style>\n",
       "<table border=\"1\" class=\"dataframe\">\n",
       "  <thead>\n",
       "    <tr style=\"text-align: right;\">\n",
       "      <th></th>\n",
       "      <th>url</th>\n",
       "      <th>date</th>\n",
       "      <th>language</th>\n",
       "      <th>title</th>\n",
       "      <th>text</th>\n",
       "      <th>year</th>\n",
       "      <th>cleaned</th>\n",
       "      <th>clean_title</th>\n",
       "      <th>relevant</th>\n",
       "      <th>tokens</th>\n",
       "      <th>no_tokens</th>\n",
       "    </tr>\n",
       "  </thead>\n",
       "  <tbody>\n",
       "    <tr>\n",
       "      <th>0</th>\n",
       "      <td>http://galusaustralis.com/2020/02/486473/legaltech-artificial-intelligence-market-2019-technology-advancement-and-future-scope-casetext-inc-catalyst-repository-systems-ebrevia/</td>\n",
       "      <td>2020-02-26</td>\n",
       "      <td>en</td>\n",
       "      <td>LegalTech Artificial Intelligence Market 2019 Technology Advancement and Future Scope – Casetext Inc., Catalyst Repository Systems, eBREVIA – Galus Australis</td>\n",
       "      <td>LegalTech Artificial Intelligence Market 2019 Technology Advancement and Future Scope – Casetext Inc., Catalyst Repository Systems, eBREVIA – Galus Australis          \\n\\nGalus Australis\\n\\nBusine...</td>\n",
       "      <td>2020</td>\n",
       "      <td>LegalTech Artificial Intelligence Market 2019 Technology Advancement and Future Scope   Casetext Inc., Catalyst Repository Systems, eBREVIA   Galus Australis           Galus Australis BusinessGene...</td>\n",
       "      <td>LegalTech Artificial Intelligence Market 2019 Technology Advancement and Future Scope   Casetext Inc., Catalyst Repository Systems, eBREVIA   Galus Australis           Galus Australis BusinessGene...</td>\n",
       "      <td>1</td>\n",
       "      <td>[LegalTech, Artificial, Intelligence, Market, 2019, Technology, Advancement, and, Future, Scope, Casetext, Inc., ,, Catalyst, Repository, Systems, ,, eBREVIA, Galus, Australis, Galus, Australis, B...</td>\n",
       "      <td>1087</td>\n",
       "    </tr>\n",
       "    <tr>\n",
       "      <th>2</th>\n",
       "      <td>http://www.agoravox.it/Covid-19-un-messaggio-dai.html</td>\n",
       "      <td>2020-03-13</td>\n",
       "      <td>en</td>\n",
       "      <td>Covid-19: un messaggio dai ricercatori italiani ai colleghi stranieri - AgoraVox Italia</td>\n",
       "      <td>\\n\\n\\nCovid-19: un messaggio dai ricercatori italiani ai colleghi stranieri - AgoraVox Italia\\n\\nAccedi\\n\\nPartecipa ad AgoraVox!\\nIscriviti e proponi un articolo\\nHome page\\n\\n\\nAttualitÃ \\n\\n\\nA...</td>\n",
       "      <td>2020</td>\n",
       "      <td>Covid-19: un messaggio dai ricercatori italiani ai colleghi stranieri - AgoraVox Italia Accedi Partecipa ad AgoraVox! Iscriviti e proponi un articolo Home page Attualit   Ambiente Cronaca Cronaca ...</td>\n",
       "      <td>Covid-19: un messaggio dai ricercatori italiani ai colleghi stranieri - AgoraVox Italia Accedi Partecipa ad AgoraVox! Iscriviti e proponi un articolo Home page Attualit   Ambiente Cronaca Cronaca ...</td>\n",
       "      <td>1</td>\n",
       "      <td>[Covid-19, :, un, messaggio, dai, ricercatori, italiani, ai, colleghi, stranieri, -, AgoraVox, Italia, Accedi, Partecipa, ad, AgoraVox, !, Iscriviti, e, proponi, un, articolo, Home, page, Attualit...</td>\n",
       "      <td>2455</td>\n",
       "    </tr>\n",
       "    <tr>\n",
       "      <th>4</th>\n",
       "      <td>http://www.millenniumpost.in/big-stories/ai-express-aircraft-skids-off-runaway-in-kozhikode-rescue-ops-on-414926</td>\n",
       "      <td>2020-08-07</td>\n",
       "      <td>en</td>\n",
       "      <td>Two dead as AI Express flight skids off Kozhikode airport</td>\n",
       "      <td>Two dead as AI Express flight skids off Kozhikode airportTopLoginSubscribeToggle navigationFeaturesDelhiKolkataNationOpinionEditorialBusinessSportsSunday PostBeyond BygoneEpic PowerIn RetrospectGl...</td>\n",
       "      <td>2020</td>\n",
       "      <td>Two dead as AI Express flight skids off Kozhikode airportTop  Toggle navigationFeaturesDelhiKolkataNationOpinionEditorialBusinessSportsSunday PostBeyond BygoneEpic PowerIn RetrospectGlobal EyeInla...</td>\n",
       "      <td>Two dead as AI Express flight skids off Kozhikode airportTopLoginSubscribeToggle navigationFeaturesDelhiKolkataNationOpinionEditorialBusinessSportsSunday PostBeyond BygoneEpic PowerIn RetrospectGl...</td>\n",
       "      <td>1</td>\n",
       "      <td>[Two, dead, as, AI, Express, flight, skids, off, Kozhikode, airportTop, Toggle, navigationFeaturesDelhiKolkataNationOpinionEditorialBusinessSportsSunday, PostBeyond, BygoneEpic, PowerIn, Retrospec...</td>\n",
       "      <td>280</td>\n",
       "    </tr>\n",
       "    <tr>\n",
       "      <th>7</th>\n",
       "      <td>http://www.peripherals.consumerelectronicsnet.com/multicoreware-inc-becomes-cevas-trusted-partner-for-imaging-computer-vision/</td>\n",
       "      <td>2021-02-25</td>\n",
       "      <td>en</td>\n",
       "      <td>MulticoreWare Inc. Becomes CEVA’s Trusted Partner for Imaging &amp; Computer Vision – Consumer Electronics Net</td>\n",
       "      <td>\\n\\nMulticoreWare Inc. Becomes CEVA’s Trusted Partner for Imaging &amp; Computer Vision – Consumer Electronics Net\\n\\n \\nSkip to content\\n\\nConsumer Electronics Net\\n\\nPrimary Menu\\n\\nConsumer Electro...</td>\n",
       "      <td>2021</td>\n",
       "      <td>MulticoreWare Inc. Becomes CEVA s Trusted Partner for Imaging &amp; Computer Vision   Consumer Electronics Net   Skip to content Consumer Electronics Net Primary Menu Consumer Electronics Net   for:  ...</td>\n",
       "      <td>MulticoreWare Inc. Becomes CEVA s Trusted Partner for Imaging &amp; Computer Vision   Consumer Electronics Net   Skip to content Consumer Electronics Net Primary Menu Consumer Electronics Net Search f...</td>\n",
       "      <td>1</td>\n",
       "      <td>[MulticoreWare, Inc., Becomes, CEVA, s, Trusted, Partner, for, Imaging, &amp;, Computer, Vision, Consumer, Electronics, Net, Skip, to, content, Consumer, Electronics, Net, Primary, Menu, Consumer, Ele...</td>\n",
       "      <td>848</td>\n",
       "    </tr>\n",
       "    <tr>\n",
       "      <th>8</th>\n",
       "      <td>http://www.sbwire.com/press-releases/healthcare-artificial-intelligence-market-next-big-thing-major-giants-general-electric-medtronic-aicure-apixio-1363690.htm</td>\n",
       "      <td>2022-10-06</td>\n",
       "      <td>en</td>\n",
       "      <td>Healthcare Artificial Intelligence Market Analysis and Forecast for Next 5 Years</td>\n",
       "      <td>\\n\\nHealthcare Artificial Intelligence Market Analysis and Forecast for Next 5 Years\\n \\n\\n \\n\\nSBWire\\nSign Up\\nLogin\\n\\nOur Service\\nPlans &amp; Pricing\\nNewsroom\\nHelp\\nAbout\\n\\nAMA Research &amp;amp; ...</td>\n",
       "      <td>2022</td>\n",
       "      <td>Healthcare Artificial Intelligence Market Analysis and Forecast for Next 5 Years     SBWire Sign Up   Our Service Plans &amp; Pricing Newsroom Help About AMA Re  &amp;amp; Media LLP Email Alerts| RSS   He...</td>\n",
       "      <td>Healthcare Artificial Intelligence Market Analysis and Forecast for Next 5 Years     SBWire Sign Up Login Our Service Plans &amp; Pricing Newsroom Help About AMA Research &amp;amp; Media LLP Email Alerts|...</td>\n",
       "      <td>1</td>\n",
       "      <td>[Healthcare, Artificial, Intelligence, Market, Analysis, and, Forecast, for, Next, 5, Years, SBWire, Sign, Up, Our, Service, Plans, &amp;, Pricing, Newsroom, Help, About, AMA, Re, &amp;, amp, ;, Media, LL...</td>\n",
       "      <td>977</td>\n",
       "    </tr>\n",
       "  </tbody>\n",
       "</table>\n",
       "</div>"
      ],
      "text/plain": [
       "                                                                                                                                                                                url  \\\n",
       "0  http://galusaustralis.com/2020/02/486473/legaltech-artificial-intelligence-market-2019-technology-advancement-and-future-scope-casetext-inc-catalyst-repository-systems-ebrevia/   \n",
       "2                                                                                                                             http://www.agoravox.it/Covid-19-un-messaggio-dai.html   \n",
       "4                                                                  http://www.millenniumpost.in/big-stories/ai-express-aircraft-skids-off-runaway-in-kozhikode-rescue-ops-on-414926   \n",
       "7                                                    http://www.peripherals.consumerelectronicsnet.com/multicoreware-inc-becomes-cevas-trusted-partner-for-imaging-computer-vision/   \n",
       "8                   http://www.sbwire.com/press-releases/healthcare-artificial-intelligence-market-next-big-thing-major-giants-general-electric-medtronic-aicure-apixio-1363690.htm   \n",
       "\n",
       "        date language  \\\n",
       "0 2020-02-26       en   \n",
       "2 2020-03-13       en   \n",
       "4 2020-08-07       en   \n",
       "7 2021-02-25       en   \n",
       "8 2022-10-06       en   \n",
       "\n",
       "                                                                                                                                                           title  \\\n",
       "0  LegalTech Artificial Intelligence Market 2019 Technology Advancement and Future Scope – Casetext Inc., Catalyst Repository Systems, eBREVIA – Galus Australis   \n",
       "2                                                                        Covid-19: un messaggio dai ricercatori italiani ai colleghi stranieri - AgoraVox Italia   \n",
       "4                                                                                                      Two dead as AI Express flight skids off Kozhikode airport   \n",
       "7                                                     MulticoreWare Inc. Becomes CEVA’s Trusted Partner for Imaging & Computer Vision – Consumer Electronics Net   \n",
       "8                                                                               Healthcare Artificial Intelligence Market Analysis and Forecast for Next 5 Years   \n",
       "\n",
       "                                                                                                                                                                                                      text  \\\n",
       "0  LegalTech Artificial Intelligence Market 2019 Technology Advancement and Future Scope – Casetext Inc., Catalyst Repository Systems, eBREVIA – Galus Australis          \\n\\nGalus Australis\\n\\nBusine...   \n",
       "2  \\n\\n\\nCovid-19: un messaggio dai ricercatori italiani ai colleghi stranieri - AgoraVox Italia\\n\\nAccedi\\n\\nPartecipa ad AgoraVox!\\nIscriviti e proponi un articolo\\nHome page\\n\\n\\nAttualitÃ \\n\\n\\nA...   \n",
       "4  Two dead as AI Express flight skids off Kozhikode airportTopLoginSubscribeToggle navigationFeaturesDelhiKolkataNationOpinionEditorialBusinessSportsSunday PostBeyond BygoneEpic PowerIn RetrospectGl...   \n",
       "7  \\n\\nMulticoreWare Inc. Becomes CEVA’s Trusted Partner for Imaging & Computer Vision – Consumer Electronics Net\\n\\n \\nSkip to content\\n\\nConsumer Electronics Net\\n\\nPrimary Menu\\n\\nConsumer Electro...   \n",
       "8  \\n\\nHealthcare Artificial Intelligence Market Analysis and Forecast for Next 5 Years\\n \\n\\n \\n\\nSBWire\\nSign Up\\nLogin\\n\\nOur Service\\nPlans & Pricing\\nNewsroom\\nHelp\\nAbout\\n\\nAMA Research &amp; ...   \n",
       "\n",
       "   year  \\\n",
       "0  2020   \n",
       "2  2020   \n",
       "4  2020   \n",
       "7  2021   \n",
       "8  2022   \n",
       "\n",
       "                                                                                                                                                                                                   cleaned  \\\n",
       "0  LegalTech Artificial Intelligence Market 2019 Technology Advancement and Future Scope   Casetext Inc., Catalyst Repository Systems, eBREVIA   Galus Australis           Galus Australis BusinessGene...   \n",
       "2  Covid-19: un messaggio dai ricercatori italiani ai colleghi stranieri - AgoraVox Italia Accedi Partecipa ad AgoraVox! Iscriviti e proponi un articolo Home page Attualit   Ambiente Cronaca Cronaca ...   \n",
       "4  Two dead as AI Express flight skids off Kozhikode airportTop  Toggle navigationFeaturesDelhiKolkataNationOpinionEditorialBusinessSportsSunday PostBeyond BygoneEpic PowerIn RetrospectGlobal EyeInla...   \n",
       "7  MulticoreWare Inc. Becomes CEVA s Trusted Partner for Imaging & Computer Vision   Consumer Electronics Net   Skip to content Consumer Electronics Net Primary Menu Consumer Electronics Net   for:  ...   \n",
       "8  Healthcare Artificial Intelligence Market Analysis and Forecast for Next 5 Years     SBWire Sign Up   Our Service Plans & Pricing Newsroom Help About AMA Re  &amp; Media LLP Email Alerts| RSS   He...   \n",
       "\n",
       "                                                                                                                                                                                               clean_title  \\\n",
       "0  LegalTech Artificial Intelligence Market 2019 Technology Advancement and Future Scope   Casetext Inc., Catalyst Repository Systems, eBREVIA   Galus Australis           Galus Australis BusinessGene...   \n",
       "2  Covid-19: un messaggio dai ricercatori italiani ai colleghi stranieri - AgoraVox Italia Accedi Partecipa ad AgoraVox! Iscriviti e proponi un articolo Home page Attualit   Ambiente Cronaca Cronaca ...   \n",
       "4  Two dead as AI Express flight skids off Kozhikode airportTopLoginSubscribeToggle navigationFeaturesDelhiKolkataNationOpinionEditorialBusinessSportsSunday PostBeyond BygoneEpic PowerIn RetrospectGl...   \n",
       "7  MulticoreWare Inc. Becomes CEVA s Trusted Partner for Imaging & Computer Vision   Consumer Electronics Net   Skip to content Consumer Electronics Net Primary Menu Consumer Electronics Net Search f...   \n",
       "8  Healthcare Artificial Intelligence Market Analysis and Forecast for Next 5 Years     SBWire Sign Up Login Our Service Plans & Pricing Newsroom Help About AMA Research &amp; Media LLP Email Alerts|...   \n",
       "\n",
       "   relevant  \\\n",
       "0         1   \n",
       "2         1   \n",
       "4         1   \n",
       "7         1   \n",
       "8         1   \n",
       "\n",
       "                                                                                                                                                                                                    tokens  \\\n",
       "0  [LegalTech, Artificial, Intelligence, Market, 2019, Technology, Advancement, and, Future, Scope, Casetext, Inc., ,, Catalyst, Repository, Systems, ,, eBREVIA, Galus, Australis, Galus, Australis, B...   \n",
       "2  [Covid-19, :, un, messaggio, dai, ricercatori, italiani, ai, colleghi, stranieri, -, AgoraVox, Italia, Accedi, Partecipa, ad, AgoraVox, !, Iscriviti, e, proponi, un, articolo, Home, page, Attualit...   \n",
       "4  [Two, dead, as, AI, Express, flight, skids, off, Kozhikode, airportTop, Toggle, navigationFeaturesDelhiKolkataNationOpinionEditorialBusinessSportsSunday, PostBeyond, BygoneEpic, PowerIn, Retrospec...   \n",
       "7  [MulticoreWare, Inc., Becomes, CEVA, s, Trusted, Partner, for, Imaging, &, Computer, Vision, Consumer, Electronics, Net, Skip, to, content, Consumer, Electronics, Net, Primary, Menu, Consumer, Ele...   \n",
       "8  [Healthcare, Artificial, Intelligence, Market, Analysis, and, Forecast, for, Next, 5, Years, SBWire, Sign, Up, Our, Service, Plans, &, Pricing, Newsroom, Help, About, AMA, Re, &, amp, ;, Media, LL...   \n",
       "\n",
       "   no_tokens  \n",
       "0       1087  \n",
       "2       2455  \n",
       "4        280  \n",
       "7        848  \n",
       "8        977  "
      ]
     },
     "execution_count": 33,
     "metadata": {},
     "output_type": "execute_result"
    }
   ],
   "source": [
    "df_relevant.head(5)"
   ]
  },
  {
   "cell_type": "markdown",
   "id": "5e44f97d",
   "metadata": {},
   "source": [
    "### Saving the Cleaned Data\n"
   ]
  },
  {
   "cell_type": "code",
   "execution_count": 34,
   "id": "90adf30f",
   "metadata": {},
   "outputs": [],
   "source": [
    "df_relevant.to_parquet('CleanedDataset.parquet')"
   ]
  }
 ],
 "metadata": {
  "kernelspec": {
   "display_name": "Python 3 (ipykernel)",
   "language": "python",
   "name": "python3"
  },
  "language_info": {
   "codemirror_mode": {
    "name": "ipython",
    "version": 3
   },
   "file_extension": ".py",
   "mimetype": "text/x-python",
   "name": "python",
   "nbconvert_exporter": "python",
   "pygments_lexer": "ipython3",
   "version": "3.11.4"
  }
 },
 "nbformat": 4,
 "nbformat_minor": 5
}
