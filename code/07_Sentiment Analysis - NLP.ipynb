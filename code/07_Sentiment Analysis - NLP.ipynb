{
 "cells": [
  {
   "cell_type": "code",
   "execution_count": 1,
   "id": "e42aaf2c-cb86-4dfd-8cad-0711065aac01",
   "metadata": {},
   "outputs": [],
   "source": [
    "import pandas as pd"
   ]
  },
  {
   "cell_type": "code",
   "execution_count": 2,
   "id": "2d228666-34ff-4bc3-b859-76a0e8fee9c6",
   "metadata": {},
   "outputs": [],
   "source": [
    "import nltk\n",
    "import numpy as np\n",
    "import re\n",
    "import string\n",
    "\n",
    "import seaborn as sns\n",
    "import matplotlib.pyplot as plt\n",
    "from nltk.chunk import ne_chunk\n",
    "from nltk.corpus import stopwords\n",
    "from nltk.stem import WordNetLemmatizer\n",
    "from nltk.tokenize import word_tokenize\n",
    "from collections import Counter\n",
    "import warnings\n",
    "warnings.filterwarnings(\"ignore\")"
   ]
  },
  {
   "cell_type": "code",
   "execution_count": 46,
   "id": "16ccd941-8573-472d-aae2-cf980e04fe9f",
   "metadata": {},
   "outputs": [
    {
     "name": "stdout",
     "output_type": "stream",
     "text": [
      "Collecting en-core-web-sm==3.6.0\n",
      "  Downloading https://github.com/explosion/spacy-models/releases/download/en_core_web_sm-3.6.0/en_core_web_sm-3.6.0-py3-none-any.whl (12.8 MB)\n",
      "\u001b[2K     \u001b[90m━━━━━━━━━━━━━━━━━━━━━━━━━━━━━━━━━━━━━━━━\u001b[0m \u001b[32m12.8/12.8 MB\u001b[0m \u001b[31m75.8 MB/s\u001b[0m eta \u001b[36m0:00:00\u001b[0m00:01\u001b[0m0:01\u001b[0m\n",
      "\u001b[?25hRequirement already satisfied: spacy<3.7.0,>=3.6.0 in /opt/conda/lib/python3.10/site-packages (from en-core-web-sm==3.6.0) (3.6.0)\n",
      "Requirement already satisfied: spacy-legacy<3.1.0,>=3.0.11 in /opt/conda/lib/python3.10/site-packages (from spacy<3.7.0,>=3.6.0->en-core-web-sm==3.6.0) (3.0.12)\n",
      "Requirement already satisfied: spacy-loggers<2.0.0,>=1.0.0 in /opt/conda/lib/python3.10/site-packages (from spacy<3.7.0,>=3.6.0->en-core-web-sm==3.6.0) (1.0.4)\n",
      "Requirement already satisfied: murmurhash<1.1.0,>=0.28.0 in /opt/conda/lib/python3.10/site-packages (from spacy<3.7.0,>=3.6.0->en-core-web-sm==3.6.0) (1.0.9)\n",
      "Requirement already satisfied: cymem<2.1.0,>=2.0.2 in /opt/conda/lib/python3.10/site-packages (from spacy<3.7.0,>=3.6.0->en-core-web-sm==3.6.0) (2.0.7)\n",
      "Requirement already satisfied: preshed<3.1.0,>=3.0.2 in /opt/conda/lib/python3.10/site-packages (from spacy<3.7.0,>=3.6.0->en-core-web-sm==3.6.0) (3.0.8)\n",
      "Requirement already satisfied: thinc<8.2.0,>=8.1.8 in /opt/conda/lib/python3.10/site-packages (from spacy<3.7.0,>=3.6.0->en-core-web-sm==3.6.0) (8.1.12)\n",
      "Requirement already satisfied: wasabi<1.2.0,>=0.9.1 in /opt/conda/lib/python3.10/site-packages (from spacy<3.7.0,>=3.6.0->en-core-web-sm==3.6.0) (1.1.2)\n",
      "Requirement already satisfied: srsly<3.0.0,>=2.4.3 in /opt/conda/lib/python3.10/site-packages (from spacy<3.7.0,>=3.6.0->en-core-web-sm==3.6.0) (2.4.7)\n",
      "Requirement already satisfied: catalogue<2.1.0,>=2.0.6 in /opt/conda/lib/python3.10/site-packages (from spacy<3.7.0,>=3.6.0->en-core-web-sm==3.6.0) (2.0.9)\n",
      "Requirement already satisfied: typer<0.10.0,>=0.3.0 in /opt/conda/lib/python3.10/site-packages (from spacy<3.7.0,>=3.6.0->en-core-web-sm==3.6.0) (0.9.0)\n",
      "Requirement already satisfied: pathy>=0.10.0 in /opt/conda/lib/python3.10/site-packages (from spacy<3.7.0,>=3.6.0->en-core-web-sm==3.6.0) (0.10.2)\n",
      "Requirement already satisfied: smart-open<7.0.0,>=5.2.1 in /opt/conda/lib/python3.10/site-packages (from spacy<3.7.0,>=3.6.0->en-core-web-sm==3.6.0) (6.3.0)\n",
      "Requirement already satisfied: tqdm<5.0.0,>=4.38.0 in /opt/conda/lib/python3.10/site-packages (from spacy<3.7.0,>=3.6.0->en-core-web-sm==3.6.0) (4.65.0)\n",
      "Requirement already satisfied: numpy>=1.15.0 in /opt/conda/lib/python3.10/site-packages (from spacy<3.7.0,>=3.6.0->en-core-web-sm==3.6.0) (1.24.3)\n",
      "Requirement already satisfied: requests<3.0.0,>=2.13.0 in /opt/conda/lib/python3.10/site-packages (from spacy<3.7.0,>=3.6.0->en-core-web-sm==3.6.0) (2.31.0)\n",
      "Requirement already satisfied: pydantic!=1.8,!=1.8.1,<1.11.0,>=1.7.4 in /opt/conda/lib/python3.10/site-packages (from spacy<3.7.0,>=3.6.0->en-core-web-sm==3.6.0) (1.10.12)\n",
      "Requirement already satisfied: jinja2 in /opt/conda/lib/python3.10/site-packages (from spacy<3.7.0,>=3.6.0->en-core-web-sm==3.6.0) (3.1.2)\n",
      "Requirement already satisfied: setuptools in /opt/conda/lib/python3.10/site-packages (from spacy<3.7.0,>=3.6.0->en-core-web-sm==3.6.0) (68.0.0)\n",
      "Requirement already satisfied: packaging>=20.0 in /opt/conda/lib/python3.10/site-packages (from spacy<3.7.0,>=3.6.0->en-core-web-sm==3.6.0) (23.1)\n",
      "Requirement already satisfied: langcodes<4.0.0,>=3.2.0 in /opt/conda/lib/python3.10/site-packages (from spacy<3.7.0,>=3.6.0->en-core-web-sm==3.6.0) (3.3.0)\n",
      "Requirement already satisfied: typing-extensions>=4.2.0 in /opt/conda/lib/python3.10/site-packages (from pydantic!=1.8,!=1.8.1,<1.11.0,>=1.7.4->spacy<3.7.0,>=3.6.0->en-core-web-sm==3.6.0) (4.5.0)\n",
      "Requirement already satisfied: charset-normalizer<4,>=2 in /opt/conda/lib/python3.10/site-packages (from requests<3.0.0,>=2.13.0->spacy<3.7.0,>=3.6.0->en-core-web-sm==3.6.0) (3.2.0)\n",
      "Requirement already satisfied: idna<4,>=2.5 in /opt/conda/lib/python3.10/site-packages (from requests<3.0.0,>=2.13.0->spacy<3.7.0,>=3.6.0->en-core-web-sm==3.6.0) (3.4)\n",
      "Requirement already satisfied: urllib3<3,>=1.21.1 in /opt/conda/lib/python3.10/site-packages (from requests<3.0.0,>=2.13.0->spacy<3.7.0,>=3.6.0->en-core-web-sm==3.6.0) (1.26.16)\n",
      "Requirement already satisfied: certifi>=2017.4.17 in /opt/conda/lib/python3.10/site-packages (from requests<3.0.0,>=2.13.0->spacy<3.7.0,>=3.6.0->en-core-web-sm==3.6.0) (2023.7.22)\n",
      "Requirement already satisfied: blis<0.8.0,>=0.7.8 in /opt/conda/lib/python3.10/site-packages (from thinc<8.2.0,>=8.1.8->spacy<3.7.0,>=3.6.0->en-core-web-sm==3.6.0) (0.7.10)\n",
      "Requirement already satisfied: confection<1.0.0,>=0.0.1 in /opt/conda/lib/python3.10/site-packages (from thinc<8.2.0,>=8.1.8->spacy<3.7.0,>=3.6.0->en-core-web-sm==3.6.0) (0.1.1)\n",
      "Requirement already satisfied: click<9.0.0,>=7.1.1 in /opt/conda/lib/python3.10/site-packages (from typer<0.10.0,>=0.3.0->spacy<3.7.0,>=3.6.0->en-core-web-sm==3.6.0) (8.1.6)\n",
      "Requirement already satisfied: MarkupSafe>=2.0 in /opt/conda/lib/python3.10/site-packages (from jinja2->spacy<3.7.0,>=3.6.0->en-core-web-sm==3.6.0) (2.1.3)\n",
      "Installing collected packages: en-core-web-sm\n",
      "Successfully installed en-core-web-sm-3.6.0\n",
      "\u001b[33mWARNING: Running pip as the 'root' user can result in broken permissions and conflicting behaviour with the system package manager. It is recommended to use a virtual environment instead: https://pip.pypa.io/warnings/venv\u001b[0m\u001b[33m\n",
      "\u001b[0m\u001b[38;5;2m✔ Download and installation successful\u001b[0m\n",
      "You can now load the package via spacy.load('en_core_web_sm')\n"
     ]
    }
   ],
   "source": [
    "import spacy\n",
    "!python -m spacy download en_core_web_sm"
   ]
  },
  {
   "cell_type": "code",
   "execution_count": 3,
   "id": "089da37f-35f9-4db5-bcc9-c745bfd784a8",
   "metadata": {},
   "outputs": [],
   "source": [
    "import multiprocessing\n",
    "from pandarallel import pandarallel\n",
    "import spacy\n",
    "from nltk.sentiment.vader import SentimentIntensityAnalyzer"
   ]
  },
  {
   "cell_type": "code",
   "execution_count": 4,
   "id": "88124404-bc56-4d39-8c9f-c693ff776e5a",
   "metadata": {},
   "outputs": [
    {
     "name": "stdout",
     "output_type": "stream",
     "text": [
      "Requirement already satisfied: vaderSentiment in /opt/conda/lib/python3.10/site-packages (3.3.2)\n",
      "Requirement already satisfied: requests in /opt/conda/lib/python3.10/site-packages (from vaderSentiment) (2.31.0)\n",
      "Requirement already satisfied: charset-normalizer<4,>=2 in /opt/conda/lib/python3.10/site-packages (from requests->vaderSentiment) (3.2.0)\n",
      "Requirement already satisfied: idna<4,>=2.5 in /opt/conda/lib/python3.10/site-packages (from requests->vaderSentiment) (3.4)\n",
      "Requirement already satisfied: urllib3<3,>=1.21.1 in /opt/conda/lib/python3.10/site-packages (from requests->vaderSentiment) (1.26.16)\n",
      "Requirement already satisfied: certifi>=2017.4.17 in /opt/conda/lib/python3.10/site-packages (from requests->vaderSentiment) (2023.7.22)\n",
      "\u001b[33mWARNING: Running pip as the 'root' user can result in broken permissions and conflicting behaviour with the system package manager. It is recommended to use a virtual environment instead: https://pip.pypa.io/warnings/venv\u001b[0m\u001b[33m\n",
      "\u001b[0m"
     ]
    }
   ],
   "source": [
    "!pip install vaderSentiment"
   ]
  },
  {
   "cell_type": "code",
   "execution_count": 5,
   "id": "f73ef5e6-dd57-46e5-9274-7f4ee15daf49",
   "metadata": {},
   "outputs": [
    {
     "name": "stdout",
     "output_type": "stream",
     "text": [
      "Bucket nlp_finalproject connected.\n"
     ]
    }
   ],
   "source": [
    "from google.cloud import storage\n",
    "storage_client = storage.Client()\n",
    "\n",
    "bucket_name = \"nlp_finalproject\"\n",
    "\n",
    "bucket = storage_client.bucket(bucket_name)\n",
    "print(f\"Bucket {bucket.name} connected.\")"
   ]
  },
  {
   "cell_type": "code",
   "execution_count": 26,
   "id": "e3263f1c-4b6f-4944-8922-0d8a8e4331ce",
   "metadata": {},
   "outputs": [
    {
     "data": {
      "text/html": [
       "<div>\n",
       "<style scoped>\n",
       "    .dataframe tbody tr th:only-of-type {\n",
       "        vertical-align: middle;\n",
       "    }\n",
       "\n",
       "    .dataframe tbody tr th {\n",
       "        vertical-align: top;\n",
       "    }\n",
       "\n",
       "    .dataframe thead th {\n",
       "        text-align: right;\n",
       "    }\n",
       "</style>\n",
       "<table border=\"1\" class=\"dataframe\">\n",
       "  <thead>\n",
       "    <tr style=\"text-align: right;\">\n",
       "      <th></th>\n",
       "      <th>date</th>\n",
       "      <th>title</th>\n",
       "      <th>text</th>\n",
       "      <th>year</th>\n",
       "      <th>cleaned</th>\n",
       "      <th>clean_title</th>\n",
       "      <th>ORG_Ent</th>\n",
       "      <th>Person_Ent</th>\n",
       "    </tr>\n",
       "  </thead>\n",
       "  <tbody>\n",
       "    <tr>\n",
       "      <th>0</th>\n",
       "      <td>2020-02-26</td>\n",
       "      <td>LegalTech Artificial Intelligence Market 2019 ...</td>\n",
       "      <td>LegalTech Artificial Intelligence Market 2019 ...</td>\n",
       "      <td>2020</td>\n",
       "      <td>LegalTech Artificial Intelligence Market 2019 ...</td>\n",
       "      <td>LegalTech Artificial Intelligence Market 2019 ...</td>\n",
       "      <td>[LegalTech Artificial Intelligence Market  Tec...</td>\n",
       "      <td>[]</td>\n",
       "    </tr>\n",
       "    <tr>\n",
       "      <th>4</th>\n",
       "      <td>2020-08-07</td>\n",
       "      <td>Two dead as AI Express flight skids off Kozhik...</td>\n",
       "      <td>Two dead as AI Express flight skids off Kozhik...</td>\n",
       "      <td>2020</td>\n",
       "      <td>Two dead as AI Express flight skids off Kozhik...</td>\n",
       "      <td>Two dead as AI Express flight skids off Kozhik...</td>\n",
       "      <td>[AI Express, PostBeyond BygoneEpic PowerIn Ret...</td>\n",
       "      <td>[]</td>\n",
       "    </tr>\n",
       "    <tr>\n",
       "      <th>7</th>\n",
       "      <td>2021-02-25</td>\n",
       "      <td>MulticoreWare Inc. Becomes CEVA’s Trusted Part...</td>\n",
       "      <td>\\n\\nMulticoreWare Inc. Becomes CEVA’s Trusted ...</td>\n",
       "      <td>2021</td>\n",
       "      <td>MulticoreWare Inc. Becomes CEVA s Trusted Part...</td>\n",
       "      <td>MulticoreWare Inc. Becomes CEVA s Trusted Part...</td>\n",
       "      <td>[MulticoreWare Inc., Trusted Partner for Imagi...</td>\n",
       "      <td>[]</td>\n",
       "    </tr>\n",
       "    <tr>\n",
       "      <th>8</th>\n",
       "      <td>2022-10-06</td>\n",
       "      <td>Healthcare Artificial Intelligence Market Anal...</td>\n",
       "      <td>\\n\\nHealthcare Artificial Intelligence Market ...</td>\n",
       "      <td>2022</td>\n",
       "      <td>Healthcare Artificial Intelligence Market Anal...</td>\n",
       "      <td>Healthcare Artificial Intelligence Market Anal...</td>\n",
       "      <td>[Healthcare Artificial Intelligence Market Ana...</td>\n",
       "      <td>[]</td>\n",
       "    </tr>\n",
       "    <tr>\n",
       "      <th>9</th>\n",
       "      <td>2020-04-29</td>\n",
       "      <td>Artificial Intelligence As A Service Market : ...</td>\n",
       "      <td>\\n\\nArtificial Intelligence As A Service Marke...</td>\n",
       "      <td>2020</td>\n",
       "      <td>Artificial Intelligence As A Service Market : ...</td>\n",
       "      <td>Artificial Intelligence As A Service Market : ...</td>\n",
       "      <td>[Artificial Intelligence As A Service Market, ...</td>\n",
       "      <td>[]</td>\n",
       "    </tr>\n",
       "  </tbody>\n",
       "</table>\n",
       "</div>"
      ],
      "text/plain": [
       "        date                                              title  \\\n",
       "0 2020-02-26  LegalTech Artificial Intelligence Market 2019 ...   \n",
       "4 2020-08-07  Two dead as AI Express flight skids off Kozhik...   \n",
       "7 2021-02-25  MulticoreWare Inc. Becomes CEVA’s Trusted Part...   \n",
       "8 2022-10-06  Healthcare Artificial Intelligence Market Anal...   \n",
       "9 2020-04-29  Artificial Intelligence As A Service Market : ...   \n",
       "\n",
       "                                                text  year  \\\n",
       "0  LegalTech Artificial Intelligence Market 2019 ...  2020   \n",
       "4  Two dead as AI Express flight skids off Kozhik...  2020   \n",
       "7  \\n\\nMulticoreWare Inc. Becomes CEVA’s Trusted ...  2021   \n",
       "8  \\n\\nHealthcare Artificial Intelligence Market ...  2022   \n",
       "9  \\n\\nArtificial Intelligence As A Service Marke...  2020   \n",
       "\n",
       "                                             cleaned  \\\n",
       "0  LegalTech Artificial Intelligence Market 2019 ...   \n",
       "4  Two dead as AI Express flight skids off Kozhik...   \n",
       "7  MulticoreWare Inc. Becomes CEVA s Trusted Part...   \n",
       "8  Healthcare Artificial Intelligence Market Anal...   \n",
       "9  Artificial Intelligence As A Service Market : ...   \n",
       "\n",
       "                                         clean_title  \\\n",
       "0  LegalTech Artificial Intelligence Market 2019 ...   \n",
       "4  Two dead as AI Express flight skids off Kozhik...   \n",
       "7  MulticoreWare Inc. Becomes CEVA s Trusted Part...   \n",
       "8  Healthcare Artificial Intelligence Market Anal...   \n",
       "9  Artificial Intelligence As A Service Market : ...   \n",
       "\n",
       "                                             ORG_Ent Person_Ent  \n",
       "0  [LegalTech Artificial Intelligence Market  Tec...         []  \n",
       "4  [AI Express, PostBeyond BygoneEpic PowerIn Ret...         []  \n",
       "7  [MulticoreWare Inc., Trusted Partner for Imagi...         []  \n",
       "8  [Healthcare Artificial Intelligence Market Ana...         []  \n",
       "9  [Artificial Intelligence As A Service Market, ...         []  "
      ]
     },
     "execution_count": 26,
     "metadata": {},
     "output_type": "execute_result"
    }
   ],
   "source": [
    "df_final_sent = pd.read_parquet(\"gs://nlp_finalproject/NER_Clean.parquet\", engine='pyarrow')\n",
    "df_final_sent.head(5)"
   ]
  },
  {
   "cell_type": "code",
   "execution_count": 7,
   "id": "6c44ccdd-ad8c-476a-9789-87bc6ddf799b",
   "metadata": {},
   "outputs": [
    {
     "name": "stderr",
     "output_type": "stream",
     "text": [
      "[nltk_data] Downloading package punkt to /root/nltk_data...\n",
      "[nltk_data]   Package punkt is already up-to-date!\n",
      "[nltk_data] Downloading package stopwords to /root/nltk_data...\n",
      "[nltk_data]   Package stopwords is already up-to-date!\n",
      "[nltk_data] Downloading package vader_lexicon to /root/nltk_data...\n",
      "[nltk_data]   Package vader_lexicon is already up-to-date!\n"
     ]
    },
    {
     "data": {
      "text/plain": [
       "True"
      ]
     },
     "execution_count": 7,
     "metadata": {},
     "output_type": "execute_result"
    }
   ],
   "source": [
    "nltk.download('punkt')\n",
    "nltk.download('stopwords')\n",
    "nltk.download('vader_lexicon')"
   ]
  },
  {
   "cell_type": "code",
   "execution_count": 8,
   "id": "04dad55d-a12b-4acf-88fa-bbaa361eb54e",
   "metadata": {},
   "outputs": [
    {
     "name": "stdout",
     "output_type": "stream",
     "text": [
      "INFO: Pandarallel will run on 15 workers.\n",
      "INFO: Pandarallel will use standard multiprocessing data transfer (pipe) to transfer data between the main process and workers.\n"
     ]
    }
   ],
   "source": [
    "num_processors = multiprocessing.cpu_count()\n",
    "pandarallel.initialize(nb_workers=num_processors-1, use_memory_fs=False, progress_bar = True)"
   ]
  },
  {
   "cell_type": "code",
   "execution_count": 31,
   "id": "0480ea18-8919-42d1-9374-67118ce877e8",
   "metadata": {},
   "outputs": [],
   "source": [
    "from vaderSentiment.vaderSentiment import SentimentIntensityAnalyzer\n",
    "sid = SentimentIntensityAnalyzer()"
   ]
  },
  {
   "cell_type": "code",
   "execution_count": 30,
   "id": "1d1961ac-f790-475d-9cfc-40ab0df08b81",
   "metadata": {},
   "outputs": [
    {
     "data": {
      "application/vnd.jupyter.widget-view+json": {
       "model_id": "3316cdc21d2c4c7faf2753c43c2b6fa6",
       "version_major": 2,
       "version_minor": 0
      },
      "text/plain": [
       "VBox(children=(HBox(children=(IntProgress(value=0, description='0.00%', max=10889), Label(value='0 / 10889')))…"
      ]
     },
     "metadata": {},
     "output_type": "display_data"
    }
   ],
   "source": [
    "def analyze_sentiment(text):\n",
    "    sentiment_scores = sid.polarity_scores(text)\n",
    "    return sentiment_scores['compound']\n",
    "\n",
    "df_final_sent['sentiment_score'] = df_final_sent['cleaned'].parallel_apply(analyze_sentiment)"
   ]
  },
  {
   "cell_type": "code",
   "execution_count": 65,
   "id": "e07acea8-3173-49c2-9320-59aeba6a1a7d",
   "metadata": {},
   "outputs": [],
   "source": [
    "df_final_sent['sentiment'] = df_final_sent['sentiment_score'].apply(lambda score: 'Positive' if score > 0.95 else ('Negative' if score < -0.90 else 'Neutral'))"
   ]
  },
  {
   "cell_type": "code",
   "execution_count": 66,
   "id": "bebb7752-6cdf-408f-8b2e-3137930cbee0",
   "metadata": {},
   "outputs": [
    {
     "data": {
      "text/plain": [
       "sentiment\n",
       "Positive    145447\n",
       "Neutral      11433\n",
       "Negative      6441\n",
       "Name: count, dtype: int64"
      ]
     },
     "execution_count": 66,
     "metadata": {},
     "output_type": "execute_result"
    }
   ],
   "source": [
    "df_final_sent['sentiment'].value_counts()"
   ]
  },
  {
   "cell_type": "code",
   "execution_count": 55,
   "id": "07bd7e33-8294-42d2-badd-171a7a9669de",
   "metadata": {},
   "outputs": [
    {
     "data": {
      "text/html": [
       "<div>\n",
       "<style scoped>\n",
       "    .dataframe tbody tr th:only-of-type {\n",
       "        vertical-align: middle;\n",
       "    }\n",
       "\n",
       "    .dataframe tbody tr th {\n",
       "        vertical-align: top;\n",
       "    }\n",
       "\n",
       "    .dataframe thead th {\n",
       "        text-align: right;\n",
       "    }\n",
       "</style>\n",
       "<table border=\"1\" class=\"dataframe\">\n",
       "  <thead>\n",
       "    <tr style=\"text-align: right;\">\n",
       "      <th></th>\n",
       "      <th>title</th>\n",
       "      <th>cleaned</th>\n",
       "      <th>sentiment</th>\n",
       "      <th>sentiment_score</th>\n",
       "    </tr>\n",
       "  </thead>\n",
       "  <tbody>\n",
       "    <tr>\n",
       "      <th>0</th>\n",
       "      <td>LegalTech Artificial Intelligence Market 2019 ...</td>\n",
       "      <td>LegalTech Artificial Intelligence Market 2019 ...</td>\n",
       "      <td>Positive</td>\n",
       "      <td>0.9991</td>\n",
       "    </tr>\n",
       "    <tr>\n",
       "      <th>4</th>\n",
       "      <td>Two dead as AI Express flight skids off Kozhik...</td>\n",
       "      <td>Two dead as AI Express flight skids off Kozhik...</td>\n",
       "      <td>Negative</td>\n",
       "      <td>-0.9728</td>\n",
       "    </tr>\n",
       "    <tr>\n",
       "      <th>7</th>\n",
       "      <td>MulticoreWare Inc. Becomes CEVA’s Trusted Part...</td>\n",
       "      <td>MulticoreWare Inc. Becomes CEVA s Trusted Part...</td>\n",
       "      <td>Positive</td>\n",
       "      <td>0.9981</td>\n",
       "    </tr>\n",
       "    <tr>\n",
       "      <th>8</th>\n",
       "      <td>Healthcare Artificial Intelligence Market Anal...</td>\n",
       "      <td>Healthcare Artificial Intelligence Market Anal...</td>\n",
       "      <td>Positive</td>\n",
       "      <td>0.9993</td>\n",
       "    </tr>\n",
       "    <tr>\n",
       "      <th>9</th>\n",
       "      <td>Artificial Intelligence As A Service Market : ...</td>\n",
       "      <td>Artificial Intelligence As A Service Market : ...</td>\n",
       "      <td>Positive</td>\n",
       "      <td>0.9996</td>\n",
       "    </tr>\n",
       "    <tr>\n",
       "      <th>...</th>\n",
       "      <td>...</td>\n",
       "      <td>...</td>\n",
       "      <td>...</td>\n",
       "      <td>...</td>\n",
       "    </tr>\n",
       "    <tr>\n",
       "      <th>200429</th>\n",
       "      <td>Generative AI filled us with wonder in 2023 - ...</td>\n",
       "      <td>Generative AI filled us with wonder in 2023 - ...</td>\n",
       "      <td>Positive</td>\n",
       "      <td>1.0000</td>\n",
       "    </tr>\n",
       "    <tr>\n",
       "      <th>200430</th>\n",
       "      <td>Google Cloud expands developer tools and data ...</td>\n",
       "      <td>Google Cloud expands developer tools and data ...</td>\n",
       "      <td>Positive</td>\n",
       "      <td>0.9999</td>\n",
       "    </tr>\n",
       "    <tr>\n",
       "      <th>200431</th>\n",
       "      <td>Twitter working on AI despite Musk call for gl...</td>\n",
       "      <td>Twitter working on AI despite Musk call for gl...</td>\n",
       "      <td>Positive</td>\n",
       "      <td>0.9980</td>\n",
       "    </tr>\n",
       "    <tr>\n",
       "      <th>200433</th>\n",
       "      <td>OpenAI Restores Access To ChatGPT In Italy Aft...</td>\n",
       "      <td>OpenAI Restores Access To ChatGPT In Italy Aft...</td>\n",
       "      <td>Positive</td>\n",
       "      <td>0.8867</td>\n",
       "    </tr>\n",
       "    <tr>\n",
       "      <th>200434</th>\n",
       "      <td>Young Kolkata Girl Loses 90% Of Her Income As ...</td>\n",
       "      <td>Young Kolkata Girl Loses 90% Of Her Income As ...</td>\n",
       "      <td>Positive</td>\n",
       "      <td>0.9840</td>\n",
       "    </tr>\n",
       "  </tbody>\n",
       "</table>\n",
       "<p>163321 rows × 4 columns</p>\n",
       "</div>"
      ],
      "text/plain": [
       "                                                    title  \\\n",
       "0       LegalTech Artificial Intelligence Market 2019 ...   \n",
       "4       Two dead as AI Express flight skids off Kozhik...   \n",
       "7       MulticoreWare Inc. Becomes CEVA’s Trusted Part...   \n",
       "8       Healthcare Artificial Intelligence Market Anal...   \n",
       "9       Artificial Intelligence As A Service Market : ...   \n",
       "...                                                   ...   \n",
       "200429  Generative AI filled us with wonder in 2023 - ...   \n",
       "200430  Google Cloud expands developer tools and data ...   \n",
       "200431  Twitter working on AI despite Musk call for gl...   \n",
       "200433  OpenAI Restores Access To ChatGPT In Italy Aft...   \n",
       "200434  Young Kolkata Girl Loses 90% Of Her Income As ...   \n",
       "\n",
       "                                                  cleaned sentiment  \\\n",
       "0       LegalTech Artificial Intelligence Market 2019 ...  Positive   \n",
       "4       Two dead as AI Express flight skids off Kozhik...  Negative   \n",
       "7       MulticoreWare Inc. Becomes CEVA s Trusted Part...  Positive   \n",
       "8       Healthcare Artificial Intelligence Market Anal...  Positive   \n",
       "9       Artificial Intelligence As A Service Market : ...  Positive   \n",
       "...                                                   ...       ...   \n",
       "200429  Generative AI filled us with wonder in 2023 - ...  Positive   \n",
       "200430  Google Cloud expands developer tools and data ...  Positive   \n",
       "200431  Twitter working on AI despite Musk call for gl...  Positive   \n",
       "200433  OpenAI Restores Access To ChatGPT In Italy Aft...  Positive   \n",
       "200434  Young Kolkata Girl Loses 90% Of Her Income As ...  Positive   \n",
       "\n",
       "        sentiment_score  \n",
       "0                0.9991  \n",
       "4               -0.9728  \n",
       "7                0.9981  \n",
       "8                0.9993  \n",
       "9                0.9996  \n",
       "...                 ...  \n",
       "200429           1.0000  \n",
       "200430           0.9999  \n",
       "200431           0.9980  \n",
       "200433           0.8867  \n",
       "200434           0.9840  \n",
       "\n",
       "[163321 rows x 4 columns]"
      ]
     },
     "execution_count": 55,
     "metadata": {},
     "output_type": "execute_result"
    }
   ],
   "source": [
    "# Displaying the data with sentiment labels\n",
    "df_final_sent[['title','cleaned', 'sentiment','sentiment_score']]"
   ]
  },
  {
   "cell_type": "code",
   "execution_count": 45,
   "id": "63286cc0-3b1b-4639-b0eb-732b28f03715",
   "metadata": {},
   "outputs": [],
   "source": [
    "df_final_sent = df_final_sent.drop(['Person_Ent'],axis=1)"
   ]
  },
  {
   "cell_type": "code",
   "execution_count": 47,
   "id": "0f0e4029-dfc8-4304-ac61-6ea2f6710c2a",
   "metadata": {},
   "outputs": [
    {
     "data": {
      "text/html": [
       "<div>\n",
       "<style scoped>\n",
       "    .dataframe tbody tr th:only-of-type {\n",
       "        vertical-align: middle;\n",
       "    }\n",
       "\n",
       "    .dataframe tbody tr th {\n",
       "        vertical-align: top;\n",
       "    }\n",
       "\n",
       "    .dataframe thead th {\n",
       "        text-align: right;\n",
       "    }\n",
       "</style>\n",
       "<table border=\"1\" class=\"dataframe\">\n",
       "  <thead>\n",
       "    <tr style=\"text-align: right;\">\n",
       "      <th></th>\n",
       "      <th>date</th>\n",
       "      <th>title</th>\n",
       "      <th>text</th>\n",
       "      <th>year</th>\n",
       "      <th>cleaned</th>\n",
       "      <th>clean_title</th>\n",
       "      <th>ORG_Ent</th>\n",
       "      <th>sentiment</th>\n",
       "      <th>sentiment_score</th>\n",
       "    </tr>\n",
       "  </thead>\n",
       "  <tbody>\n",
       "    <tr>\n",
       "      <th>0</th>\n",
       "      <td>2020-02-26</td>\n",
       "      <td>LegalTech Artificial Intelligence Market 2019 ...</td>\n",
       "      <td>LegalTech Artificial Intelligence Market 2019 ...</td>\n",
       "      <td>2020</td>\n",
       "      <td>LegalTech Artificial Intelligence Market 2019 ...</td>\n",
       "      <td>LegalTech Artificial Intelligence Market 2019 ...</td>\n",
       "      <td>[LegalTech Artificial Intelligence Market  Tec...</td>\n",
       "      <td>Positive</td>\n",
       "      <td>0.9991</td>\n",
       "    </tr>\n",
       "    <tr>\n",
       "      <th>4</th>\n",
       "      <td>2020-08-07</td>\n",
       "      <td>Two dead as AI Express flight skids off Kozhik...</td>\n",
       "      <td>Two dead as AI Express flight skids off Kozhik...</td>\n",
       "      <td>2020</td>\n",
       "      <td>Two dead as AI Express flight skids off Kozhik...</td>\n",
       "      <td>Two dead as AI Express flight skids off Kozhik...</td>\n",
       "      <td>[AI Express, PostBeyond BygoneEpic PowerIn Ret...</td>\n",
       "      <td>Negative</td>\n",
       "      <td>-0.9728</td>\n",
       "    </tr>\n",
       "    <tr>\n",
       "      <th>7</th>\n",
       "      <td>2021-02-25</td>\n",
       "      <td>MulticoreWare Inc. Becomes CEVA’s Trusted Part...</td>\n",
       "      <td>\\n\\nMulticoreWare Inc. Becomes CEVA’s Trusted ...</td>\n",
       "      <td>2021</td>\n",
       "      <td>MulticoreWare Inc. Becomes CEVA s Trusted Part...</td>\n",
       "      <td>MulticoreWare Inc. Becomes CEVA s Trusted Part...</td>\n",
       "      <td>[MulticoreWare Inc., Trusted Partner for Imagi...</td>\n",
       "      <td>Positive</td>\n",
       "      <td>0.9981</td>\n",
       "    </tr>\n",
       "    <tr>\n",
       "      <th>8</th>\n",
       "      <td>2022-10-06</td>\n",
       "      <td>Healthcare Artificial Intelligence Market Anal...</td>\n",
       "      <td>\\n\\nHealthcare Artificial Intelligence Market ...</td>\n",
       "      <td>2022</td>\n",
       "      <td>Healthcare Artificial Intelligence Market Anal...</td>\n",
       "      <td>Healthcare Artificial Intelligence Market Anal...</td>\n",
       "      <td>[Healthcare Artificial Intelligence Market Ana...</td>\n",
       "      <td>Positive</td>\n",
       "      <td>0.9993</td>\n",
       "    </tr>\n",
       "    <tr>\n",
       "      <th>9</th>\n",
       "      <td>2020-04-29</td>\n",
       "      <td>Artificial Intelligence As A Service Market : ...</td>\n",
       "      <td>\\n\\nArtificial Intelligence As A Service Marke...</td>\n",
       "      <td>2020</td>\n",
       "      <td>Artificial Intelligence As A Service Market : ...</td>\n",
       "      <td>Artificial Intelligence As A Service Market : ...</td>\n",
       "      <td>[Artificial Intelligence As A Service Market, ...</td>\n",
       "      <td>Positive</td>\n",
       "      <td>0.9996</td>\n",
       "    </tr>\n",
       "  </tbody>\n",
       "</table>\n",
       "</div>"
      ],
      "text/plain": [
       "        date                                              title  \\\n",
       "0 2020-02-26  LegalTech Artificial Intelligence Market 2019 ...   \n",
       "4 2020-08-07  Two dead as AI Express flight skids off Kozhik...   \n",
       "7 2021-02-25  MulticoreWare Inc. Becomes CEVA’s Trusted Part...   \n",
       "8 2022-10-06  Healthcare Artificial Intelligence Market Anal...   \n",
       "9 2020-04-29  Artificial Intelligence As A Service Market : ...   \n",
       "\n",
       "                                                text  year  \\\n",
       "0  LegalTech Artificial Intelligence Market 2019 ...  2020   \n",
       "4  Two dead as AI Express flight skids off Kozhik...  2020   \n",
       "7  \\n\\nMulticoreWare Inc. Becomes CEVA’s Trusted ...  2021   \n",
       "8  \\n\\nHealthcare Artificial Intelligence Market ...  2022   \n",
       "9  \\n\\nArtificial Intelligence As A Service Marke...  2020   \n",
       "\n",
       "                                             cleaned  \\\n",
       "0  LegalTech Artificial Intelligence Market 2019 ...   \n",
       "4  Two dead as AI Express flight skids off Kozhik...   \n",
       "7  MulticoreWare Inc. Becomes CEVA s Trusted Part...   \n",
       "8  Healthcare Artificial Intelligence Market Anal...   \n",
       "9  Artificial Intelligence As A Service Market : ...   \n",
       "\n",
       "                                         clean_title  \\\n",
       "0  LegalTech Artificial Intelligence Market 2019 ...   \n",
       "4  Two dead as AI Express flight skids off Kozhik...   \n",
       "7  MulticoreWare Inc. Becomes CEVA s Trusted Part...   \n",
       "8  Healthcare Artificial Intelligence Market Anal...   \n",
       "9  Artificial Intelligence As A Service Market : ...   \n",
       "\n",
       "                                             ORG_Ent sentiment  \\\n",
       "0  [LegalTech Artificial Intelligence Market  Tec...  Positive   \n",
       "4  [AI Express, PostBeyond BygoneEpic PowerIn Ret...  Negative   \n",
       "7  [MulticoreWare Inc., Trusted Partner for Imagi...  Positive   \n",
       "8  [Healthcare Artificial Intelligence Market Ana...  Positive   \n",
       "9  [Artificial Intelligence As A Service Market, ...  Positive   \n",
       "\n",
       "   sentiment_score  \n",
       "0           0.9991  \n",
       "4          -0.9728  \n",
       "7           0.9981  \n",
       "8           0.9993  \n",
       "9           0.9996  "
      ]
     },
     "execution_count": 47,
     "metadata": {},
     "output_type": "execute_result"
    }
   ],
   "source": [
    "df_final_sent.head(5)"
   ]
  },
  {
   "cell_type": "code",
   "execution_count": 48,
   "id": "d27ec482-3c74-4d46-a9b7-a3aee05f726e",
   "metadata": {},
   "outputs": [],
   "source": [
    "nlp = spacy.load(\"en_core_web_sm\")"
   ]
  },
  {
   "cell_type": "code",
   "execution_count": 50,
   "id": "c8132003-1fda-4c71-8b54-4545bd97e5f8",
   "metadata": {},
   "outputs": [
    {
     "data": {
      "application/vnd.jupyter.widget-view+json": {
       "model_id": "7231fcb55cdb42d3985bd5baa591e42b",
       "version_major": 2,
       "version_minor": 0
      },
      "text/plain": [
       "VBox(children=(HBox(children=(IntProgress(value=0, description='0.00%', max=10889), Label(value='0 / 10889')))…"
      ]
     },
     "metadata": {},
     "output_type": "display_data"
    },
    {
     "name": "stdout",
     "output_type": "stream",
     "text": [
      "CPU times: user 3min, sys: 20.7 s, total: 3min 21s\n",
      "Wall time: 1h 5min 18s\n"
     ]
    }
   ],
   "source": [
    "%%time\n",
    "def extract_entities(text):\n",
    "    doc = nlp(text)\n",
    "    entities = [ent.text for ent in doc.ents if ent.label_ == \"PERSON\"]\n",
    "    return entities\n",
    "\n",
    "df_final_sent['Person_Ent'] = df_final_sent['cleaned'].parallel_apply(extract_entities)"
   ]
  },
  {
   "cell_type": "code",
   "execution_count": 57,
   "id": "c47ff2a9-153e-4b1e-8c50-af6f6b2fa626",
   "metadata": {},
   "outputs": [
    {
     "data": {
      "text/html": [
       "<div>\n",
       "<style scoped>\n",
       "    .dataframe tbody tr th:only-of-type {\n",
       "        vertical-align: middle;\n",
       "    }\n",
       "\n",
       "    .dataframe tbody tr th {\n",
       "        vertical-align: top;\n",
       "    }\n",
       "\n",
       "    .dataframe thead th {\n",
       "        text-align: right;\n",
       "    }\n",
       "</style>\n",
       "<table border=\"1\" class=\"dataframe\">\n",
       "  <thead>\n",
       "    <tr style=\"text-align: right;\">\n",
       "      <th></th>\n",
       "      <th>Person_Ent</th>\n",
       "      <th>year</th>\n",
       "    </tr>\n",
       "  </thead>\n",
       "  <tbody>\n",
       "    <tr>\n",
       "      <th>0</th>\n",
       "      <td>[Aristocrat Leisure, Thermo Fisher, Woodley Eq...</td>\n",
       "      <td>2020</td>\n",
       "    </tr>\n",
       "    <tr>\n",
       "      <th>4</th>\n",
       "      <td>[Kozhikode airportTop  Toggle, Safari, safari,...</td>\n",
       "      <td>2020</td>\n",
       "    </tr>\n",
       "    <tr>\n",
       "      <th>7</th>\n",
       "      <td>[Erez Natan, Soumendra Mohanty]</td>\n",
       "      <td>2021</td>\n",
       "    </tr>\n",
       "    <tr>\n",
       "      <th>8</th>\n",
       "      <td>[AiCure, Web                , Profile Follow]</td>\n",
       "      <td>2022</td>\n",
       "    </tr>\n",
       "    <tr>\n",
       "      <th>9</th>\n",
       "      <td>[Emerging Trends, IRIS AI, Get Sample PDF, Pur...</td>\n",
       "      <td>2020</td>\n",
       "    </tr>\n",
       "    <tr>\n",
       "      <th>...</th>\n",
       "      <td>...</td>\n",
       "      <td>...</td>\n",
       "    </tr>\n",
       "    <tr>\n",
       "      <th>200429</th>\n",
       "      <td>[Which Windows, Ray-Ban, Google Microsoft, Ran...</td>\n",
       "      <td>2023</td>\n",
       "    </tr>\n",
       "    <tr>\n",
       "      <th>200430</th>\n",
       "      <td>[Google Cloud, ZDNET                          ...</td>\n",
       "      <td>2023</td>\n",
       "    </tr>\n",
       "    <tr>\n",
       "      <th>200431</th>\n",
       "      <td>[Musk, Ghana                         , reCAPTC...</td>\n",
       "      <td>2023</td>\n",
       "    </tr>\n",
       "    <tr>\n",
       "      <th>200433</th>\n",
       "      <td>[Ban, Zee News, Garante, Astro, OpenAI, Garant...</td>\n",
       "      <td>2023</td>\n",
       "    </tr>\n",
       "    <tr>\n",
       "      <th>200434</th>\n",
       "      <td>[Zee News, Zee Media Bureau|Last, Astro, Alex ...</td>\n",
       "      <td>2023</td>\n",
       "    </tr>\n",
       "  </tbody>\n",
       "</table>\n",
       "<p>163321 rows × 2 columns</p>\n",
       "</div>"
      ],
      "text/plain": [
       "                                               Person_Ent  year\n",
       "0       [Aristocrat Leisure, Thermo Fisher, Woodley Eq...  2020\n",
       "4       [Kozhikode airportTop  Toggle, Safari, safari,...  2020\n",
       "7                         [Erez Natan, Soumendra Mohanty]  2021\n",
       "8           [AiCure, Web                , Profile Follow]  2022\n",
       "9       [Emerging Trends, IRIS AI, Get Sample PDF, Pur...  2020\n",
       "...                                                   ...   ...\n",
       "200429  [Which Windows, Ray-Ban, Google Microsoft, Ran...  2023\n",
       "200430  [Google Cloud, ZDNET                          ...  2023\n",
       "200431  [Musk, Ghana                         , reCAPTC...  2023\n",
       "200433  [Ban, Zee News, Garante, Astro, OpenAI, Garant...  2023\n",
       "200434  [Zee News, Zee Media Bureau|Last, Astro, Alex ...  2023\n",
       "\n",
       "[163321 rows x 2 columns]"
      ]
     },
     "execution_count": 57,
     "metadata": {},
     "output_type": "execute_result"
    }
   ],
   "source": [
    "df_final_sent[['Person_Ent','year']]"
   ]
  },
  {
   "cell_type": "code",
   "execution_count": 56,
   "id": "8841f1f2-c139-4bb8-91f7-f4e6c0daeff7",
   "metadata": {},
   "outputs": [],
   "source": [
    "tmp = df_final_sent[['Person_Ent','year']]\n",
    "plot_tmp = tmp.explode('Person_Ent')\n",
    "Person_counts = plot_tmp['Person_Ent'].value_counts()"
   ]
  },
  {
   "cell_type": "code",
   "execution_count": 76,
   "id": "ab2463df-8ed4-48d6-9152-bac15b203ea1",
   "metadata": {},
   "outputs": [
    {
     "data": {
      "text/plain": [
       "Person_Ent\n",
       "Twitter               30674\n",
       "Sam Altman            18859\n",
       "Biden                 15772\n",
       "GPT-4                 15758\n",
       "Elon Musk             11234\n",
       "Musk                   9921\n",
       "WhatsApp               9488\n",
       "Size                   6650\n",
       "AI                     6547\n",
       "AdvertisingAt Gray     6154\n",
       "Generative AI          5902\n",
       "Joe Biden              5780\n",
       "Inquiries Request      5554\n",
       "Telecomm               5347\n",
       "OpenAI                 5034\n",
       "LinkedIn Email         4968\n",
       "Google Cloud           4254\n",
       "Anthropic              4126\n",
       "Midjourney             4058\n",
       "Math                   4037\n",
       "COVID-19               3964\n",
       "Satya Nadella          3962\n",
       "Forgot                 3864\n",
       "Don                    3855\n",
       "Center ProfNet         3611\n",
       "Machine Learning       3604\n",
       "Dashboard              3556\n",
       "Bloomberg              3543\n",
       "Facebook Twitter       3497\n",
       "Donald Trump           3415\n",
       "Name: count, dtype: int64"
      ]
     },
     "execution_count": 76,
     "metadata": {},
     "output_type": "execute_result"
    }
   ],
   "source": [
    "Person_counts.head(30)"
   ]
  },
  {
   "cell_type": "code",
   "execution_count": 75,
   "id": "26cdec02-e66b-4c99-9473-e57c7d300ccd",
   "metadata": {},
   "outputs": [],
   "source": [
    "df_final_sent.to_parquet('gs://nlp_finalproject/SentimentAnalysis_Clean.parquet')"
   ]
  }
 ],
 "metadata": {
  "environment": {
   "kernel": "python3",
   "name": ".m117",
   "type": "gcloud",
   "uri": "us-docker.pkg.dev/deeplearning-platform-release/gcr.io/:m117"
  },
  "kernelspec": {
   "display_name": "Python 3 (ipykernel)",
   "language": "python",
   "name": "python3"
  },
  "language_info": {
   "codemirror_mode": {
    "name": "ipython",
    "version": 3
   },
   "file_extension": ".py",
   "mimetype": "text/x-python",
   "name": "python",
   "nbconvert_exporter": "python",
   "pygments_lexer": "ipython3",
   "version": "3.11.7"
  }
 },
 "nbformat": 4,
 "nbformat_minor": 5
}
