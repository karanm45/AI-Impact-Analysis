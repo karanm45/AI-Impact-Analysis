{
 "cells": [
  {
   "cell_type": "code",
   "execution_count": 1,
   "id": "79f0a1b5-eeb7-43b9-bac6-8d5e90d84f78",
   "metadata": {},
   "outputs": [],
   "source": [
    "import pandas as pd\n",
    "\n",
    "pd.set_option('display.max_rows', 100)\n",
    "pd.set_option('display.max_columns', None)\n",
    "pd.set_option('display.max_colwidth', 500)"
   ]
  },
  {
   "cell_type": "code",
   "execution_count": 2,
   "id": "cbf2aed8-43c3-4a4a-a8bb-c81a96b18ca5",
   "metadata": {},
   "outputs": [],
   "source": [
    "import nltk\n",
    "import numpy as np\n",
    "import re\n",
    "import string\n",
    "\n",
    "import seaborn as sns\n",
    "import matplotlib.pyplot as plt\n",
    "from nltk.chunk import ne_chunk\n",
    "from nltk.corpus import stopwords\n",
    "from nltk.stem import WordNetLemmatizer\n",
    "from nltk.tokenize import word_tokenize\n",
    "from collections import Counter\n",
    "import warnings\n",
    "warnings.filterwarnings(\"ignore\")"
   ]
  },
  {
   "cell_type": "code",
   "execution_count": 3,
   "id": "dccde957-e93b-4b32-90bb-c68539127c9e",
   "metadata": {},
   "outputs": [],
   "source": [
    "from pandarallel import pandarallel\n",
    "import spacy"
   ]
  },
  {
   "cell_type": "code",
   "execution_count": 4,
   "id": "ead96709-9af9-40d6-b923-89426430a3b3",
   "metadata": {},
   "outputs": [
    {
     "name": "stdout",
     "output_type": "stream",
     "text": [
      "Bucket nlp_finalproject connected.\n"
     ]
    }
   ],
   "source": [
    "from google.cloud import storage\n",
    "# Instantiates a client\n",
    "storage_client = storage.Client()\n",
    "\n",
    "# The name for the new bucket\n",
    "bucket_name = \"nlp_finalproject\"\n",
    "\n",
    "# Creates the new bucket\n",
    "bucket = storage_client.bucket(bucket_name)\n",
    "print(f\"Bucket {bucket.name} connected.\")"
   ]
  },
  {
   "cell_type": "code",
   "execution_count": 5,
   "id": "39563a2b-464b-40dd-b95b-d567e0670d09",
   "metadata": {},
   "outputs": [
    {
     "data": {
      "text/html": [
       "<div>\n",
       "<style scoped>\n",
       "    .dataframe tbody tr th:only-of-type {\n",
       "        vertical-align: middle;\n",
       "    }\n",
       "\n",
       "    .dataframe tbody tr th {\n",
       "        vertical-align: top;\n",
       "    }\n",
       "\n",
       "    .dataframe thead th {\n",
       "        text-align: right;\n",
       "    }\n",
       "</style>\n",
       "<table border=\"1\" class=\"dataframe\">\n",
       "  <thead>\n",
       "    <tr style=\"text-align: right;\">\n",
       "      <th></th>\n",
       "      <th>url</th>\n",
       "      <th>date</th>\n",
       "      <th>language</th>\n",
       "      <th>title</th>\n",
       "      <th>text</th>\n",
       "      <th>year</th>\n",
       "      <th>cleaned</th>\n",
       "      <th>clean_title</th>\n",
       "      <th>relevant</th>\n",
       "      <th>tokens</th>\n",
       "      <th>no_tokens</th>\n",
       "      <th>percentage</th>\n",
       "    </tr>\n",
       "  </thead>\n",
       "  <tbody>\n",
       "    <tr>\n",
       "      <th>0</th>\n",
       "      <td>http://galusaustralis.com/2020/02/486473/legaltech-artificial-intelligence-market-2019-technology-advancement-and-future-scope-casetext-inc-catalyst-repository-systems-ebrevia/</td>\n",
       "      <td>2020-02-26</td>\n",
       "      <td>en</td>\n",
       "      <td>LegalTech Artificial Intelligence Market 2019 Technology Advancement and Future Scope – Casetext Inc., Catalyst Repository Systems, eBREVIA – Galus Australis</td>\n",
       "      <td>LegalTech Artificial Intelligence Market 2019 Technology Advancement and Future Scope – Casetext Inc., Catalyst Repository Systems, eBREVIA – Galus Australis          \\n\\nGalus Australis\\n\\nBusinessGeneral NewsHealthcareIndustryInternationalLifestyleSci-Tech\\n\\nWednesday, February 26 2020\\n\\nTrending\\n\\nNeedle Counters Market Comprehensive Study by Companies Medline Industries, Boen Healthcare\\nSkin Scrub Trays Market Comprehensive Study by Companies Medline Industries, BD, Deroyal\\nGlobal P...</td>\n",
       "      <td>2020</td>\n",
       "      <td>LegalTech Artificial Intelligence Market 2019 Technology Advancement and Future Scope   Casetext Inc., Catalyst Repository Systems, eBREVIA   Galus Australis           Galus Australis BusinessGeneral NewsHealthcareIndustryInternationalLifestyleSci-Tech Wednesday, February 26 2020 Trending Needle Counters Market Comprehensive Study by Companies Medline Industries, Boen Healthcare Skin Scrub Trays Market Comprehensive Study by Companies Medline Industries, BD, Deroyal Global Portable Handheld ...</td>\n",
       "      <td>LegalTech Artificial Intelligence Market 2019 Technology Advancement and Future Scope   Casetext Inc., Catalyst Repository Systems, eBREVIA   Galus Australis           Galus Australis BusinessGeneral NewsHealthcareIndustryInternationalLifestyleSci-Tech Wednesday, February 26 2020 Trending Needle Counters Market Comprehensive Study by Companies Medline Industries, Boen Healthcare Skin Scrub Trays Market Comprehensive Study by Companies Medline Industries, BD, Deroyal Global Portable Handheld ...</td>\n",
       "      <td>1</td>\n",
       "      <td>[LegalTech, Artificial, Intelligence, Market, 2019, Technology, Advancement, and, Future, Scope, Casetext, Inc., ,, Catalyst, Repository, Systems, ,, eBREVIA, Galus, Australis, Galus, Australis, BusinessGeneral, NewsHealthcareIndustryInternationalLifestyleSci-Tech, Wednesday, ,, February, 26, 2020, Trending, Needle, Counters, Market, Comprehensive, Study, by, Companies, Medline, Industries, ,, Boen, Healthcare, Skin, Scrub, Trays, Market, Comprehensive, Study, by, Companies, Medline, Industr...</td>\n",
       "      <td>1087</td>\n",
       "      <td>2.628812</td>\n",
       "    </tr>\n",
       "    <tr>\n",
       "      <th>4</th>\n",
       "      <td>http://www.millenniumpost.in/big-stories/ai-express-aircraft-skids-off-runaway-in-kozhikode-rescue-ops-on-414926</td>\n",
       "      <td>2020-08-07</td>\n",
       "      <td>en</td>\n",
       "      <td>Two dead as AI Express flight skids off Kozhikode airport</td>\n",
       "      <td>Two dead as AI Express flight skids off Kozhikode airportTopLoginSubscribeToggle navigationFeaturesDelhiKolkataNationOpinionEditorialBusinessSportsSunday PostBeyond BygoneEpic PowerIn RetrospectGlobal EyeInlandRoutesBeaconInsightGame OnSafariTrendingCandid TalkGastronomyFact FilesMapping the states of IndiaX/sunday-post/beyond-bygone/sunday-post/epic-power/fact-files/ians-feeds/sundaypost/in-retrospect/mapping-the-states-of-india/puja-special/Reminiscence/sponsored/sundaypost/global-eye/feat...</td>\n",
       "      <td>2020</td>\n",
       "      <td>Two dead as AI Express flight skids off Kozhikode airportTop  Toggle navigationFeaturesDelhiKolkataNationOpinionEditorialBusinessSportsSunday PostBeyond BygoneEpic PowerIn RetrospectGlobal EyeInlandRoutesBeaconInsightGame OnSafariTrendingCandid TalkGastronomyFact FilesMapping the states of IndiaX/sunday-post/beyond-bygone/sunday-post/epic-power/fact-files/ians-feeds/sundaypost/in-retrospect/mapping-the-states-of-india/puja-special/Reminiscence/ /sundaypost/global-eye/features/nation/world/te...</td>\n",
       "      <td>Two dead as AI Express flight skids off Kozhikode airportTopLoginSubscribeToggle navigationFeaturesDelhiKolkataNationOpinionEditorialBusinessSportsSunday PostBeyond BygoneEpic PowerIn RetrospectGlobal EyeInlandRoutesBeaconInsightGame OnSafariTrendingCandid TalkGastronomyFact FilesMapping the states of IndiaX/sunday-post/beyond-bygone/sunday-post/epic-power/fact-files/ians-feeds/sundaypost/in-retrospect/mapping-the-states-of-india/puja-special/Reminiscence/sponsored/sundaypost/global-eye/feat...</td>\n",
       "      <td>1</td>\n",
       "      <td>[Two, dead, as, AI, Express, flight, skids, off, Kozhikode, airportTop, Toggle, navigationFeaturesDelhiKolkataNationOpinionEditorialBusinessSportsSunday, PostBeyond, BygoneEpic, PowerIn, RetrospectGlobal, EyeInlandRoutesBeaconInsightGame, OnSafariTrendingCandid, TalkGastronomyFact, FilesMapping, the, states, of, IndiaX/sunday-post/beyond-bygone/sunday-post/epic-power/fact-files/ians-feeds/sundaypost/in-retrospect/mapping-the-states-of-india/puja-special/Reminiscence/, /sundaypost/global-eye/...</td>\n",
       "      <td>280</td>\n",
       "      <td>0.375940</td>\n",
       "    </tr>\n",
       "    <tr>\n",
       "      <th>7</th>\n",
       "      <td>http://www.peripherals.consumerelectronicsnet.com/multicoreware-inc-becomes-cevas-trusted-partner-for-imaging-computer-vision/</td>\n",
       "      <td>2021-02-25</td>\n",
       "      <td>en</td>\n",
       "      <td>MulticoreWare Inc. Becomes CEVA’s Trusted Partner for Imaging &amp; Computer Vision – Consumer Electronics Net</td>\n",
       "      <td>\\n\\nMulticoreWare Inc. Becomes CEVA’s Trusted Partner for Imaging &amp; Computer Vision – Consumer Electronics Net\\n\\n \\nSkip to content\\n\\nConsumer Electronics Net\\n\\nPrimary Menu\\n\\nConsumer Electronics Net\\n\\nSearch for:\\n \\nHomeNewsMulticoreWare Inc. Becomes CEVA’s Trusted Partner for Imaging &amp; Computer Vision \\n \\n                                 News\\n                             \\n \\nMulticoreWare Inc. Becomes CEVA’s Trusted Partner for Imaging &amp; Computer Vision\\n                    13 mi...</td>\n",
       "      <td>2021</td>\n",
       "      <td>MulticoreWare Inc. Becomes CEVA s Trusted Partner for Imaging &amp; Computer Vision   Consumer Electronics Net   Skip to content Consumer Electronics Net Primary Menu Consumer Electronics Net   for:   HomeNewsMulticoreWare Inc. Becomes CEVA s Trusted Partner for Imaging &amp; Computer Vision                                     News                                 MulticoreWare Inc. Becomes CEVA s Trusted Partner for Imaging &amp; Computer Vision                     13 mins ago               MulticoreWar...</td>\n",
       "      <td>MulticoreWare Inc. Becomes CEVA s Trusted Partner for Imaging &amp; Computer Vision   Consumer Electronics Net   Skip to content Consumer Electronics Net Primary Menu Consumer Electronics Net Search for:   HomeNewsMulticoreWare Inc. Becomes CEVA s Trusted Partner for Imaging &amp; Computer Vision                                     News                                 MulticoreWare Inc. Becomes CEVA s Trusted Partner for Imaging &amp; Computer Vision                     13 mins ago               Multico...</td>\n",
       "      <td>1</td>\n",
       "      <td>[MulticoreWare, Inc., Becomes, CEVA, s, Trusted, Partner, for, Imaging, &amp;, Computer, Vision, Consumer, Electronics, Net, Skip, to, content, Consumer, Electronics, Net, Primary, Menu, Consumer, Electronics, Net, for, :, HomeNewsMulticoreWare, Inc., Becomes, CEVA, s, Trusted, Partner, for, Imaging, &amp;, Computer, Vision, News, MulticoreWare, Inc., Becomes, CEVA, s, Trusted, Partner, for, Imaging, &amp;, Computer, Vision, 13, mins, ago, MulticoreWare, Inc., ,, s, the, CEVAnet, Partner, Program, a, co...</td>\n",
       "      <td>848</td>\n",
       "      <td>0.949796</td>\n",
       "    </tr>\n",
       "    <tr>\n",
       "      <th>8</th>\n",
       "      <td>http://www.sbwire.com/press-releases/healthcare-artificial-intelligence-market-next-big-thing-major-giants-general-electric-medtronic-aicure-apixio-1363690.htm</td>\n",
       "      <td>2022-10-06</td>\n",
       "      <td>en</td>\n",
       "      <td>Healthcare Artificial Intelligence Market Analysis and Forecast for Next 5 Years</td>\n",
       "      <td>\\n\\nHealthcare Artificial Intelligence Market Analysis and Forecast for Next 5 Years\\n \\n\\n \\n\\nSBWire\\nSign Up\\nLogin\\n\\nOur Service\\nPlans &amp; Pricing\\nNewsroom\\nHelp\\nAbout\\n\\nAMA Research &amp;amp; Media LLP Email Alerts| RSS  \\n\\nHealthcare Artificial Intelligence Market Next Big Thing : Major Giants- General Electric, Medtronic, AiCure, APIXIO\\nHealthcare Artificial Intelligence Market 2022-2028\\n \\n\\nNew Jersey, USA -- (SBWIRE) -- 10/05/2022 --  Advance Market Analytics published a new rese...</td>\n",
       "      <td>2022</td>\n",
       "      <td>Healthcare Artificial Intelligence Market Analysis and Forecast for Next 5 Years     SBWire Sign Up   Our Service Plans &amp; Pricing Newsroom Help About AMA Re  &amp;amp; Media LLP Email Alerts| RSS   Healthcare Artificial Intelligence Market Next Big Thing : Major Giants- General Electric, Medtronic, AiCure, APIXIO Healthcare Artificial Intelligence Market 2022-2028   New Jersey, USA -- (SBWIRE) -- 10/05/2022 --  Advance Market Analytics published a new re  publication on \"Healthcare Artificial In...</td>\n",
       "      <td>Healthcare Artificial Intelligence Market Analysis and Forecast for Next 5 Years     SBWire Sign Up Login Our Service Plans &amp; Pricing Newsroom Help About AMA Research &amp;amp; Media LLP Email Alerts| RSS   Healthcare Artificial Intelligence Market Next Big Thing : Major Giants- General Electric, Medtronic, AiCure, APIXIO Healthcare Artificial Intelligence Market 2022-2028   New Jersey, USA -- (SBWIRE) -- 10/05/2022 --  Advance Market Analytics published a new research publication on \"Healthcare...</td>\n",
       "      <td>1</td>\n",
       "      <td>[Healthcare, Artificial, Intelligence, Market, Analysis, and, Forecast, for, Next, 5, Years, SBWire, Sign, Up, Our, Service, Plans, &amp;, Pricing, Newsroom, Help, About, AMA, Re, &amp;, amp, ;, Media, LLP, Email, Alerts|, RSS, Healthcare, Artificial, Intelligence, Market, Next, Big, Thing, :, Major, Giants-, General, Electric, ,, Medtronic, ,, AiCure, ,, APIXIO, Healthcare, Artificial, Intelligence, Market, 2022-2028, New, Jersey, ,, USA, --, (, SBWIRE, ), --, 10/05/2022, --, Advance, Market, Analy...</td>\n",
       "      <td>977</td>\n",
       "      <td>3.358209</td>\n",
       "    </tr>\n",
       "    <tr>\n",
       "      <th>9</th>\n",
       "      <td>https://3wnews.org/industry/704499/artificial-intelligence-as-a-service-market-opportunities-market-analysis-outlook-to-2027/</td>\n",
       "      <td>2020-04-29</td>\n",
       "      <td>en</td>\n",
       "      <td>Artificial Intelligence As A Service Market : Opportunities, Market Analysis &amp; Outlook To 2027 – 3w Market News Reports</td>\n",
       "      <td>\\n\\nArtificial Intelligence As A Service Market : Opportunities, Market Analysis &amp; Outlook To 2027 – 3w Market News Reports\\n\\n \\n\\n \\nContact Us\\nAbout Us\\n \\n3w Market News Reports\\n3rd Market Reports and Analytics\\nNews\\nMarket Reports\\nIndustry Analytics\\nIndustry Reports\\nMarket Research\\nBusiness Opportunity\\nEmerging Trends\\nGrowth Prospects\\n \\n \\n \\nHomeIndustryArtificial Intelligence As A Service Market : Opportunities, Market Analysis &amp; Outlook To 2027 \\n\\n                Artifici...</td>\n",
       "      <td>2020</td>\n",
       "      <td>Artificial Intelligence As A Service Market : Opportunities, Market Analysis &amp; Outlook To 2027   3w Market News Reports           3w Market News Reports 3rd Market Reports and Analytics News Market Reports Industry Analytics Industry Reports Market Re  Business Opportunity Emerging Trends Growth Prospects       HomeIndustryArtificial Intelligence As A Service Market : Opportunities, Market Analysis &amp; Outlook To 2027                  Artificial Intelligence As A Service Market : Opportunities...</td>\n",
       "      <td>Artificial Intelligence As A Service Market : Opportunities, Market Analysis &amp; Outlook To 2027   3w Market News Reports     Contact Us About Us   3w Market News Reports 3rd Market Reports and Analytics News Market Reports Industry Analytics Industry Reports Market Research Business Opportunity Emerging Trends Growth Prospects       HomeIndustryArtificial Intelligence As A Service Market : Opportunities, Market Analysis &amp; Outlook To 2027                  Artificial Intelligence As A Service M...</td>\n",
       "      <td>1</td>\n",
       "      <td>[Artificial, Intelligence, As, A, Service, Market, :, Opportunities, ,, Market, Analysis, &amp;, Outlook, To, 2027, 3w, Market, News, Reports, 3w, Market, News, Reports, 3rd, Market, Reports, and, Analytics, News, Market, Reports, Industry, Analytics, Industry, Reports, Market, Re, Business, Opportunity, Emerging, Trends, Growth, Prospects, HomeIndustryArtificial, Intelligence, As, A, Service, Market, :, Opportunities, ,, Market, Analysis, &amp;, Outlook, To, 2027, Artificial, Intelligence, As, A, S...</td>\n",
       "      <td>1158</td>\n",
       "      <td>2.615694</td>\n",
       "    </tr>\n",
       "  </tbody>\n",
       "</table>\n",
       "</div>"
      ],
      "text/plain": [
       "                                                                                                                                                                                url  \\\n",
       "0  http://galusaustralis.com/2020/02/486473/legaltech-artificial-intelligence-market-2019-technology-advancement-and-future-scope-casetext-inc-catalyst-repository-systems-ebrevia/   \n",
       "4                                                                  http://www.millenniumpost.in/big-stories/ai-express-aircraft-skids-off-runaway-in-kozhikode-rescue-ops-on-414926   \n",
       "7                                                    http://www.peripherals.consumerelectronicsnet.com/multicoreware-inc-becomes-cevas-trusted-partner-for-imaging-computer-vision/   \n",
       "8                   http://www.sbwire.com/press-releases/healthcare-artificial-intelligence-market-next-big-thing-major-giants-general-electric-medtronic-aicure-apixio-1363690.htm   \n",
       "9                                                     https://3wnews.org/industry/704499/artificial-intelligence-as-a-service-market-opportunities-market-analysis-outlook-to-2027/   \n",
       "\n",
       "        date language  \\\n",
       "0 2020-02-26       en   \n",
       "4 2020-08-07       en   \n",
       "7 2021-02-25       en   \n",
       "8 2022-10-06       en   \n",
       "9 2020-04-29       en   \n",
       "\n",
       "                                                                                                                                                           title  \\\n",
       "0  LegalTech Artificial Intelligence Market 2019 Technology Advancement and Future Scope – Casetext Inc., Catalyst Repository Systems, eBREVIA – Galus Australis   \n",
       "4                                                                                                      Two dead as AI Express flight skids off Kozhikode airport   \n",
       "7                                                     MulticoreWare Inc. Becomes CEVA’s Trusted Partner for Imaging & Computer Vision – Consumer Electronics Net   \n",
       "8                                                                               Healthcare Artificial Intelligence Market Analysis and Forecast for Next 5 Years   \n",
       "9                                        Artificial Intelligence As A Service Market : Opportunities, Market Analysis & Outlook To 2027 – 3w Market News Reports   \n",
       "\n",
       "                                                                                                                                                                                                                                                                                                                                                                                                                                                                                                                  text  \\\n",
       "0  LegalTech Artificial Intelligence Market 2019 Technology Advancement and Future Scope – Casetext Inc., Catalyst Repository Systems, eBREVIA – Galus Australis          \\n\\nGalus Australis\\n\\nBusinessGeneral NewsHealthcareIndustryInternationalLifestyleSci-Tech\\n\\nWednesday, February 26 2020\\n\\nTrending\\n\\nNeedle Counters Market Comprehensive Study by Companies Medline Industries, Boen Healthcare\\nSkin Scrub Trays Market Comprehensive Study by Companies Medline Industries, BD, Deroyal\\nGlobal P...   \n",
       "4  Two dead as AI Express flight skids off Kozhikode airportTopLoginSubscribeToggle navigationFeaturesDelhiKolkataNationOpinionEditorialBusinessSportsSunday PostBeyond BygoneEpic PowerIn RetrospectGlobal EyeInlandRoutesBeaconInsightGame OnSafariTrendingCandid TalkGastronomyFact FilesMapping the states of IndiaX/sunday-post/beyond-bygone/sunday-post/epic-power/fact-files/ians-feeds/sundaypost/in-retrospect/mapping-the-states-of-india/puja-special/Reminiscence/sponsored/sundaypost/global-eye/feat...   \n",
       "7  \\n\\nMulticoreWare Inc. Becomes CEVA’s Trusted Partner for Imaging & Computer Vision – Consumer Electronics Net\\n\\n \\nSkip to content\\n\\nConsumer Electronics Net\\n\\nPrimary Menu\\n\\nConsumer Electronics Net\\n\\nSearch for:\\n \\nHomeNewsMulticoreWare Inc. Becomes CEVA’s Trusted Partner for Imaging & Computer Vision \\n \\n                                 News\\n                             \\n \\nMulticoreWare Inc. Becomes CEVA’s Trusted Partner for Imaging & Computer Vision\\n                    13 mi...   \n",
       "8  \\n\\nHealthcare Artificial Intelligence Market Analysis and Forecast for Next 5 Years\\n \\n\\n \\n\\nSBWire\\nSign Up\\nLogin\\n\\nOur Service\\nPlans & Pricing\\nNewsroom\\nHelp\\nAbout\\n\\nAMA Research &amp; Media LLP Email Alerts| RSS  \\n\\nHealthcare Artificial Intelligence Market Next Big Thing : Major Giants- General Electric, Medtronic, AiCure, APIXIO\\nHealthcare Artificial Intelligence Market 2022-2028\\n \\n\\nNew Jersey, USA -- (SBWIRE) -- 10/05/2022 --  Advance Market Analytics published a new rese...   \n",
       "9  \\n\\nArtificial Intelligence As A Service Market : Opportunities, Market Analysis & Outlook To 2027 – 3w Market News Reports\\n\\n \\n\\n \\nContact Us\\nAbout Us\\n \\n3w Market News Reports\\n3rd Market Reports and Analytics\\nNews\\nMarket Reports\\nIndustry Analytics\\nIndustry Reports\\nMarket Research\\nBusiness Opportunity\\nEmerging Trends\\nGrowth Prospects\\n \\n \\n \\nHomeIndustryArtificial Intelligence As A Service Market : Opportunities, Market Analysis & Outlook To 2027 \\n\\n                Artifici...   \n",
       "\n",
       "   year  \\\n",
       "0  2020   \n",
       "4  2020   \n",
       "7  2021   \n",
       "8  2022   \n",
       "9  2020   \n",
       "\n",
       "                                                                                                                                                                                                                                                                                                                                                                                                                                                                                                               cleaned  \\\n",
       "0  LegalTech Artificial Intelligence Market 2019 Technology Advancement and Future Scope   Casetext Inc., Catalyst Repository Systems, eBREVIA   Galus Australis           Galus Australis BusinessGeneral NewsHealthcareIndustryInternationalLifestyleSci-Tech Wednesday, February 26 2020 Trending Needle Counters Market Comprehensive Study by Companies Medline Industries, Boen Healthcare Skin Scrub Trays Market Comprehensive Study by Companies Medline Industries, BD, Deroyal Global Portable Handheld ...   \n",
       "4  Two dead as AI Express flight skids off Kozhikode airportTop  Toggle navigationFeaturesDelhiKolkataNationOpinionEditorialBusinessSportsSunday PostBeyond BygoneEpic PowerIn RetrospectGlobal EyeInlandRoutesBeaconInsightGame OnSafariTrendingCandid TalkGastronomyFact FilesMapping the states of IndiaX/sunday-post/beyond-bygone/sunday-post/epic-power/fact-files/ians-feeds/sundaypost/in-retrospect/mapping-the-states-of-india/puja-special/Reminiscence/ /sundaypost/global-eye/features/nation/world/te...   \n",
       "7  MulticoreWare Inc. Becomes CEVA s Trusted Partner for Imaging & Computer Vision   Consumer Electronics Net   Skip to content Consumer Electronics Net Primary Menu Consumer Electronics Net   for:   HomeNewsMulticoreWare Inc. Becomes CEVA s Trusted Partner for Imaging & Computer Vision                                     News                                 MulticoreWare Inc. Becomes CEVA s Trusted Partner for Imaging & Computer Vision                     13 mins ago               MulticoreWar...   \n",
       "8  Healthcare Artificial Intelligence Market Analysis and Forecast for Next 5 Years     SBWire Sign Up   Our Service Plans & Pricing Newsroom Help About AMA Re  &amp; Media LLP Email Alerts| RSS   Healthcare Artificial Intelligence Market Next Big Thing : Major Giants- General Electric, Medtronic, AiCure, APIXIO Healthcare Artificial Intelligence Market 2022-2028   New Jersey, USA -- (SBWIRE) -- 10/05/2022 --  Advance Market Analytics published a new re  publication on \"Healthcare Artificial In...   \n",
       "9  Artificial Intelligence As A Service Market : Opportunities, Market Analysis & Outlook To 2027   3w Market News Reports           3w Market News Reports 3rd Market Reports and Analytics News Market Reports Industry Analytics Industry Reports Market Re  Business Opportunity Emerging Trends Growth Prospects       HomeIndustryArtificial Intelligence As A Service Market : Opportunities, Market Analysis & Outlook To 2027                  Artificial Intelligence As A Service Market : Opportunities...   \n",
       "\n",
       "                                                                                                                                                                                                                                                                                                                                                                                                                                                                                                           clean_title  \\\n",
       "0  LegalTech Artificial Intelligence Market 2019 Technology Advancement and Future Scope   Casetext Inc., Catalyst Repository Systems, eBREVIA   Galus Australis           Galus Australis BusinessGeneral NewsHealthcareIndustryInternationalLifestyleSci-Tech Wednesday, February 26 2020 Trending Needle Counters Market Comprehensive Study by Companies Medline Industries, Boen Healthcare Skin Scrub Trays Market Comprehensive Study by Companies Medline Industries, BD, Deroyal Global Portable Handheld ...   \n",
       "4  Two dead as AI Express flight skids off Kozhikode airportTopLoginSubscribeToggle navigationFeaturesDelhiKolkataNationOpinionEditorialBusinessSportsSunday PostBeyond BygoneEpic PowerIn RetrospectGlobal EyeInlandRoutesBeaconInsightGame OnSafariTrendingCandid TalkGastronomyFact FilesMapping the states of IndiaX/sunday-post/beyond-bygone/sunday-post/epic-power/fact-files/ians-feeds/sundaypost/in-retrospect/mapping-the-states-of-india/puja-special/Reminiscence/sponsored/sundaypost/global-eye/feat...   \n",
       "7  MulticoreWare Inc. Becomes CEVA s Trusted Partner for Imaging & Computer Vision   Consumer Electronics Net   Skip to content Consumer Electronics Net Primary Menu Consumer Electronics Net Search for:   HomeNewsMulticoreWare Inc. Becomes CEVA s Trusted Partner for Imaging & Computer Vision                                     News                                 MulticoreWare Inc. Becomes CEVA s Trusted Partner for Imaging & Computer Vision                     13 mins ago               Multico...   \n",
       "8  Healthcare Artificial Intelligence Market Analysis and Forecast for Next 5 Years     SBWire Sign Up Login Our Service Plans & Pricing Newsroom Help About AMA Research &amp; Media LLP Email Alerts| RSS   Healthcare Artificial Intelligence Market Next Big Thing : Major Giants- General Electric, Medtronic, AiCure, APIXIO Healthcare Artificial Intelligence Market 2022-2028   New Jersey, USA -- (SBWIRE) -- 10/05/2022 --  Advance Market Analytics published a new research publication on \"Healthcare...   \n",
       "9  Artificial Intelligence As A Service Market : Opportunities, Market Analysis & Outlook To 2027   3w Market News Reports     Contact Us About Us   3w Market News Reports 3rd Market Reports and Analytics News Market Reports Industry Analytics Industry Reports Market Research Business Opportunity Emerging Trends Growth Prospects       HomeIndustryArtificial Intelligence As A Service Market : Opportunities, Market Analysis & Outlook To 2027                  Artificial Intelligence As A Service M...   \n",
       "\n",
       "   relevant  \\\n",
       "0         1   \n",
       "4         1   \n",
       "7         1   \n",
       "8         1   \n",
       "9         1   \n",
       "\n",
       "                                                                                                                                                                                                                                                                                                                                                                                                                                                                                                                tokens  \\\n",
       "0  [LegalTech, Artificial, Intelligence, Market, 2019, Technology, Advancement, and, Future, Scope, Casetext, Inc., ,, Catalyst, Repository, Systems, ,, eBREVIA, Galus, Australis, Galus, Australis, BusinessGeneral, NewsHealthcareIndustryInternationalLifestyleSci-Tech, Wednesday, ,, February, 26, 2020, Trending, Needle, Counters, Market, Comprehensive, Study, by, Companies, Medline, Industries, ,, Boen, Healthcare, Skin, Scrub, Trays, Market, Comprehensive, Study, by, Companies, Medline, Industr...   \n",
       "4  [Two, dead, as, AI, Express, flight, skids, off, Kozhikode, airportTop, Toggle, navigationFeaturesDelhiKolkataNationOpinionEditorialBusinessSportsSunday, PostBeyond, BygoneEpic, PowerIn, RetrospectGlobal, EyeInlandRoutesBeaconInsightGame, OnSafariTrendingCandid, TalkGastronomyFact, FilesMapping, the, states, of, IndiaX/sunday-post/beyond-bygone/sunday-post/epic-power/fact-files/ians-feeds/sundaypost/in-retrospect/mapping-the-states-of-india/puja-special/Reminiscence/, /sundaypost/global-eye/...   \n",
       "7  [MulticoreWare, Inc., Becomes, CEVA, s, Trusted, Partner, for, Imaging, &, Computer, Vision, Consumer, Electronics, Net, Skip, to, content, Consumer, Electronics, Net, Primary, Menu, Consumer, Electronics, Net, for, :, HomeNewsMulticoreWare, Inc., Becomes, CEVA, s, Trusted, Partner, for, Imaging, &, Computer, Vision, News, MulticoreWare, Inc., Becomes, CEVA, s, Trusted, Partner, for, Imaging, &, Computer, Vision, 13, mins, ago, MulticoreWare, Inc., ,, s, the, CEVAnet, Partner, Program, a, co...   \n",
       "8  [Healthcare, Artificial, Intelligence, Market, Analysis, and, Forecast, for, Next, 5, Years, SBWire, Sign, Up, Our, Service, Plans, &, Pricing, Newsroom, Help, About, AMA, Re, &, amp, ;, Media, LLP, Email, Alerts|, RSS, Healthcare, Artificial, Intelligence, Market, Next, Big, Thing, :, Major, Giants-, General, Electric, ,, Medtronic, ,, AiCure, ,, APIXIO, Healthcare, Artificial, Intelligence, Market, 2022-2028, New, Jersey, ,, USA, --, (, SBWIRE, ), --, 10/05/2022, --, Advance, Market, Analy...   \n",
       "9  [Artificial, Intelligence, As, A, Service, Market, :, Opportunities, ,, Market, Analysis, &, Outlook, To, 2027, 3w, Market, News, Reports, 3w, Market, News, Reports, 3rd, Market, Reports, and, Analytics, News, Market, Reports, Industry, Analytics, Industry, Reports, Market, Re, Business, Opportunity, Emerging, Trends, Growth, Prospects, HomeIndustryArtificial, Intelligence, As, A, Service, Market, :, Opportunities, ,, Market, Analysis, &, Outlook, To, 2027, Artificial, Intelligence, As, A, S...   \n",
       "\n",
       "   no_tokens  percentage  \n",
       "0       1087    2.628812  \n",
       "4        280    0.375940  \n",
       "7        848    0.949796  \n",
       "8        977    3.358209  \n",
       "9       1158    2.615694  "
      ]
     },
     "execution_count": 5,
     "metadata": {},
     "output_type": "execute_result"
    }
   ],
   "source": [
    "df_final5 = pd.read_parquet(\"gs://nlp_finalproject/FilteredDataset.parquet\", engine='pyarrow')\n",
    "df_final5.head(5)"
   ]
  },
  {
   "cell_type": "code",
   "execution_count": 6,
   "id": "9c8d9c80-3c35-4526-85ab-54a1c8ccdb09",
   "metadata": {},
   "outputs": [],
   "source": [
    "# !pip install -U pip setuptools wheel\n",
    "# !pip install -U spacy\n",
    "# !python -m spacy download en_core_web_sm"
   ]
  },
  {
   "cell_type": "code",
   "execution_count": 7,
   "id": "1c22da0a-be45-4878-b2b9-1732b5c7ef1e",
   "metadata": {},
   "outputs": [
    {
     "name": "stdout",
     "output_type": "stream",
     "text": [
      "Collecting en-core-web-sm==3.6.0\n",
      "  Downloading https://github.com/explosion/spacy-models/releases/download/en_core_web_sm-3.6.0/en_core_web_sm-3.6.0-py3-none-any.whl (12.8 MB)\n",
      "\u001b[2K     \u001b[90m━━━━━━━━━━━━━━━━━━━━━━━━━━━━━━━━━━━━━━━━\u001b[0m \u001b[32m12.8/12.8 MB\u001b[0m \u001b[31m90.4 MB/s\u001b[0m eta \u001b[36m0:00:00\u001b[0m00:01\u001b[0m0:01\u001b[0m\n",
      "\u001b[?25hRequirement already satisfied: spacy<3.7.0,>=3.6.0 in /opt/conda/lib/python3.10/site-packages (from en-core-web-sm==3.6.0) (3.6.0)\n",
      "Requirement already satisfied: spacy-legacy<3.1.0,>=3.0.11 in /opt/conda/lib/python3.10/site-packages (from spacy<3.7.0,>=3.6.0->en-core-web-sm==3.6.0) (3.0.12)\n",
      "Requirement already satisfied: spacy-loggers<2.0.0,>=1.0.0 in /opt/conda/lib/python3.10/site-packages (from spacy<3.7.0,>=3.6.0->en-core-web-sm==3.6.0) (1.0.4)\n",
      "Requirement already satisfied: murmurhash<1.1.0,>=0.28.0 in /opt/conda/lib/python3.10/site-packages (from spacy<3.7.0,>=3.6.0->en-core-web-sm==3.6.0) (1.0.9)\n",
      "Requirement already satisfied: cymem<2.1.0,>=2.0.2 in /opt/conda/lib/python3.10/site-packages (from spacy<3.7.0,>=3.6.0->en-core-web-sm==3.6.0) (2.0.7)\n",
      "Requirement already satisfied: preshed<3.1.0,>=3.0.2 in /opt/conda/lib/python3.10/site-packages (from spacy<3.7.0,>=3.6.0->en-core-web-sm==3.6.0) (3.0.8)\n",
      "Requirement already satisfied: thinc<8.2.0,>=8.1.8 in /opt/conda/lib/python3.10/site-packages (from spacy<3.7.0,>=3.6.0->en-core-web-sm==3.6.0) (8.1.12)\n",
      "Requirement already satisfied: wasabi<1.2.0,>=0.9.1 in /opt/conda/lib/python3.10/site-packages (from spacy<3.7.0,>=3.6.0->en-core-web-sm==3.6.0) (1.1.2)\n",
      "Requirement already satisfied: srsly<3.0.0,>=2.4.3 in /opt/conda/lib/python3.10/site-packages (from spacy<3.7.0,>=3.6.0->en-core-web-sm==3.6.0) (2.4.7)\n",
      "Requirement already satisfied: catalogue<2.1.0,>=2.0.6 in /opt/conda/lib/python3.10/site-packages (from spacy<3.7.0,>=3.6.0->en-core-web-sm==3.6.0) (2.0.9)\n",
      "Requirement already satisfied: typer<0.10.0,>=0.3.0 in /opt/conda/lib/python3.10/site-packages (from spacy<3.7.0,>=3.6.0->en-core-web-sm==3.6.0) (0.9.0)\n",
      "Requirement already satisfied: pathy>=0.10.0 in /opt/conda/lib/python3.10/site-packages (from spacy<3.7.0,>=3.6.0->en-core-web-sm==3.6.0) (0.10.2)\n",
      "Requirement already satisfied: smart-open<7.0.0,>=5.2.1 in /opt/conda/lib/python3.10/site-packages (from spacy<3.7.0,>=3.6.0->en-core-web-sm==3.6.0) (6.3.0)\n",
      "Requirement already satisfied: tqdm<5.0.0,>=4.38.0 in /opt/conda/lib/python3.10/site-packages (from spacy<3.7.0,>=3.6.0->en-core-web-sm==3.6.0) (4.65.0)\n",
      "Requirement already satisfied: numpy>=1.15.0 in /opt/conda/lib/python3.10/site-packages (from spacy<3.7.0,>=3.6.0->en-core-web-sm==3.6.0) (1.24.3)\n",
      "Requirement already satisfied: requests<3.0.0,>=2.13.0 in /opt/conda/lib/python3.10/site-packages (from spacy<3.7.0,>=3.6.0->en-core-web-sm==3.6.0) (2.31.0)\n",
      "Requirement already satisfied: pydantic!=1.8,!=1.8.1,<1.11.0,>=1.7.4 in /opt/conda/lib/python3.10/site-packages (from spacy<3.7.0,>=3.6.0->en-core-web-sm==3.6.0) (1.10.12)\n",
      "Requirement already satisfied: jinja2 in /opt/conda/lib/python3.10/site-packages (from spacy<3.7.0,>=3.6.0->en-core-web-sm==3.6.0) (3.1.2)\n",
      "Requirement already satisfied: setuptools in /opt/conda/lib/python3.10/site-packages (from spacy<3.7.0,>=3.6.0->en-core-web-sm==3.6.0) (68.0.0)\n",
      "Requirement already satisfied: packaging>=20.0 in /opt/conda/lib/python3.10/site-packages (from spacy<3.7.0,>=3.6.0->en-core-web-sm==3.6.0) (23.1)\n",
      "Requirement already satisfied: langcodes<4.0.0,>=3.2.0 in /opt/conda/lib/python3.10/site-packages (from spacy<3.7.0,>=3.6.0->en-core-web-sm==3.6.0) (3.3.0)\n",
      "Requirement already satisfied: typing-extensions>=4.2.0 in /opt/conda/lib/python3.10/site-packages (from pydantic!=1.8,!=1.8.1,<1.11.0,>=1.7.4->spacy<3.7.0,>=3.6.0->en-core-web-sm==3.6.0) (4.5.0)\n",
      "Requirement already satisfied: charset-normalizer<4,>=2 in /opt/conda/lib/python3.10/site-packages (from requests<3.0.0,>=2.13.0->spacy<3.7.0,>=3.6.0->en-core-web-sm==3.6.0) (3.2.0)\n",
      "Requirement already satisfied: idna<4,>=2.5 in /opt/conda/lib/python3.10/site-packages (from requests<3.0.0,>=2.13.0->spacy<3.7.0,>=3.6.0->en-core-web-sm==3.6.0) (3.4)\n",
      "Requirement already satisfied: urllib3<3,>=1.21.1 in /opt/conda/lib/python3.10/site-packages (from requests<3.0.0,>=2.13.0->spacy<3.7.0,>=3.6.0->en-core-web-sm==3.6.0) (1.26.16)\n",
      "Requirement already satisfied: certifi>=2017.4.17 in /opt/conda/lib/python3.10/site-packages (from requests<3.0.0,>=2.13.0->spacy<3.7.0,>=3.6.0->en-core-web-sm==3.6.0) (2023.7.22)\n",
      "Requirement already satisfied: blis<0.8.0,>=0.7.8 in /opt/conda/lib/python3.10/site-packages (from thinc<8.2.0,>=8.1.8->spacy<3.7.0,>=3.6.0->en-core-web-sm==3.6.0) (0.7.10)\n",
      "Requirement already satisfied: confection<1.0.0,>=0.0.1 in /opt/conda/lib/python3.10/site-packages (from thinc<8.2.0,>=8.1.8->spacy<3.7.0,>=3.6.0->en-core-web-sm==3.6.0) (0.1.1)\n",
      "Requirement already satisfied: click<9.0.0,>=7.1.1 in /opt/conda/lib/python3.10/site-packages (from typer<0.10.0,>=0.3.0->spacy<3.7.0,>=3.6.0->en-core-web-sm==3.6.0) (8.1.6)\n",
      "Requirement already satisfied: MarkupSafe>=2.0 in /opt/conda/lib/python3.10/site-packages (from jinja2->spacy<3.7.0,>=3.6.0->en-core-web-sm==3.6.0) (2.1.3)\n",
      "Installing collected packages: en-core-web-sm\n",
      "Successfully installed en-core-web-sm-3.6.0\n",
      "\u001b[33mWARNING: Running pip as the 'root' user can result in broken permissions and conflicting behaviour with the system package manager. It is recommended to use a virtual environment instead: https://pip.pypa.io/warnings/venv\u001b[0m\u001b[33m\n",
      "\u001b[0m\u001b[38;5;2m✔ Download and installation successful\u001b[0m\n",
      "You can now load the package via spacy.load('en_core_web_sm')\n"
     ]
    }
   ],
   "source": [
    "!python -m spacy download en_core_web_sm"
   ]
  },
  {
   "cell_type": "markdown",
   "id": "af1d7476-fa97-404b-996f-243d532ec745",
   "metadata": {},
   "source": [
    "### Cleaning to find ORG's in News Text"
   ]
  },
  {
   "cell_type": "code",
   "execution_count": 8,
   "id": "ef692e2c-b8b2-4285-a5dd-31003038189e",
   "metadata": {},
   "outputs": [
    {
     "name": "stdout",
     "output_type": "stream",
     "text": [
      "INFO: Pandarallel will run on 8 workers.\n",
      "INFO: Pandarallel will use standard multiprocessing data transfer (pipe) to transfer data between the main process and workers.\n"
     ]
    }
   ],
   "source": [
    "pandarallel.initialize(progress_bar=True, use_memory_fs=False)"
   ]
  },
  {
   "cell_type": "code",
   "execution_count": 9,
   "id": "0c3e4425-4c3a-4c1b-b136-86fe854f9b1b",
   "metadata": {},
   "outputs": [],
   "source": [
    "df_final5 = df_final5.drop(['relevant','tokens','url','language'],axis=1)"
   ]
  },
  {
   "cell_type": "code",
   "execution_count": 10,
   "id": "b08099d2-1092-4496-9a40-ee8052003a59",
   "metadata": {},
   "outputs": [],
   "source": [
    "df_final5['NER_clean'] = df_final5['cleaned'].apply(lambda x: re.sub(r'[^\\w\\s.,]', '', x))"
   ]
  },
  {
   "cell_type": "code",
   "execution_count": 11,
   "id": "b81bfed0-28b4-422c-9cf4-eb89bfb2727d",
   "metadata": {},
   "outputs": [],
   "source": [
    "df_final5['NER_clean'] = df_final5['NER_clean'].str.replace('\\d+', '', regex=True)"
   ]
  },
  {
   "cell_type": "code",
   "execution_count": 12,
   "id": "8cbfdd02-6ad8-40bb-8312-6f31d015a30a",
   "metadata": {},
   "outputs": [],
   "source": [
    "df_final5['NER_clean'] = df_final5['NER_clean'].apply(lambda x: re.sub(r'{So}', '', x))"
   ]
  },
  {
   "cell_type": "code",
   "execution_count": 13,
   "id": "3086900f-e76b-4395-b1dc-1792f1526177",
   "metadata": {},
   "outputs": [],
   "source": [
    "df_final5['NER_clean'] = df_final5['NER_clean'].str.strip()"
   ]
  },
  {
   "cell_type": "code",
   "execution_count": 14,
   "id": "8311bcdc-cc89-4825-8353-732c8a20bf2b",
   "metadata": {},
   "outputs": [],
   "source": [
    "df_final5['year'] = df_final5['date'].dt.year"
   ]
  },
  {
   "cell_type": "code",
   "execution_count": 15,
   "id": "0b837625-e68c-42ee-a85f-1d1b3457c29b",
   "metadata": {},
   "outputs": [
    {
     "data": {
      "text/plain": [
       "year\n",
       "2023    100465\n",
       "2022     22879\n",
       "2021     19093\n",
       "2020     15189\n",
       "2024      5695\n",
       "Name: count, dtype: int64"
      ]
     },
     "execution_count": 15,
     "metadata": {},
     "output_type": "execute_result"
    }
   ],
   "source": [
    "df_final5['year'].value_counts()"
   ]
  },
  {
   "cell_type": "markdown",
   "id": "d875f96c-1065-4354-a153-e400ac7f559d",
   "metadata": {},
   "source": [
    "### NER to Find ORG and Person in News text"
   ]
  },
  {
   "cell_type": "code",
   "execution_count": 16,
   "id": "c6de2cff-be36-4a86-9658-6fb654462392",
   "metadata": {},
   "outputs": [],
   "source": [
    "nlp = spacy.load(\"en_core_web_sm\")"
   ]
  },
  {
   "cell_type": "code",
   "execution_count": 17,
   "id": "aea840f9-8a56-4e99-875e-004d00a4d4fa",
   "metadata": {},
   "outputs": [],
   "source": [
    "df_final5 = df_final5.drop(['no_tokens','percentage'],axis=1)"
   ]
  },
  {
   "cell_type": "code",
   "execution_count": 18,
   "id": "964b9c60-cb14-450f-b46d-38c33ab4cdb0",
   "metadata": {},
   "outputs": [
    {
     "data": {
      "application/vnd.jupyter.widget-view+json": {
       "model_id": "8a4a8bdea431488e9dac0509274a9b92",
       "version_major": 2,
       "version_minor": 0
      },
      "text/plain": [
       "VBox(children=(HBox(children=(IntProgress(value=0, description='0.00%', max=20416), Label(value='0 / 20416')))…"
      ]
     },
     "metadata": {},
     "output_type": "display_data"
    }
   ],
   "source": [
    "def extract_entities(text):\n",
    "    doc = nlp(text)\n",
    "    entities = [ent.text for ent in doc.ents if ent.label_ == \"ORG\"]\n",
    "    return entities\n",
    "\n",
    "df_final5['ORG_Ent'] = df_final5['NER_clean'].parallel_apply(extract_entities)"
   ]
  },
  {
   "cell_type": "code",
   "execution_count": 19,
   "id": "3bccd6a7-24f9-4b5f-8285-3dadaa654f71",
   "metadata": {},
   "outputs": [
    {
     "data": {
      "application/vnd.jupyter.widget-view+json": {
       "model_id": "f04ab7e6088946c6973fcb800490690e",
       "version_major": 2,
       "version_minor": 0
      },
      "text/plain": [
       "VBox(children=(HBox(children=(IntProgress(value=0, description='0.00%', max=20416), Label(value='0 / 20416')))…"
      ]
     },
     "metadata": {},
     "output_type": "display_data"
    },
    {
     "name": "stdout",
     "output_type": "stream",
     "text": [
      "CPU times: user 2min 41s, sys: 35 s, total: 3min 16s\n",
      "Wall time: 1h 12min 38s\n"
     ]
    }
   ],
   "source": [
    "%%time\n",
    "def extract_entities(text):\n",
    "    doc = nlp(text)\n",
    "    entities = [ent.text for ent in doc.ents if ent.label_ == \"Person\"]\n",
    "    return entities\n",
    "\n",
    "df_final5['Person_Ent'] = df_final5['NER_clean'].parallel_apply(extract_entities)"
   ]
  },
  {
   "cell_type": "code",
   "execution_count": 20,
   "id": "c7c9b811-0fe2-436a-8895-6a543eeaa037",
   "metadata": {},
   "outputs": [],
   "source": [
    "df_final5 = df_final5.drop('NER_clean',axis=1)"
   ]
  },
  {
   "cell_type": "code",
   "execution_count": 27,
   "id": "ef53a82f-cb31-4f9c-8a2f-466d31ccf4f4",
   "metadata": {},
   "outputs": [
    {
     "data": {
      "text/html": [
       "<div>\n",
       "<style scoped>\n",
       "    .dataframe tbody tr th:only-of-type {\n",
       "        vertical-align: middle;\n",
       "    }\n",
       "\n",
       "    .dataframe tbody tr th {\n",
       "        vertical-align: top;\n",
       "    }\n",
       "\n",
       "    .dataframe thead th {\n",
       "        text-align: right;\n",
       "    }\n",
       "</style>\n",
       "<table border=\"1\" class=\"dataframe\">\n",
       "  <thead>\n",
       "    <tr style=\"text-align: right;\">\n",
       "      <th></th>\n",
       "      <th>date</th>\n",
       "      <th>title</th>\n",
       "      <th>text</th>\n",
       "      <th>year</th>\n",
       "      <th>cleaned</th>\n",
       "      <th>clean_title</th>\n",
       "      <th>ORG_Ent</th>\n",
       "      <th>Person_Ent</th>\n",
       "    </tr>\n",
       "  </thead>\n",
       "  <tbody>\n",
       "    <tr>\n",
       "      <th>0</th>\n",
       "      <td>2020-02-26</td>\n",
       "      <td>LegalTech Artificial Intelligence Market 2019 Technology Advancement and Future Scope – Casetext Inc., Catalyst Repository Systems, eBREVIA – Galus Australis</td>\n",
       "      <td>LegalTech Artificial Intelligence Market 2019 Technology Advancement and Future Scope – Casetext Inc., Catalyst Repository Systems, eBREVIA – Galus Australis          \\n\\nGalus Australis\\n\\nBusinessGeneral NewsHealthcareIndustryInternationalLifestyleSci-Tech\\n\\nWednesday, February 26 2020\\n\\nTrending\\n\\nNeedle Counters Market Comprehensive Study by Companies Medline Industries, Boen Healthcare\\nSkin Scrub Trays Market Comprehensive Study by Companies Medline Industries, BD, Deroyal\\nGlobal P...</td>\n",
       "      <td>2020</td>\n",
       "      <td>LegalTech Artificial Intelligence Market 2019 Technology Advancement and Future Scope   Casetext Inc., Catalyst Repository Systems, eBREVIA   Galus Australis           Galus Australis BusinessGeneral NewsHealthcareIndustryInternationalLifestyleSci-Tech Wednesday, February 26 2020 Trending Needle Counters Market Comprehensive Study by Companies Medline Industries, Boen Healthcare Skin Scrub Trays Market Comprehensive Study by Companies Medline Industries, BD, Deroyal Global Portable Handheld ...</td>\n",
       "      <td>LegalTech Artificial Intelligence Market 2019 Technology Advancement and Future Scope   Casetext Inc., Catalyst Repository Systems, eBREVIA   Galus Australis           Galus Australis BusinessGeneral NewsHealthcareIndustryInternationalLifestyleSci-Tech Wednesday, February 26 2020 Trending Needle Counters Market Comprehensive Study by Companies Medline Industries, Boen Healthcare Skin Scrub Trays Market Comprehensive Study by Companies Medline Industries, BD, Deroyal Global Portable Handheld ...</td>\n",
       "      <td>[LegalTech Artificial Intelligence Market  Technology Advancement and Future Scope, Casetext Inc., Catalyst Repository Systems, Companies Medline Industries, Boen Healthcare Skin Scrub Trays Market Comprehensive Study, Companies Medline Industries, Sony, Roche Diagnostics Veterinary Dental Xray Generators Market Comprehensive Study, Gowllands Limited, Nasiff Associates Veterinary Test Strips Market Comprehensive Study, Companies Analyticon Biotechnologies, Heska, Jorgensen Laboratories Anima...</td>\n",
       "      <td>[]</td>\n",
       "    </tr>\n",
       "    <tr>\n",
       "      <th>4</th>\n",
       "      <td>2020-08-07</td>\n",
       "      <td>Two dead as AI Express flight skids off Kozhikode airport</td>\n",
       "      <td>Two dead as AI Express flight skids off Kozhikode airportTopLoginSubscribeToggle navigationFeaturesDelhiKolkataNationOpinionEditorialBusinessSportsSunday PostBeyond BygoneEpic PowerIn RetrospectGlobal EyeInlandRoutesBeaconInsightGame OnSafariTrendingCandid TalkGastronomyFact FilesMapping the states of IndiaX/sunday-post/beyond-bygone/sunday-post/epic-power/fact-files/ians-feeds/sundaypost/in-retrospect/mapping-the-states-of-india/puja-special/Reminiscence/sponsored/sundaypost/global-eye/feat...</td>\n",
       "      <td>2020</td>\n",
       "      <td>Two dead as AI Express flight skids off Kozhikode airportTop  Toggle navigationFeaturesDelhiKolkataNationOpinionEditorialBusinessSportsSunday PostBeyond BygoneEpic PowerIn RetrospectGlobal EyeInlandRoutesBeaconInsightGame OnSafariTrendingCandid TalkGastronomyFact FilesMapping the states of IndiaX/sunday-post/beyond-bygone/sunday-post/epic-power/fact-files/ians-feeds/sundaypost/in-retrospect/mapping-the-states-of-india/puja-special/Reminiscence/ /sundaypost/global-eye/features/nation/world/te...</td>\n",
       "      <td>Two dead as AI Express flight skids off Kozhikode airportTopLoginSubscribeToggle navigationFeaturesDelhiKolkataNationOpinionEditorialBusinessSportsSunday PostBeyond BygoneEpic PowerIn RetrospectGlobal EyeInlandRoutesBeaconInsightGame OnSafariTrendingCandid TalkGastronomyFact FilesMapping the states of IndiaX/sunday-post/beyond-bygone/sunday-post/epic-power/fact-files/ians-feeds/sundaypost/in-retrospect/mapping-the-states-of-india/puja-special/Reminiscence/sponsored/sundaypost/global-eye/feat...</td>\n",
       "      <td>[AI Express, PostBeyond BygoneEpic PowerIn RetrospectGlobal, AI Express, Kozhikode, AI Express, Kozhikode airportXIANS, Air India Express, Local Self Government, MoreLatest News]</td>\n",
       "      <td>[]</td>\n",
       "    </tr>\n",
       "    <tr>\n",
       "      <th>7</th>\n",
       "      <td>2021-02-25</td>\n",
       "      <td>MulticoreWare Inc. Becomes CEVA’s Trusted Partner for Imaging &amp; Computer Vision – Consumer Electronics Net</td>\n",
       "      <td>\\n\\nMulticoreWare Inc. Becomes CEVA’s Trusted Partner for Imaging &amp; Computer Vision – Consumer Electronics Net\\n\\n \\nSkip to content\\n\\nConsumer Electronics Net\\n\\nPrimary Menu\\n\\nConsumer Electronics Net\\n\\nSearch for:\\n \\nHomeNewsMulticoreWare Inc. Becomes CEVA’s Trusted Partner for Imaging &amp; Computer Vision \\n \\n                                 News\\n                             \\n \\nMulticoreWare Inc. Becomes CEVA’s Trusted Partner for Imaging &amp; Computer Vision\\n                    13 mi...</td>\n",
       "      <td>2021</td>\n",
       "      <td>MulticoreWare Inc. Becomes CEVA s Trusted Partner for Imaging &amp; Computer Vision   Consumer Electronics Net   Skip to content Consumer Electronics Net Primary Menu Consumer Electronics Net   for:   HomeNewsMulticoreWare Inc. Becomes CEVA s Trusted Partner for Imaging &amp; Computer Vision                                     News                                 MulticoreWare Inc. Becomes CEVA s Trusted Partner for Imaging &amp; Computer Vision                     13 mins ago               MulticoreWar...</td>\n",
       "      <td>MulticoreWare Inc. Becomes CEVA s Trusted Partner for Imaging &amp; Computer Vision   Consumer Electronics Net   Skip to content Consumer Electronics Net Primary Menu Consumer Electronics Net Search for:   HomeNewsMulticoreWare Inc. Becomes CEVA s Trusted Partner for Imaging &amp; Computer Vision                                     News                                 MulticoreWare Inc. Becomes CEVA s Trusted Partner for Imaging &amp; Computer Vision                     13 mins ago               Multico...</td>\n",
       "      <td>[MulticoreWare Inc., Trusted Partner for Imaging  Computer Vision, Consumer Electronics Net Primary Menu Consumer Electronics Net, Trusted Partner for Imaging  Computer Vision                                     News                                 , Trusted Partner for Imaging  Computer Vision                      , MulticoreWare Inc., IP, MulticoreWare Inc., Digital Signal Processors, AI, SDK, MulticoreWare, SensPro, the CEVA Deep Neural Network CDNN Engine, DSP, Automotive ADAS, Home Secu...</td>\n",
       "      <td>[]</td>\n",
       "    </tr>\n",
       "    <tr>\n",
       "      <th>8</th>\n",
       "      <td>2022-10-06</td>\n",
       "      <td>Healthcare Artificial Intelligence Market Analysis and Forecast for Next 5 Years</td>\n",
       "      <td>\\n\\nHealthcare Artificial Intelligence Market Analysis and Forecast for Next 5 Years\\n \\n\\n \\n\\nSBWire\\nSign Up\\nLogin\\n\\nOur Service\\nPlans &amp; Pricing\\nNewsroom\\nHelp\\nAbout\\n\\nAMA Research &amp;amp; Media LLP Email Alerts| RSS  \\n\\nHealthcare Artificial Intelligence Market Next Big Thing : Major Giants- General Electric, Medtronic, AiCure, APIXIO\\nHealthcare Artificial Intelligence Market 2022-2028\\n \\n\\nNew Jersey, USA -- (SBWIRE) -- 10/05/2022 --  Advance Market Analytics published a new rese...</td>\n",
       "      <td>2022</td>\n",
       "      <td>Healthcare Artificial Intelligence Market Analysis and Forecast for Next 5 Years     SBWire Sign Up   Our Service Plans &amp; Pricing Newsroom Help About AMA Re  &amp;amp; Media LLP Email Alerts| RSS   Healthcare Artificial Intelligence Market Next Big Thing : Major Giants- General Electric, Medtronic, AiCure, APIXIO Healthcare Artificial Intelligence Market 2022-2028   New Jersey, USA -- (SBWIRE) -- 10/05/2022 --  Advance Market Analytics published a new re  publication on \"Healthcare Artificial In...</td>\n",
       "      <td>Healthcare Artificial Intelligence Market Analysis and Forecast for Next 5 Years     SBWire Sign Up Login Our Service Plans &amp; Pricing Newsroom Help About AMA Research &amp;amp; Media LLP Email Alerts| RSS   Healthcare Artificial Intelligence Market Next Big Thing : Major Giants- General Electric, Medtronic, AiCure, APIXIO Healthcare Artificial Intelligence Market 2022-2028   New Jersey, USA -- (SBWIRE) -- 10/05/2022 --  Advance Market Analytics published a new research publication on \"Healthcare...</td>\n",
       "      <td>[Healthcare Artificial Intelligence Market Analysis, RSS, Healthcare Artificial Intelligence Market, Giants General Electric, Medtronic, AiCure, APIXIO Healthcare Artificial Intelligence Market    , Healthcare Artificial Intelligence Market Insights, Drivers, Restraints, Opportunities, the Healthcare Artificial Intelligence, RD, Siemens Healthineers Germany, Micron Technology United States, General Electric United States, APIXIO, Butterfly Network, Inc, the Report of Healthcare Artificial In...</td>\n",
       "      <td>[]</td>\n",
       "    </tr>\n",
       "    <tr>\n",
       "      <th>9</th>\n",
       "      <td>2020-04-29</td>\n",
       "      <td>Artificial Intelligence As A Service Market : Opportunities, Market Analysis &amp; Outlook To 2027 – 3w Market News Reports</td>\n",
       "      <td>\\n\\nArtificial Intelligence As A Service Market : Opportunities, Market Analysis &amp; Outlook To 2027 – 3w Market News Reports\\n\\n \\n\\n \\nContact Us\\nAbout Us\\n \\n3w Market News Reports\\n3rd Market Reports and Analytics\\nNews\\nMarket Reports\\nIndustry Analytics\\nIndustry Reports\\nMarket Research\\nBusiness Opportunity\\nEmerging Trends\\nGrowth Prospects\\n \\n \\n \\nHomeIndustryArtificial Intelligence As A Service Market : Opportunities, Market Analysis &amp; Outlook To 2027 \\n\\n                Artifici...</td>\n",
       "      <td>2020</td>\n",
       "      <td>Artificial Intelligence As A Service Market : Opportunities, Market Analysis &amp; Outlook To 2027   3w Market News Reports           3w Market News Reports 3rd Market Reports and Analytics News Market Reports Industry Analytics Industry Reports Market Re  Business Opportunity Emerging Trends Growth Prospects       HomeIndustryArtificial Intelligence As A Service Market : Opportunities, Market Analysis &amp; Outlook To 2027                  Artificial Intelligence As A Service Market : Opportunities...</td>\n",
       "      <td>Artificial Intelligence As A Service Market : Opportunities, Market Analysis &amp; Outlook To 2027   3w Market News Reports     Contact Us About Us   3w Market News Reports 3rd Market Reports and Analytics News Market Reports Industry Analytics Industry Reports Market Research Business Opportunity Emerging Trends Growth Prospects       HomeIndustryArtificial Intelligence As A Service Market : Opportunities, Market Analysis &amp; Outlook To 2027                  Artificial Intelligence As A Service M...</td>\n",
       "      <td>[Artificial Intelligence As A Service Market, the Market Size, the Artificial Intelligence As A Service, the Artificial Intelligence As A Service, IBM, Google, Amazon Web Services, Microsoft, FICO, SAS Institute, Intel, SAP, PDF, Tables, Artificial Intelligence, Contents Scope, the Artificial Intelligence As A Service Market, the Artificial Intelligence As A Service Industry, the Artificial Intelligence As A Service Market, The Artificial Intelligence As A Service Market, Artificial Intellig...</td>\n",
       "      <td>[]</td>\n",
       "    </tr>\n",
       "  </tbody>\n",
       "</table>\n",
       "</div>"
      ],
      "text/plain": [
       "        date  \\\n",
       "0 2020-02-26   \n",
       "4 2020-08-07   \n",
       "7 2021-02-25   \n",
       "8 2022-10-06   \n",
       "9 2020-04-29   \n",
       "\n",
       "                                                                                                                                                           title  \\\n",
       "0  LegalTech Artificial Intelligence Market 2019 Technology Advancement and Future Scope – Casetext Inc., Catalyst Repository Systems, eBREVIA – Galus Australis   \n",
       "4                                                                                                      Two dead as AI Express flight skids off Kozhikode airport   \n",
       "7                                                     MulticoreWare Inc. Becomes CEVA’s Trusted Partner for Imaging & Computer Vision – Consumer Electronics Net   \n",
       "8                                                                               Healthcare Artificial Intelligence Market Analysis and Forecast for Next 5 Years   \n",
       "9                                        Artificial Intelligence As A Service Market : Opportunities, Market Analysis & Outlook To 2027 – 3w Market News Reports   \n",
       "\n",
       "                                                                                                                                                                                                                                                                                                                                                                                                                                                                                                                  text  \\\n",
       "0  LegalTech Artificial Intelligence Market 2019 Technology Advancement and Future Scope – Casetext Inc., Catalyst Repository Systems, eBREVIA – Galus Australis          \\n\\nGalus Australis\\n\\nBusinessGeneral NewsHealthcareIndustryInternationalLifestyleSci-Tech\\n\\nWednesday, February 26 2020\\n\\nTrending\\n\\nNeedle Counters Market Comprehensive Study by Companies Medline Industries, Boen Healthcare\\nSkin Scrub Trays Market Comprehensive Study by Companies Medline Industries, BD, Deroyal\\nGlobal P...   \n",
       "4  Two dead as AI Express flight skids off Kozhikode airportTopLoginSubscribeToggle navigationFeaturesDelhiKolkataNationOpinionEditorialBusinessSportsSunday PostBeyond BygoneEpic PowerIn RetrospectGlobal EyeInlandRoutesBeaconInsightGame OnSafariTrendingCandid TalkGastronomyFact FilesMapping the states of IndiaX/sunday-post/beyond-bygone/sunday-post/epic-power/fact-files/ians-feeds/sundaypost/in-retrospect/mapping-the-states-of-india/puja-special/Reminiscence/sponsored/sundaypost/global-eye/feat...   \n",
       "7  \\n\\nMulticoreWare Inc. Becomes CEVA’s Trusted Partner for Imaging & Computer Vision – Consumer Electronics Net\\n\\n \\nSkip to content\\n\\nConsumer Electronics Net\\n\\nPrimary Menu\\n\\nConsumer Electronics Net\\n\\nSearch for:\\n \\nHomeNewsMulticoreWare Inc. Becomes CEVA’s Trusted Partner for Imaging & Computer Vision \\n \\n                                 News\\n                             \\n \\nMulticoreWare Inc. Becomes CEVA’s Trusted Partner for Imaging & Computer Vision\\n                    13 mi...   \n",
       "8  \\n\\nHealthcare Artificial Intelligence Market Analysis and Forecast for Next 5 Years\\n \\n\\n \\n\\nSBWire\\nSign Up\\nLogin\\n\\nOur Service\\nPlans & Pricing\\nNewsroom\\nHelp\\nAbout\\n\\nAMA Research &amp; Media LLP Email Alerts| RSS  \\n\\nHealthcare Artificial Intelligence Market Next Big Thing : Major Giants- General Electric, Medtronic, AiCure, APIXIO\\nHealthcare Artificial Intelligence Market 2022-2028\\n \\n\\nNew Jersey, USA -- (SBWIRE) -- 10/05/2022 --  Advance Market Analytics published a new rese...   \n",
       "9  \\n\\nArtificial Intelligence As A Service Market : Opportunities, Market Analysis & Outlook To 2027 – 3w Market News Reports\\n\\n \\n\\n \\nContact Us\\nAbout Us\\n \\n3w Market News Reports\\n3rd Market Reports and Analytics\\nNews\\nMarket Reports\\nIndustry Analytics\\nIndustry Reports\\nMarket Research\\nBusiness Opportunity\\nEmerging Trends\\nGrowth Prospects\\n \\n \\n \\nHomeIndustryArtificial Intelligence As A Service Market : Opportunities, Market Analysis & Outlook To 2027 \\n\\n                Artifici...   \n",
       "\n",
       "   year  \\\n",
       "0  2020   \n",
       "4  2020   \n",
       "7  2021   \n",
       "8  2022   \n",
       "9  2020   \n",
       "\n",
       "                                                                                                                                                                                                                                                                                                                                                                                                                                                                                                               cleaned  \\\n",
       "0  LegalTech Artificial Intelligence Market 2019 Technology Advancement and Future Scope   Casetext Inc., Catalyst Repository Systems, eBREVIA   Galus Australis           Galus Australis BusinessGeneral NewsHealthcareIndustryInternationalLifestyleSci-Tech Wednesday, February 26 2020 Trending Needle Counters Market Comprehensive Study by Companies Medline Industries, Boen Healthcare Skin Scrub Trays Market Comprehensive Study by Companies Medline Industries, BD, Deroyal Global Portable Handheld ...   \n",
       "4  Two dead as AI Express flight skids off Kozhikode airportTop  Toggle navigationFeaturesDelhiKolkataNationOpinionEditorialBusinessSportsSunday PostBeyond BygoneEpic PowerIn RetrospectGlobal EyeInlandRoutesBeaconInsightGame OnSafariTrendingCandid TalkGastronomyFact FilesMapping the states of IndiaX/sunday-post/beyond-bygone/sunday-post/epic-power/fact-files/ians-feeds/sundaypost/in-retrospect/mapping-the-states-of-india/puja-special/Reminiscence/ /sundaypost/global-eye/features/nation/world/te...   \n",
       "7  MulticoreWare Inc. Becomes CEVA s Trusted Partner for Imaging & Computer Vision   Consumer Electronics Net   Skip to content Consumer Electronics Net Primary Menu Consumer Electronics Net   for:   HomeNewsMulticoreWare Inc. Becomes CEVA s Trusted Partner for Imaging & Computer Vision                                     News                                 MulticoreWare Inc. Becomes CEVA s Trusted Partner for Imaging & Computer Vision                     13 mins ago               MulticoreWar...   \n",
       "8  Healthcare Artificial Intelligence Market Analysis and Forecast for Next 5 Years     SBWire Sign Up   Our Service Plans & Pricing Newsroom Help About AMA Re  &amp; Media LLP Email Alerts| RSS   Healthcare Artificial Intelligence Market Next Big Thing : Major Giants- General Electric, Medtronic, AiCure, APIXIO Healthcare Artificial Intelligence Market 2022-2028   New Jersey, USA -- (SBWIRE) -- 10/05/2022 --  Advance Market Analytics published a new re  publication on \"Healthcare Artificial In...   \n",
       "9  Artificial Intelligence As A Service Market : Opportunities, Market Analysis & Outlook To 2027   3w Market News Reports           3w Market News Reports 3rd Market Reports and Analytics News Market Reports Industry Analytics Industry Reports Market Re  Business Opportunity Emerging Trends Growth Prospects       HomeIndustryArtificial Intelligence As A Service Market : Opportunities, Market Analysis & Outlook To 2027                  Artificial Intelligence As A Service Market : Opportunities...   \n",
       "\n",
       "                                                                                                                                                                                                                                                                                                                                                                                                                                                                                                           clean_title  \\\n",
       "0  LegalTech Artificial Intelligence Market 2019 Technology Advancement and Future Scope   Casetext Inc., Catalyst Repository Systems, eBREVIA   Galus Australis           Galus Australis BusinessGeneral NewsHealthcareIndustryInternationalLifestyleSci-Tech Wednesday, February 26 2020 Trending Needle Counters Market Comprehensive Study by Companies Medline Industries, Boen Healthcare Skin Scrub Trays Market Comprehensive Study by Companies Medline Industries, BD, Deroyal Global Portable Handheld ...   \n",
       "4  Two dead as AI Express flight skids off Kozhikode airportTopLoginSubscribeToggle navigationFeaturesDelhiKolkataNationOpinionEditorialBusinessSportsSunday PostBeyond BygoneEpic PowerIn RetrospectGlobal EyeInlandRoutesBeaconInsightGame OnSafariTrendingCandid TalkGastronomyFact FilesMapping the states of IndiaX/sunday-post/beyond-bygone/sunday-post/epic-power/fact-files/ians-feeds/sundaypost/in-retrospect/mapping-the-states-of-india/puja-special/Reminiscence/sponsored/sundaypost/global-eye/feat...   \n",
       "7  MulticoreWare Inc. Becomes CEVA s Trusted Partner for Imaging & Computer Vision   Consumer Electronics Net   Skip to content Consumer Electronics Net Primary Menu Consumer Electronics Net Search for:   HomeNewsMulticoreWare Inc. Becomes CEVA s Trusted Partner for Imaging & Computer Vision                                     News                                 MulticoreWare Inc. Becomes CEVA s Trusted Partner for Imaging & Computer Vision                     13 mins ago               Multico...   \n",
       "8  Healthcare Artificial Intelligence Market Analysis and Forecast for Next 5 Years     SBWire Sign Up Login Our Service Plans & Pricing Newsroom Help About AMA Research &amp; Media LLP Email Alerts| RSS   Healthcare Artificial Intelligence Market Next Big Thing : Major Giants- General Electric, Medtronic, AiCure, APIXIO Healthcare Artificial Intelligence Market 2022-2028   New Jersey, USA -- (SBWIRE) -- 10/05/2022 --  Advance Market Analytics published a new research publication on \"Healthcare...   \n",
       "9  Artificial Intelligence As A Service Market : Opportunities, Market Analysis & Outlook To 2027   3w Market News Reports     Contact Us About Us   3w Market News Reports 3rd Market Reports and Analytics News Market Reports Industry Analytics Industry Reports Market Research Business Opportunity Emerging Trends Growth Prospects       HomeIndustryArtificial Intelligence As A Service Market : Opportunities, Market Analysis & Outlook To 2027                  Artificial Intelligence As A Service M...   \n",
       "\n",
       "                                                                                                                                                                                                                                                                                                                                                                                                                                                                                                               ORG_Ent  \\\n",
       "0  [LegalTech Artificial Intelligence Market  Technology Advancement and Future Scope, Casetext Inc., Catalyst Repository Systems, Companies Medline Industries, Boen Healthcare Skin Scrub Trays Market Comprehensive Study, Companies Medline Industries, Sony, Roche Diagnostics Veterinary Dental Xray Generators Market Comprehensive Study, Gowllands Limited, Nasiff Associates Veterinary Test Strips Market Comprehensive Study, Companies Analyticon Biotechnologies, Heska, Jorgensen Laboratories Anima...   \n",
       "4                                                                                                                                                                                                                                                                                                                                   [AI Express, PostBeyond BygoneEpic PowerIn RetrospectGlobal, AI Express, Kozhikode, AI Express, Kozhikode airportXIANS, Air India Express, Local Self Government, MoreLatest News]   \n",
       "7  [MulticoreWare Inc., Trusted Partner for Imaging  Computer Vision, Consumer Electronics Net Primary Menu Consumer Electronics Net, Trusted Partner for Imaging  Computer Vision                                     News                                 , Trusted Partner for Imaging  Computer Vision                      , MulticoreWare Inc., IP, MulticoreWare Inc., Digital Signal Processors, AI, SDK, MulticoreWare, SensPro, the CEVA Deep Neural Network CDNN Engine, DSP, Automotive ADAS, Home Secu...   \n",
       "8  [Healthcare Artificial Intelligence Market Analysis, RSS, Healthcare Artificial Intelligence Market, Giants General Electric, Medtronic, AiCure, APIXIO Healthcare Artificial Intelligence Market    , Healthcare Artificial Intelligence Market Insights, Drivers, Restraints, Opportunities, the Healthcare Artificial Intelligence, RD, Siemens Healthineers Germany, Micron Technology United States, General Electric United States, APIXIO, Butterfly Network, Inc, the Report of Healthcare Artificial In...   \n",
       "9  [Artificial Intelligence As A Service Market, the Market Size, the Artificial Intelligence As A Service, the Artificial Intelligence As A Service, IBM, Google, Amazon Web Services, Microsoft, FICO, SAS Institute, Intel, SAP, PDF, Tables, Artificial Intelligence, Contents Scope, the Artificial Intelligence As A Service Market, the Artificial Intelligence As A Service Industry, the Artificial Intelligence As A Service Market, The Artificial Intelligence As A Service Market, Artificial Intellig...   \n",
       "\n",
       "  Person_Ent  \n",
       "0         []  \n",
       "4         []  \n",
       "7         []  \n",
       "8         []  \n",
       "9         []  "
      ]
     },
     "execution_count": 27,
     "metadata": {},
     "output_type": "execute_result"
    }
   ],
   "source": [
    "df_final5.head(5)"
   ]
  },
  {
   "cell_type": "markdown",
   "id": "d85589ef-f05d-479e-a167-0e883354ac67",
   "metadata": {},
   "source": [
    "### Saving the NER Dataframe"
   ]
  },
  {
   "cell_type": "code",
   "execution_count": 28,
   "id": "b1737646-ef6f-42cf-b1ab-ad8d37874a48",
   "metadata": {},
   "outputs": [],
   "source": [
    "df_final5.to_parquet('gs://nlp_finalproject/NER_Clean.parquet')"
   ]
  }
 ],
 "metadata": {
  "environment": {
   "kernel": "python3",
   "name": ".m117",
   "type": "gcloud",
   "uri": "us-docker.pkg.dev/deeplearning-platform-release/gcr.io/:m117"
  },
  "kernelspec": {
   "display_name": "Python 3 (ipykernel)",
   "language": "python",
   "name": "python3"
  },
  "language_info": {
   "codemirror_mode": {
    "name": "ipython",
    "version": 3
   },
   "file_extension": ".py",
   "mimetype": "text/x-python",
   "name": "python",
   "nbconvert_exporter": "python",
   "pygments_lexer": "ipython3",
   "version": "3.10.12"
  }
 },
 "nbformat": 4,
 "nbformat_minor": 5
}
